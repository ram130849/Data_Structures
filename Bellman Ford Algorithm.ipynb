{
 "cells": [
  {
   "cell_type": "code",
   "execution_count": 11,
   "metadata": {},
   "outputs": [],
   "source": [
    "graph1 = [[(1, 2), (2, 1)], [(3, 1)], [(1, 2), (3, 5)], [(4, 3)], []]\n",
    "\n",
    "graph2 = {0:{(1, 5)}, 1:{(2, 20), (5, 30), (6, 60)}, 2:{(3, 10), (4, 75)}, 3: {(2, -15)}, 4: {(9, 100)}, 5:{(4, 25), (6, 5), (8, 50)\n",
    "                                                                                                          }, 6:{(7, -50)}, 7:{(8, -10)}, 8:{}, 9:{}}"
   ]
  },
  {
   "cell_type": "code",
   "execution_count": 15,
   "metadata": {},
   "outputs": [
    {
     "data": {
      "text/plain": [
       "[0, 5, -65, -55, 10, 35, 40, -10, -20, 115]"
      ]
     },
     "execution_count": 15,
     "metadata": {},
     "output_type": "execute_result"
    }
   ],
   "source": [
    "from math import inf\n",
    "\n",
    "def bellman_ford(graph, source):\n",
    "    n = len(graph) # number of nodes which is the length of the adj list\n",
    "    \n",
    "    dist_array = [inf]*n    \n",
    "    dist_array[source] = 0\n",
    "    dist_array1 = dist_array[:]\n",
    "    \n",
    "    for _ in range(n-1):\n",
    "        for u in range(n):\n",
    "            for v, c in graph[u]:\n",
    "                dist_array1[v] = min(dist_array1[v], dist_array[u] + c)\n",
    "        dist_array = dist_array1[:]\n",
    "    \n",
    "    return dist_array\n",
    "    \n",
    "bellman_ford(graph2, 0)"
   ]
  },
  {
   "cell_type": "code",
   "execution_count": null,
   "metadata": {},
   "outputs": [],
   "source": [
    "[0, 5, 10, 20, 60, 35, 40, -10, -20, 160]"
   ]
  },
  {
   "cell_type": "code",
   "execution_count": null,
   "metadata": {},
   "outputs": [],
   "source": []
  },
  {
   "cell_type": "code",
   "execution_count": null,
   "metadata": {},
   "outputs": [],
   "source": []
  },
  {
   "cell_type": "code",
   "execution_count": null,
   "metadata": {},
   "outputs": [],
   "source": []
  },
  {
   "cell_type": "code",
   "execution_count": null,
   "metadata": {},
   "outputs": [],
   "source": []
  }
 ],
 "metadata": {
  "kernelspec": {
   "display_name": "Python 3",
   "language": "python",
   "name": "python3"
  },
  "language_info": {
   "codemirror_mode": {
    "name": "ipython",
    "version": 3
   },
   "file_extension": ".py",
   "mimetype": "text/x-python",
   "name": "python",
   "nbconvert_exporter": "python",
   "pygments_lexer": "ipython3",
   "version": "3.7.6"
  }
 },
 "nbformat": 4,
 "nbformat_minor": 4
}
