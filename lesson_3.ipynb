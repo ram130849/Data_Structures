{
 "cells": [
  {
   "cell_type": "markdown",
   "metadata": {},
   "source": [
    "# Storing key-value pairs using Binary Search Tree.\n",
    "\n",
    "### Recall we need to store the user objects as values with each keys in our BST.\n",
    "### Lets define new class BSTNode to represent the nodes in our trees. Apart from having properties\n",
    "### key, left and right, we'll also store values and a pointer to the parent node for easier upward traversal."
   ]
  },
  {
   "cell_type": "code",
   "execution_count": 4,
   "metadata": {},
   "outputs": [],
   "source": [
    "class BSTNode():\n",
    "    def __init__(self,key,value=None):\n",
    "        self.key = key\n",
    "        self.value = value\n",
    "        self.left = None\n",
    "        self.right = None\n",
    "        self.parent = None"
   ]
  },
  {
   "cell_type": "code",
   "execution_count": 5,
   "metadata": {},
   "outputs": [],
   "source": [
    "class User:\n",
    "    def __init__(self,username,age,email):\n",
    "        self.username = username\n",
    "        self.age = age\n",
    "        self.email = email\n",
    "        print(\"{} User Created.\".format(self.username))\n",
    "    def introduce_yourself(self,guest_name):\n",
    "        print(\"hi {} I'm {} my age is {} and my email is {}.\".format(self.username,self.age,self.email))\n",
    "    def __repr__(self):\n",
    "            return \"User(username = '{}', age = '{}', email = '{}')\".format(self.username,self.age,self.email)\n",
    "    def __str__(self):\n",
    "            return self.__repr__()"
   ]
  },
  {
   "cell_type": "code",
   "execution_count": 7,
   "metadata": {},
   "outputs": [
    {
     "name": "stdout",
     "output_type": "stream",
     "text": [
      "Aakash User Created.\n",
      "Biraj kannan User Created.\n",
      "Hemanth Bavari User Created.\n",
      "Jadesh Lopez User Created.\n",
      "Siddarth Kotari User Created.\n",
      "Sonaksh Sinha User Created.\n",
      "Vishal Potluri User Created.\n"
     ]
    }
   ],
   "source": [
    "aakash = User(\"Aakash\",\"33\",\"aakash@example.com\")\n",
    "biraj = User(\"Biraj kannan\",\"12\",\"biraj@example.com\")\n",
    "hemanth = User(\"Hemanth Bavari\",\"21\",\"hemant.199@example.com\")\n",
    "jadesh = User(\"Jadesh Lopez\",\"39\",\"jadesh@example.com\")\n",
    "siddarth = User(\"Siddarth Kotari\",\"28\",\"siddarthkot@example.com\")\n",
    "sonaksh = User(\"Sonaksh Sinha\",\"87\",\"sonaksh@example.com\")\n",
    "vishal = User(\"Vishal Potluri\",\"48\",\"vishal@example.com\")"
   ]
  },
  {
   "cell_type": "code",
   "execution_count": 8,
   "metadata": {},
   "outputs": [],
   "source": [
    "tree = BSTNode(jadesh.username,jadesh)"
   ]
  },
  {
   "cell_type": "code",
   "execution_count": 9,
   "metadata": {},
   "outputs": [
    {
     "data": {
      "text/plain": [
       "('Jadesh Lopez',\n",
       " User(username = 'Jadesh Lopez', age = '39', email = 'jadesh@example.com'))"
      ]
     },
     "execution_count": 9,
     "metadata": {},
     "output_type": "execute_result"
    }
   ],
   "source": [
    "tree.key, tree.value"
   ]
  },
  {
   "cell_type": "code",
   "execution_count": 10,
   "metadata": {},
   "outputs": [],
   "source": [
    "tree.left = BSTNode(biraj.username,biraj)\n",
    "tree.left.parent = tree\n",
    "tree.right = BSTNode(sonaksh.username,sonaksh)\n",
    "tree.right.parent = tree"
   ]
  },
  {
   "cell_type": "code",
   "execution_count": 11,
   "metadata": {},
   "outputs": [
    {
     "name": "stdout",
     "output_type": "stream",
     "text": [
      "Biraj kannan User(username = 'Biraj kannan', age = '12', email = 'biraj@example.com')\n",
      "Sonaksh Sinha User(username = 'Sonaksh Sinha', age = '87', email = 'sonaksh@example.com')\n"
     ]
    }
   ],
   "source": [
    "print(tree.left.key, tree.left.value)\n",
    "print(tree.right.key, tree.right.value)"
   ]
  },
  {
   "cell_type": "code",
   "execution_count": 12,
   "metadata": {},
   "outputs": [],
   "source": [
    "def display_keys(node,space=\"\\t\",level=0):\n",
    "        if node is None:\n",
    "            print(space*level + '@')\n",
    "            return\n",
    "        if node.left is None and node.right is None:\n",
    "            print(space*level + str(node.key))\n",
    "            return\n",
    "        display_keys(node.right,space,level+1)\n",
    "        print(space*level + str(node.key))\n",
    "        display_keys(node.left,space,level+1) "
   ]
  },
  {
   "cell_type": "code",
   "execution_count": 13,
   "metadata": {},
   "outputs": [
    {
     "name": "stdout",
     "output_type": "stream",
     "text": [
      "\tSonaksh Sinha\n",
      "Jadesh Lopez\n",
      "\tBiraj kannan\n"
     ]
    }
   ],
   "source": [
    "display_keys(tree)"
   ]
  },
  {
   "cell_type": "code",
   "execution_count": 14,
   "metadata": {},
   "outputs": [],
   "source": [
    "def insert(node, key, value):\n",
    "    if node is None:\n",
    "        node = BSTNode(key,value)\n",
    "    elif key < node.key:\n",
    "        node.left = insert(node.left, key, value)\n",
    "        node.left.parent = node\n",
    "    elif key > node.key:\n",
    "        node.right = insert(node.right, key, value)\n",
    "        node.right.parent = node\n",
    "    return node"
   ]
  },
  {
   "cell_type": "code",
   "execution_count": 15,
   "metadata": {},
   "outputs": [],
   "source": [
    "tree = insert(None,jadesh.username,jadesh)"
   ]
  },
  {
   "cell_type": "code",
   "execution_count": 16,
   "metadata": {},
   "outputs": [
    {
     "data": {
      "text/plain": [
       "('Jadesh Lopez',\n",
       " User(username = 'Jadesh Lopez', age = '39', email = 'jadesh@example.com'))"
      ]
     },
     "execution_count": 16,
     "metadata": {},
     "output_type": "execute_result"
    }
   ],
   "source": [
    "tree.key, tree.value"
   ]
  },
  {
   "cell_type": "code",
   "execution_count": 17,
   "metadata": {},
   "outputs": [],
   "source": [
    "tree = insert(tree,biraj.username,biraj)\n",
    "tree = insert(tree,aakash.username,aakash)\n",
    "tree = insert(tree,hemanth.username,hemanth)\n",
    "tree = insert(tree,sonaksh.username,sonaksh)\n",
    "tree = insert(tree,siddarth.username,siddarth)\n",
    "tree = insert(tree,vishal.username,vishal)"
   ]
  },
  {
   "cell_type": "code",
   "execution_count": 18,
   "metadata": {},
   "outputs": [
    {
     "data": {
      "text/plain": [
       "('Biraj kannan',\n",
       " User(username = 'Biraj kannan', age = '12', email = 'biraj@example.com'),\n",
       " 'Sonaksh Sinha',\n",
       " User(username = 'Sonaksh Sinha', age = '87', email = 'sonaksh@example.com'))"
      ]
     },
     "execution_count": 18,
     "metadata": {},
     "output_type": "execute_result"
    }
   ],
   "source": [
    "tree.left.key,tree.left.value,tree.right.key,tree.right.value"
   ]
  },
  {
   "cell_type": "code",
   "execution_count": 19,
   "metadata": {},
   "outputs": [
    {
     "name": "stdout",
     "output_type": "stream",
     "text": [
      "\t\tVishal Potluri\n",
      "\tSonaksh Sinha\n",
      "\t\tSiddarth Kotari\n",
      "Jadesh Lopez\n",
      "\t\tHemanth Bavari\n",
      "\tBiraj kannan\n",
      "\t\tAakash\n"
     ]
    }
   ],
   "source": [
    "display_keys(tree)"
   ]
  },
  {
   "cell_type": "code",
   "execution_count": 20,
   "metadata": {},
   "outputs": [
    {
     "data": {
      "text/plain": [
       "<__main__.BSTNode at 0x1c378138c88>"
      ]
     },
     "execution_count": 20,
     "metadata": {},
     "output_type": "execute_result"
    }
   ],
   "source": [
    "tree2 = insert(None,aakash.username,aakash)\n",
    "insert(tree2,biraj.username,biraj)\n",
    "insert(tree2,hemanth.username,hemanth)\n",
    "insert(tree2,jadesh.username,jadesh)\n",
    "insert(tree2,siddarth.username,siddarth)\n",
    "insert(tree2,sonaksh.username,sonaksh)\n",
    "insert(tree2,vishal.username,vishal)"
   ]
  },
  {
   "cell_type": "code",
   "execution_count": 21,
   "metadata": {},
   "outputs": [
    {
     "name": "stdout",
     "output_type": "stream",
     "text": [
      "\t\t\t\t\t\tVishal Potluri\n",
      "\t\t\t\t\tSonaksh Sinha\n",
      "\t\t\t\t\t\t@\n",
      "\t\t\t\tSiddarth Kotari\n",
      "\t\t\t\t\t@\n",
      "\t\t\tJadesh Lopez\n",
      "\t\t\t\t@\n",
      "\t\tHemanth Bavari\n",
      "\t\t\t@\n",
      "\tBiraj kannan\n",
      "\t\t@\n",
      "Aakash\n",
      "\t@\n"
     ]
    }
   ],
   "source": [
    "display_keys(tree2)"
   ]
  },
  {
   "cell_type": "code",
   "execution_count": 22,
   "metadata": {},
   "outputs": [],
   "source": [
    "def tree_size(node):\n",
    "    left = 0\n",
    "    right = 0\n",
    "    if node is None:\n",
    "        return 0\n",
    "    else:\n",
    "        if node.left:\n",
    "            left = tree_size(node.left)\n",
    "        if node.right:\n",
    "            right = tree_size(node.right)\n",
    "    return 1+left+right"
   ]
  },
  {
   "cell_type": "code",
   "execution_count": 23,
   "metadata": {},
   "outputs": [],
   "source": [
    "def tree_height(node):\n",
    "    left = 0\n",
    "    right = 0\n",
    "    if node is None:\n",
    "        return 0\n",
    "    if node.left:\n",
    "        left = tree_height(node.left)\n",
    "    if node.right:\n",
    "        right =  tree_height(node.right)\n",
    "    return 1 + max(left,right)"
   ]
  },
  {
   "cell_type": "code",
   "execution_count": 24,
   "metadata": {},
   "outputs": [
    {
     "name": "stdout",
     "output_type": "stream",
     "text": [
      "3\n",
      "7\n"
     ]
    }
   ],
   "source": [
    "print(tree_height(tree))\n",
    "print(tree_height(tree2))"
   ]
  },
  {
   "cell_type": "markdown",
   "metadata": {},
   "source": [
    "# Conditions to check if a binary tree is height balanced\n",
    "\n",
    "### Consider a height-balancing scheme where following conditions should be checked to determine if a binary tree is balanced. \n",
    "### An empty tree is height-balanced. A non-empty binary tree T is balanced if: \n",
    "### 1) Left subtree of T is balanced \n",
    "### 2) Right subtree of T is balanced \n",
    "### 3) The difference between heights of left subtree and right subtree is not more than 1. "
   ]
  },
  {
   "cell_type": "markdown",
   "metadata": {},
   "source": [
    "# Program to find if the element is present in the tree or not"
   ]
  },
  {
   "cell_type": "code",
   "execution_count": 25,
   "metadata": {},
   "outputs": [],
   "source": [
    "def find(node,key):\n",
    "    if node is None:\n",
    "        return None\n",
    "    elif node.key == key:\n",
    "        return node\n",
    "    elif key < node.key:\n",
    "        return find(node.left,key)\n",
    "    elif key > node.key:\n",
    "        return find(node.right,key)"
   ]
  },
  {
   "cell_type": "code",
   "execution_count": 26,
   "metadata": {},
   "outputs": [],
   "source": [
    "node = find(tree,'Hemanth Bavari')"
   ]
  },
  {
   "cell_type": "code",
   "execution_count": 27,
   "metadata": {},
   "outputs": [
    {
     "data": {
      "text/plain": [
       "('Hemanth Bavari',\n",
       " User(username = 'Hemanth Bavari', age = '21', email = 'hemant.199@example.com'))"
      ]
     },
     "execution_count": 27,
     "metadata": {},
     "output_type": "execute_result"
    }
   ],
   "source": [
    "node.key, node.value"
   ]
  },
  {
   "cell_type": "code",
   "execution_count": 28,
   "metadata": {},
   "outputs": [
    {
     "name": "stdout",
     "output_type": "stream",
     "text": [
      "None\n"
     ]
    }
   ],
   "source": [
    "node = find(tree,'Tanya Tilotamma')\n",
    "print(node)"
   ]
  },
  {
   "cell_type": "code",
   "execution_count": 29,
   "metadata": {},
   "outputs": [],
   "source": [
    "def update(node,key,value):\n",
    "    target = find(node,key)\n",
    "    print(target.key)\n",
    "    if target is not None:\n",
    "        target.value = value"
   ]
  },
  {
   "cell_type": "code",
   "execution_count": 30,
   "metadata": {},
   "outputs": [
    {
     "name": "stdout",
     "output_type": "stream",
     "text": [
      "Hemanth Bavari User Created.\n",
      "Hemanth Bavari\n"
     ]
    }
   ],
   "source": [
    "update(tree,'Hemanth Bavari',User('Hemanth Bavari','28','hemant.199@example.com'))"
   ]
  },
  {
   "cell_type": "code",
   "execution_count": 31,
   "metadata": {},
   "outputs": [
    {
     "name": "stdout",
     "output_type": "stream",
     "text": [
      "User(username = 'Hemanth Bavari', age = '28', email = 'hemant.199@example.com')\n"
     ]
    }
   ],
   "source": [
    "print(find(tree,'Hemanth Bavari').value)"
   ]
  },
  {
   "cell_type": "code",
   "execution_count": 32,
   "metadata": {},
   "outputs": [],
   "source": [
    "def list_all(node):\n",
    "    if node is None:\n",
    "        return []\n",
    "    return list_all(node.left) + [node.key, \" -> \" ,node.value] + list_all(node.right)"
   ]
  },
  {
   "cell_type": "code",
   "execution_count": 33,
   "metadata": {},
   "outputs": [
    {
     "data": {
      "text/plain": [
       "['Aakash',\n",
       " ' -> ',\n",
       " User(username = 'Aakash', age = '33', email = 'aakash@example.com'),\n",
       " 'Biraj kannan',\n",
       " ' -> ',\n",
       " User(username = 'Biraj kannan', age = '12', email = 'biraj@example.com'),\n",
       " 'Hemanth Bavari',\n",
       " ' -> ',\n",
       " User(username = 'Hemanth Bavari', age = '28', email = 'hemant.199@example.com'),\n",
       " 'Jadesh Lopez',\n",
       " ' -> ',\n",
       " User(username = 'Jadesh Lopez', age = '39', email = 'jadesh@example.com'),\n",
       " 'Siddarth Kotari',\n",
       " ' -> ',\n",
       " User(username = 'Siddarth Kotari', age = '28', email = 'siddarthkot@example.com'),\n",
       " 'Sonaksh Sinha',\n",
       " ' -> ',\n",
       " User(username = 'Sonaksh Sinha', age = '87', email = 'sonaksh@example.com'),\n",
       " 'Vishal Potluri',\n",
       " ' -> ',\n",
       " User(username = 'Vishal Potluri', age = '48', email = 'vishal@example.com')]"
      ]
     },
     "execution_count": 33,
     "metadata": {},
     "output_type": "execute_result"
    }
   ],
   "source": [
    "list_all(tree)"
   ]
  },
  {
   "cell_type": "code",
   "execution_count": 60,
   "metadata": {},
   "outputs": [],
   "source": [
    "def delete(node,key):\n",
    "    if node is None:\n",
    "        return None\n",
    "    if key < node.key:\n",
    "        node.left = delete(node.left,key)\n",
    "        return node\n",
    "    elif key>node.key:\n",
    "        node.right = delete(node.right,key)\n",
    "        return node\n",
    "    if node.left is None and node.right is None:\n",
    "        return None\n",
    "    if node.left is None:\n",
    "        temp = node.right\n",
    "        node = None\n",
    "        return temp\n",
    "    if node.right is None:\n",
    "        temp = node.left\n",
    "        node = None\n",
    "        return temp\n",
    "    parent = node\n",
    "    rightChild = node.right\n",
    "    leftChild = node.left\n",
    "    while (rightChild.left!=None):\n",
    "        parent = rightChild\n",
    "        rightChild = rightChild.left\n",
    "    if parent != node:\n",
    "        parent.left = rightChild.right\n",
    "    else:\n",
    "        parent.right = rightChild.right\n",
    "        \n",
    "    node.key = rightChild.key\n",
    "    return node"
   ]
  },
  {
   "cell_type": "code",
   "execution_count": 69,
   "metadata": {},
   "outputs": [
    {
     "name": "stdout",
     "output_type": "stream",
     "text": [
      "Aakash User(username = 'Aakash', age = '33', email = 'aakash@example.com')\n",
      "Hemanth Bavari User(username = 'Biraj kannan', age = '12', email = 'biraj@example.com')\n",
      "Siddarth Kotari User(username = 'Jadesh Lopez', age = '39', email = 'jadesh@example.com')\n",
      "Sonaksh Sinha User(username = 'Sonaksh Sinha', age = '87', email = 'sonaksh@example.com')\n",
      "Vishal Potluri User(username = 'Vishal Potluri', age = '48', email = 'vishal@example.com')\n"
     ]
    }
   ],
   "source": [
    "tree1 = delete(tree,'Jadesh Lopez')\n",
    "for user in list_all(tree):\n",
    "    print(user.key, user.value)"
   ]
  },
  {
   "cell_type": "code",
   "execution_count": 104,
   "metadata": {},
   "outputs": [
    {
     "name": "stdout",
     "output_type": "stream",
     "text": [
      "\t\t80\n",
      "\t70\n",
      "\t\t60\n",
      "50\n",
      "\t\t40\n",
      "\t30\n",
      "\t\t20\n",
      "\n",
      "\n",
      "\t\t80\n",
      "\t70\n",
      "\t\t@\n",
      "60\n",
      "\t\t40\n",
      "\t30\n",
      "\t\t20\n"
     ]
    }
   ],
   "source": [
    "root = None\n",
    "root = insert(root, 50,\"\")\n",
    "root = insert(root, 30,\"\")\n",
    "root = insert(root, 20,\"\")\n",
    "root = insert(root, 40,\"\")\n",
    "root = insert(root, 70,\"\")\n",
    "root = insert(root, 60,\"\")\n",
    "root = insert(root, 80,\"\")\n",
    "display_keys(root)\n",
    "print(\"\\n\")\n",
    "root = delete(root,50)\n",
    "display_keys(root)"
   ]
  },
  {
   "cell_type": "markdown",
   "metadata": {},
   "source": [
    "### program to determine if a binary tree is balanced or not."
   ]
  },
  {
   "cell_type": "code",
   "execution_count": 34,
   "metadata": {},
   "outputs": [],
   "source": [
    "def is_balanced(node):\n",
    "    if node is None:\n",
    "        return True,0\n",
    "    balanced_l,height_l = is_balanced(node.left)\n",
    "    balanced_r,height_r = is_balanced(node.right)\n",
    "    balanced = balanced_l and balanced_r and abs(height_l - height_r) <= 1\n",
    "    height = 1 + max(height_l,height_r)\n",
    "    return balanced,height"
   ]
  },
  {
   "cell_type": "code",
   "execution_count": 35,
   "metadata": {},
   "outputs": [
    {
     "name": "stdout",
     "output_type": "stream",
     "text": [
      "Tanya Vidharbha User Created.\n"
     ]
    },
    {
     "data": {
      "text/plain": [
       "<__main__.BSTNode at 0x1c378129a88>"
      ]
     },
     "execution_count": 35,
     "metadata": {},
     "output_type": "execute_result"
    }
   ],
   "source": [
    "unbalanced_tree = insert(None,jadesh.username,jadesh)\n",
    "insert(unbalanced_tree,biraj.username,biraj)\n",
    "insert(unbalanced_tree,aakash.username,aakash)\n",
    "insert(unbalanced_tree,hemanth.username,hemanth)\n",
    "insert(unbalanced_tree,'Tanya Vidharbha',User('Tanya Vidharbha','24','tanya_vidhu@example.com'))\n",
    "insert(unbalanced_tree,siddarth.username,siddarth)\n",
    "insert(unbalanced_tree,sonaksh.username,sonaksh)"
   ]
  },
  {
   "cell_type": "code",
   "execution_count": 36,
   "metadata": {},
   "outputs": [
    {
     "name": "stdout",
     "output_type": "stream",
     "text": [
      "\t\t@\n",
      "\tTanya Vidharbha\n",
      "\t\t\tSonaksh Sinha\n",
      "\t\tSiddarth Kotari\n",
      "\t\t\t@\n",
      "Jadesh Lopez\n",
      "\t\tHemanth Bavari\n",
      "\tBiraj kannan\n",
      "\t\tAakash\n"
     ]
    }
   ],
   "source": [
    "display_keys(unbalanced_tree)"
   ]
  },
  {
   "cell_type": "code",
   "execution_count": 38,
   "metadata": {},
   "outputs": [
    {
     "data": {
      "text/plain": [
       "(False, 4)"
      ]
     },
     "execution_count": 38,
     "metadata": {},
     "output_type": "execute_result"
    }
   ],
   "source": [
    "is_balanced(unbalanced_tree)"
   ]
  },
  {
   "cell_type": "code",
   "execution_count": 39,
   "metadata": {},
   "outputs": [],
   "source": [
    "def isCompleteBT(root):\n",
    "    if root is None:\n",
    "        return True\n",
    "    queue = []\n",
    "    flag = False\n",
    "    queue.append(root)\n",
    "    while(len(queue)>0):\n",
    "        tempNode = queue.pop(0)\n",
    "        if(tempNode.left):\n",
    "            if flag == True:\n",
    "                return False\n",
    "            queue.append(tempNode.left)\n",
    "        else:\n",
    "            flag = True\n",
    "        if(tempNode.right):\n",
    "            if flag == True:\n",
    "                return False\n",
    "            queue.append(tempNode.right)\n",
    "        else:\n",
    "            flag = True\n",
    "    return True"
   ]
  },
  {
   "cell_type": "code",
   "execution_count": 41,
   "metadata": {},
   "outputs": [
    {
     "data": {
      "text/plain": [
       "False"
      ]
     },
     "execution_count": 41,
     "metadata": {},
     "output_type": "execute_result"
    }
   ],
   "source": [
    "isCompleteBT(unbalanced_tree)"
   ]
  },
  {
   "cell_type": "markdown",
   "metadata": {},
   "source": [
    "# Balanced Binary Search Trees"
   ]
  },
  {
   "cell_type": "code",
   "execution_count": 42,
   "metadata": {},
   "outputs": [],
   "source": [
    "def make_balanced_bst(data,lo=0,hi=None,parent=None):\n",
    "    if hi is None:\n",
    "        hi = len(data)-1\n",
    "    elif lo>hi:\n",
    "        return None\n",
    "    mid =(lo+hi)//2\n",
    "    key,value = data[mid]\n",
    "    root = BSTNode(key,value)\n",
    "    root.left = make_balanced_bst(data,lo,mid-1,root)\n",
    "    root.right = make_balanced_bst(data,mid+1,hi,root)\n",
    "    return root"
   ]
  },
  {
   "cell_type": "code",
   "execution_count": 43,
   "metadata": {},
   "outputs": [],
   "source": [
    "class UserDatabase:\n",
    "        def __init__(self):\n",
    "            self.users = []\n",
    "        def __insert__(self,user):\n",
    "            i=0\n",
    "            if len(self.users)>0:\n",
    "                while i<len(self.users):\n",
    "                    if self.users[i].username > user.username:\n",
    "                                    break\n",
    "                    i +=1\n",
    "                self.users.insert(i,user)\n",
    "            else:\n",
    "                self.users.insert(i,user)\n",
    "            print(\"User Created with User Name {}.\".format(user.username))\n",
    "        def __find__(self,username):\n",
    "            for user in self.users:\n",
    "                if user.username == username:\n",
    "                    return user\n",
    "        def __update__(self,user):\n",
    "                target = self.__find__(user.username)\n",
    "                target.age,target.email = user.age,user.email\n",
    "        def __list__(self):\n",
    "                return self.users"
   ]
  },
  {
   "cell_type": "code",
   "execution_count": 44,
   "metadata": {},
   "outputs": [
    {
     "name": "stdout",
     "output_type": "stream",
     "text": [
      "User Created with User Name Aakash.\n",
      "User Created with User Name Biraj kannan.\n",
      "User Created with User Name Hemanth Bavari.\n",
      "User Created with User Name Jadesh Lopez.\n",
      "User Created with User Name Siddarth Kotari.\n",
      "User Created with User Name Sonaksh Sinha.\n",
      "User Created with User Name Vishal Potluri.\n"
     ]
    }
   ],
   "source": [
    "userdb = UserDatabase()\n",
    "userdb.__insert__(aakash)\n",
    "userdb.__insert__(biraj)\n",
    "userdb.__insert__(hemanth)\n",
    "userdb.__insert__(jadesh)\n",
    "userdb.__insert__(siddarth)\n",
    "userdb.__insert__(sonaksh)\n",
    "userdb.__insert__(vishal)"
   ]
  },
  {
   "cell_type": "code",
   "execution_count": 45,
   "metadata": {},
   "outputs": [
    {
     "data": {
      "text/plain": [
       "[('Aakash',\n",
       "  User(username = 'Aakash', age = '33', email = 'aakash@example.com')),\n",
       " ('Biraj kannan',\n",
       "  User(username = 'Biraj kannan', age = '12', email = 'biraj@example.com')),\n",
       " ('Hemanth Bavari',\n",
       "  User(username = 'Hemanth Bavari', age = '21', email = 'hemant.199@example.com')),\n",
       " ('Jadesh Lopez',\n",
       "  User(username = 'Jadesh Lopez', age = '39', email = 'jadesh@example.com')),\n",
       " ('Siddarth Kotari',\n",
       "  User(username = 'Siddarth Kotari', age = '28', email = 'siddarthkot@example.com')),\n",
       " ('Sonaksh Sinha',\n",
       "  User(username = 'Sonaksh Sinha', age = '87', email = 'sonaksh@example.com')),\n",
       " ('Vishal Potluri',\n",
       "  User(username = 'Vishal Potluri', age = '48', email = 'vishal@example.com'))]"
      ]
     },
     "execution_count": 45,
     "metadata": {},
     "output_type": "execute_result"
    }
   ],
   "source": [
    "data = [(user.username,user) for user in userdb.users]\n",
    "data"
   ]
  },
  {
   "cell_type": "code",
   "execution_count": 46,
   "metadata": {},
   "outputs": [],
   "source": [
    "balanced_tree =  make_balanced_bst(data)"
   ]
  },
  {
   "cell_type": "code",
   "execution_count": 47,
   "metadata": {},
   "outputs": [
    {
     "name": "stdout",
     "output_type": "stream",
     "text": [
      "\t\tVishal Potluri\n",
      "\tSonaksh Sinha\n",
      "\t\tSiddarth Kotari\n",
      "Jadesh Lopez\n",
      "\t\tHemanth Bavari\n",
      "\tBiraj kannan\n",
      "\t\tAakash\n"
     ]
    }
   ],
   "source": [
    "display_keys(balanced_tree)"
   ]
  },
  {
   "cell_type": "code",
   "execution_count": 48,
   "metadata": {},
   "outputs": [],
   "source": [
    "def list_all(node):\n",
    "    if node is None:\n",
    "        return []\n",
    "    return (list_all(node.left) + [node] + list_all(node.right))"
   ]
  },
  {
   "cell_type": "code",
   "execution_count": 49,
   "metadata": {},
   "outputs": [],
   "source": [
    "data1 = [(user.key,user.value) for user in list_all(unbalanced_tree)]"
   ]
  },
  {
   "cell_type": "code",
   "execution_count": 50,
   "metadata": {},
   "outputs": [],
   "source": [
    "def balance_bst(node):\n",
    "    return make_balanced_bst([(user.key,user.value) for user in list_all(node)])"
   ]
  },
  {
   "cell_type": "code",
   "execution_count": 51,
   "metadata": {},
   "outputs": [
    {
     "name": "stdout",
     "output_type": "stream",
     "text": [
      "\t\tTanya Vidharbha\n",
      "\tSonaksh Sinha\n",
      "\t\tSiddarth Kotari\n",
      "Jadesh Lopez\n",
      "\t\tHemanth Bavari\n",
      "\tBiraj kannan\n",
      "\t\tAakash\n"
     ]
    }
   ],
   "source": [
    "bst1 = balance_bst(unbalanced_tree)\n",
    "display_keys(bst1)"
   ]
  },
  {
   "cell_type": "markdown",
   "metadata": {},
   "source": [
    "Time Complexity for different Operations:\n",
    "\n",
    "\n",
    "Insert - O(logN) + O(N) - logN for inserting a node in a bst and N for traversing through the bst.\n",
    "\n",
    "Find - O(logN)\n",
    "\n",
    "Update - O(logN)\n",
    "\n",
    "list_all - O(N)\n",
    "\n",
    "\n",
    "Improvement between O(N) and O(logN) is:\n",
    "\n",
    "\n",
    "for 100 million records Update records - log(100 million) comes around 26 operations where as in linear time complexity it comes around 100million. time taken in bst is 19.1 microseconds whereas time taken in linear datastructure will be 10 seconds.\n",
    "Thus, find and update from a balanced binary search tree is 300000 times faster than the original solution. To speed up insertion we can do balancing the tree periodically (ie. once every 1000 records).Another option could be rebalance the tree periodically every one hour."
   ]
  },
  {
   "cell_type": "code",
   "execution_count": 87,
   "metadata": {},
   "outputs": [],
   "source": [
    "class TreeMap:\n",
    "    def __init__(self):\n",
    "        self.root = None\n",
    "    def __setitem__(self,key,value):\n",
    "        node = find(self.root,key)\n",
    "        if not node:\n",
    "            self.root = insert(self.root,key,value)\n",
    "            self.root = balance_bst(self.root)\n",
    "        else:\n",
    "            update(self.root,key,value)\n",
    "    def __getitem__(self,key):\n",
    "        node = find(self.root,key)\n",
    "        return node.value if node else None\n",
    "    def __iter__(self):\n",
    "        return (x for x in list_all(self.root))\n",
    "    def __len__(self):\n",
    "        return tree_size(self.root)\n",
    "    def display(self):\n",
    "        return display_keys(self.root)\n",
    "    def pop(self,key):\n",
    "        node = delete(self.root,key)\n",
    "        node = balance_bst(node)\n",
    "        return node"
   ]
  },
  {
   "cell_type": "code",
   "execution_count": 88,
   "metadata": {},
   "outputs": [
    {
     "data": {
      "text/plain": [
       "[User(username = 'Aakash', age = '33', email = 'aakash@example.com'),\n",
       " User(username = 'Biraj kannan', age = '12', email = 'biraj@example.com'),\n",
       " User(username = 'Hemanth Bavari', age = '21', email = 'hemant.199@example.com'),\n",
       " User(username = 'Jadesh Lopez', age = '39', email = 'jadesh@example.com'),\n",
       " User(username = 'Siddarth Kotari', age = '28', email = 'siddarthkot@example.com'),\n",
       " User(username = 'Sonaksh Sinha', age = '87', email = 'sonaksh@example.com'),\n",
       " User(username = 'Vishal Potluri', age = '48', email = 'vishal@example.com')]"
      ]
     },
     "execution_count": 88,
     "metadata": {},
     "output_type": "execute_result"
    }
   ],
   "source": [
    "userdb.users"
   ]
  },
  {
   "cell_type": "code",
   "execution_count": 89,
   "metadata": {},
   "outputs": [
    {
     "name": "stdout",
     "output_type": "stream",
     "text": [
      "@\n"
     ]
    }
   ],
   "source": [
    "treemap = TreeMap()\n",
    "treemap.display()"
   ]
  },
  {
   "cell_type": "code",
   "execution_count": 91,
   "metadata": {},
   "outputs": [],
   "source": [
    "treemap['Aakash'] = aakash\n",
    "treemap['Biraj'] = biraj\n",
    "treemap['hemanth'] = hemanth"
   ]
  },
  {
   "cell_type": "code",
   "execution_count": 94,
   "metadata": {},
   "outputs": [
    {
     "name": "stdout",
     "output_type": "stream",
     "text": [
      "\themanth\n",
      "Biraj\n",
      "\tAakash\n"
     ]
    }
   ],
   "source": [
    "treemap.display()"
   ]
  },
  {
   "cell_type": "code",
   "execution_count": 100,
   "metadata": {},
   "outputs": [
    {
     "name": "stdout",
     "output_type": "stream",
     "text": [
      "\t\t@\n",
      "\tSonaksh\n",
      "\t\tSiddarth\n",
      "Jadesh\n",
      "\t\tHemanth\n",
      "\tBiraj\n",
      "\t\tAakash\n"
     ]
    }
   ],
   "source": [
    "treemap.pop('hemanth')\n",
    "treemap.display()"
   ]
  },
  {
   "cell_type": "code",
   "execution_count": 101,
   "metadata": {},
   "outputs": [],
   "source": [
    "treemap['Jadesh'] = jadesh\n",
    "treemap['Sonaksh'] = sonaksh\n",
    "treemap['Siddarth'] = siddarth\n",
    "treemap['Vishal'] = vishal\n",
    "treemap['Hemanth'] = hemanth"
   ]
  },
  {
   "cell_type": "code",
   "execution_count": 102,
   "metadata": {},
   "outputs": [
    {
     "name": "stdout",
     "output_type": "stream",
     "text": [
      "\t\tVishal\n",
      "\tSonaksh\n",
      "\t\tSiddarth\n",
      "Jadesh\n",
      "\t\tHemanth\n",
      "\tBiraj\n",
      "\t\tAakash\n"
     ]
    }
   ],
   "source": [
    "treemap.display()"
   ]
  },
  {
   "cell_type": "code",
   "execution_count": 110,
   "metadata": {},
   "outputs": [
    {
     "data": {
      "text/plain": [
       "[<__main__.BSTNode at 0x1c37814c7c8>,\n",
       " <__main__.BSTNode at 0x1c37814cf88>,\n",
       " <__main__.BSTNode at 0x1c37814c308>,\n",
       " <__main__.BSTNode at 0x1c37814cd08>,\n",
       " <__main__.BSTNode at 0x1c37814cf48>,\n",
       " <__main__.BSTNode at 0x1c37814cf08>,\n",
       " <__main__.BSTNode at 0x1c37814c8c8>]"
      ]
     },
     "execution_count": 110,
     "metadata": {},
     "output_type": "execute_result"
    }
   ],
   "source": [
    "list(treemap)"
   ]
  },
  {
   "cell_type": "code",
   "execution_count": 108,
   "metadata": {},
   "outputs": [
    {
     "data": {
      "text/plain": [
       "User(username = 'Aakash', age = '33', email = 'aakash@example.com')"
      ]
     },
     "execution_count": 108,
     "metadata": {},
     "output_type": "execute_result"
    }
   ],
   "source": [
    "treemap['Aakash']"
   ]
  },
  {
   "cell_type": "code",
   "execution_count": null,
   "metadata": {},
   "outputs": [],
   "source": []
  },
  {
   "cell_type": "code",
   "execution_count": null,
   "metadata": {},
   "outputs": [],
   "source": []
  },
  {
   "cell_type": "code",
   "execution_count": null,
   "metadata": {},
   "outputs": [],
   "source": []
  },
  {
   "cell_type": "code",
   "execution_count": null,
   "metadata": {},
   "outputs": [],
   "source": []
  },
  {
   "cell_type": "code",
   "execution_count": null,
   "metadata": {},
   "outputs": [],
   "source": []
  },
  {
   "cell_type": "code",
   "execution_count": null,
   "metadata": {},
   "outputs": [],
   "source": []
  },
  {
   "cell_type": "code",
   "execution_count": null,
   "metadata": {},
   "outputs": [],
   "source": []
  },
  {
   "cell_type": "code",
   "execution_count": null,
   "metadata": {},
   "outputs": [],
   "source": []
  },
  {
   "cell_type": "code",
   "execution_count": null,
   "metadata": {},
   "outputs": [],
   "source": []
  },
  {
   "cell_type": "code",
   "execution_count": null,
   "metadata": {},
   "outputs": [],
   "source": []
  },
  {
   "cell_type": "code",
   "execution_count": null,
   "metadata": {},
   "outputs": [],
   "source": []
  },
  {
   "cell_type": "code",
   "execution_count": null,
   "metadata": {},
   "outputs": [],
   "source": []
  },
  {
   "cell_type": "code",
   "execution_count": null,
   "metadata": {},
   "outputs": [],
   "source": []
  },
  {
   "cell_type": "code",
   "execution_count": null,
   "metadata": {},
   "outputs": [],
   "source": []
  },
  {
   "cell_type": "code",
   "execution_count": null,
   "metadata": {},
   "outputs": [],
   "source": []
  }
 ],
 "metadata": {
  "kernelspec": {
   "display_name": "Python 3",
   "language": "python",
   "name": "python3"
  },
  "language_info": {
   "codemirror_mode": {
    "name": "ipython",
    "version": 3
   },
   "file_extension": ".py",
   "mimetype": "text/x-python",
   "name": "python",
   "nbconvert_exporter": "python",
   "pygments_lexer": "ipython3",
   "version": "3.7.6"
  }
 },
 "nbformat": 4,
 "nbformat_minor": 4
}
