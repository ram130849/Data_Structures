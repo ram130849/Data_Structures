{
 "cells": [
  {
   "cell_type": "code",
   "execution_count": 4,
   "metadata": {},
   "outputs": [],
   "source": [
    "arr1 = [1,2,2,3,5,5,5,5,5,3,3,3,4,4,4,4]"
   ]
  },
  {
   "cell_type": "code",
   "execution_count": 13,
   "metadata": {},
   "outputs": [],
   "source": [
    "def findInd1(arr):\n",
    "    count = 1\n",
    "    element = arr[0]\n",
    "    total = 0\n",
    "    for i in range(1,len(arr)):\n",
    "        if(arr[i-1]==arr[i]):\n",
    "            count+=1\n",
    "            print(arr[i],count)\n",
    "        else:\n",
    "            if(count == element):\n",
    "                print(\"Matched\",count,element,i)\n",
    "                total +=1\n",
    "            element = arr[i]\n",
    "            count = 1\n",
    "        if(i==len(arr)-1 and count == element):\n",
    "            total +=1\n",
    "    return total"
   ]
  },
  {
   "cell_type": "code",
   "execution_count": 22,
   "metadata": {},
   "outputs": [],
   "source": [
    "def findInd2(arr):\n",
    "    total = 0\n",
    "    count = 1\n",
    "    start = arr[0]\n",
    "    for i in range(1,len(arr)):\n",
    "        if(arr[i]==start):\n",
    "            count+=1\n",
    "        else:\n",
    "            if(count==start):\n",
    "                print(count,start,i,arr[i],arr[i-1])\n",
    "                total +=1\n",
    "                count = 0\n",
    "            if(i+1==arr[i]):\n",
    "                start = arr[i]\n",
    "                count +=1\n",
    "                continue\n",
    "    return total"
   ]
  },
  {
   "cell_type": "code",
   "execution_count": null,
   "metadata": {},
   "outputs": [],
   "source": [
    "def difference_calculator(arr):\n",
    "    ind1 = findInd1()\n",
    "    ind2 = findInd2()\n",
    "    return abs(ind1-ind2)"
   ]
  },
  {
   "cell_type": "code",
   "execution_count": 5,
   "metadata": {},
   "outputs": [
    {
     "name": "stdout",
     "output_type": "stream",
     "text": [
      "1 1\n",
      "2 2\n",
      "5 5\n",
      "3 3\n"
     ]
    },
    {
     "data": {
      "text/plain": [
       "4"
      ]
     },
     "execution_count": 5,
     "metadata": {},
     "output_type": "execute_result"
    }
   ],
   "source": [
    "findInd1(arr1)"
   ]
  },
  {
   "cell_type": "code",
   "execution_count": 23,
   "metadata": {},
   "outputs": [
    {
     "name": "stdout",
     "output_type": "stream",
     "text": [
      "Matched 1 1 1\n",
      "2 2\n",
      "2 3\n",
      "2 4\n",
      "3 2\n",
      "3 3\n",
      "Matched 3 3 8\n",
      "1 2\n",
      "2 2\n"
     ]
    },
    {
     "data": {
      "text/plain": [
       "3"
      ]
     },
     "execution_count": 23,
     "metadata": {},
     "output_type": "execute_result"
    }
   ],
   "source": [
    "findInd1([1,2,2,2,2,3,3,3,1,1,2,2])"
   ]
  },
  {
   "cell_type": "code",
   "execution_count": 25,
   "metadata": {},
   "outputs": [
    {
     "name": "stdout",
     "output_type": "stream",
     "text": [
      "1 1 1 2 1\n",
      "2 2 3 4 2\n"
     ]
    },
    {
     "data": {
      "text/plain": [
       "2"
      ]
     },
     "execution_count": 25,
     "metadata": {},
     "output_type": "execute_result"
    }
   ],
   "source": [
    "findInd2([1,2,2,4,5,5,5,5,5,6])"
   ]
  },
  {
   "cell_type": "code",
   "execution_count": null,
   "metadata": {},
   "outputs": [],
   "source": []
  },
  {
   "cell_type": "code",
   "execution_count": null,
   "metadata": {},
   "outputs": [],
   "source": []
  },
  {
   "cell_type": "code",
   "execution_count": null,
   "metadata": {},
   "outputs": [],
   "source": []
  },
  {
   "cell_type": "code",
   "execution_count": null,
   "metadata": {},
   "outputs": [],
   "source": []
  },
  {
   "cell_type": "code",
   "execution_count": null,
   "metadata": {},
   "outputs": [],
   "source": []
  },
  {
   "cell_type": "code",
   "execution_count": null,
   "metadata": {},
   "outputs": [],
   "source": []
  },
  {
   "cell_type": "code",
   "execution_count": null,
   "metadata": {},
   "outputs": [],
   "source": []
  }
 ],
 "metadata": {
  "kernelspec": {
   "display_name": "Python 3",
   "language": "python",
   "name": "python3"
  },
  "language_info": {
   "codemirror_mode": {
    "name": "ipython",
    "version": 3
   },
   "file_extension": ".py",
   "mimetype": "text/x-python",
   "name": "python",
   "nbconvert_exporter": "python",
   "pygments_lexer": "ipython3",
   "version": "3.7.6"
  }
 },
 "nbformat": 4,
 "nbformat_minor": 4
}
