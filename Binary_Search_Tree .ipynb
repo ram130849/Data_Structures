{
 "cells": [
  {
   "cell_type": "code",
   "execution_count": 1,
   "metadata": {},
   "outputs": [],
   "source": [
    "class Node:\n",
    "    def __init__(self,value=None):\n",
    "        self.value = value\n",
    "        self.left = None\n",
    "        self.right = None"
   ]
  },
  {
   "cell_type": "code",
   "execution_count": 3,
   "metadata": {},
   "outputs": [],
   "source": [
    "class binary_search_tree:\n",
    "    def __init__(self):\n",
    "        self.root = None\n",
    "    def insert(self,value):\n",
    "        if(self.root==None):\n",
    "            self.root = Node(value)\n",
    "        else:\n",
    "            self._insert(value,self.root)\n",
    "    def _insert(self,value,cur_node):\n",
    "        if(value<cur_node.val):\n",
    "            if(cur_node.left==None):\n",
    "                cur_node.left = Node(value)\n",
    "            else:\n",
    "                cur_node.left = self._insert(value,cur_node.left)\n",
    "        else:\n",
    "            if(cur_node.right==None):\n",
    "                cur_node.right = Node(value)\n",
    "            else:\n",
    "                cur_node.right = self._insert(value,cur_node.right)"
   ]
  },
  {
   "cell_type": "markdown",
   "metadata": {},
   "source": [
    "# Morris Traversal for Inorder: This algorithm traverses the tree without using stack and recursion. "
   ]
  },
  {
   "cell_type": "markdown",
   "metadata": {},
   "source": [
    "# Morris (InOrder) Traversal: it's a inorder tree traversal algorithm that does not employ the use of recursion or a stack. In this traversal links are created as successors and nodes are printed using these links. Finally, the changes are reverted back to restore the original tree.\n",
    "\n",
    "\n",
    "## 1. Initialize the root as current node.\n",
    "\n",
    "## 2. while current is not null check if the current node has a left child\n",
    "\n",
    "## 3. If current node does not have a left child, print current node and update it to point to the right child of current node. \n",
    "\n",
    "## 4. Else make current node the right child of the rightmost node in current's left subTree.\n",
    "\n",
    "## 5. Update current to this left Node."
   ]
  },
  {
   "cell_type": "code",
   "execution_count": 5,
   "metadata": {},
   "outputs": [],
   "source": [
    "def morris_inorder_traversal(root):\n",
    "    # Set current to root of the binary tree.\n",
    "    current = root\n",
    "    while(current):\n",
    "        if(current.left==None):\n",
    "            # Print the current value and update the current node to right child of current node.\n",
    "            print(current.value)\n",
    "            current = current.right\n",
    "        else:\n",
    "            # find the previous (prev) of curr.\n",
    "            prev = current.left\n",
    "            while(prev.right and prev.right!=current):\n",
    "                prev = prev.right\n",
    "            # Make current as right child of its prev.\n",
    "            if(prev.right==None):\n",
    "                prev.right = current\n",
    "                current = current.left\n",
    "            # fix the right child of prev.\n",
    "            else:\n",
    "                prev.right = None\n",
    "                print(current.value)\n",
    "                current = current.right"
   ]
  },
  {
   "cell_type": "markdown",
   "metadata": {},
   "source": [
    "# Morris Traversal for PreOrder: This algorithm traverses the tree without using stack and recursion. it's almost similar to morris traversal for inorder. "
   ]
  },
  {
   "cell_type": "code",
   "execution_count": 4,
   "metadata": {},
   "outputs": [],
   "source": [
    "def morris_preorder_traversal(root):\n",
    "    current = root\n",
    "    while(current):\n",
    "        if(current.left==None):\n",
    "            print(current.value)\n",
    "            current = current.right\n",
    "        else:\n",
    "            prev = current.left\n",
    "            while(prev and prev.right!=current):\n",
    "                prev = prev.right\n",
    "            if(prev.right==current):\n",
    "                prev.right = None\n",
    "                current = current.right\n",
    "            else:\n",
    "                print(current.value)\n",
    "                prev.right = current\n",
    "                current = current.left"
   ]
  },
  {
   "cell_type": "code",
   "execution_count": null,
   "metadata": {},
   "outputs": [],
   "source": []
  },
  {
   "cell_type": "code",
   "execution_count": null,
   "metadata": {},
   "outputs": [],
   "source": []
  },
  {
   "cell_type": "code",
   "execution_count": null,
   "metadata": {},
   "outputs": [],
   "source": []
  },
  {
   "cell_type": "code",
   "execution_count": null,
   "metadata": {},
   "outputs": [],
   "source": []
  },
  {
   "cell_type": "code",
   "execution_count": null,
   "metadata": {},
   "outputs": [],
   "source": []
  },
  {
   "cell_type": "code",
   "execution_count": null,
   "metadata": {},
   "outputs": [],
   "source": []
  }
 ],
 "metadata": {
  "kernelspec": {
   "display_name": "Python 3",
   "language": "python",
   "name": "python3"
  },
  "language_info": {
   "codemirror_mode": {
    "name": "ipython",
    "version": 3
   },
   "file_extension": ".py",
   "mimetype": "text/x-python",
   "name": "python",
   "nbconvert_exporter": "python",
   "pygments_lexer": "ipython3",
   "version": "3.7.6"
  }
 },
 "nbformat": 4,
 "nbformat_minor": 4
}
