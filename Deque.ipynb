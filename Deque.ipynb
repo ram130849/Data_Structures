class Node:
    def __init__(self,data):
            self.data = data
            self.next = None
class Deque:
    def __init__(self):
            self.front = None
            self.dequeSize = 0
    def insertAtFront(self,data):
            temp=Node(data)
            if(self.front == None):
                self.front = temp
            else:
                temp.next = self.front
                self.front = temp
            self.dequeSize+=1
    def insertAtRear(self,data):
            temp = Node(data)
            if(self.front == None):
                self.front = temp
            else:
                curr = self.front
                while(curr.next!=None):
                    curr = curr.next
                curr.next = temp
            self.dequeSize+=1
    def deleteAtFront(self):
        try:
            if(self.dequeSize==0):
                raise "deque is Empty"
            else:
                temp = self.front
                self.front = self.front.next
                del temp
                self.dequeSize-=1
        except Exception as e:
                print(str(e))
    def deleteAtRear(self):
        try:
            if(self.dequeSize==0):
                raise "deque is Empty"
            else:
                curr = self.front
                while(curr.next!=None):
                    prev = curr
                    curr = curr.next
                    prev.next = curr.next
                    del curr
                self.dequeSize-=1
        except Exception as e:
                print(str(e))
    def size(self):
        return self.dequeSize
    def isEmpty(self):
        if(self.dequeSize==0):
            return True
        return False
    def peekFront(self):
        try:
            if(self.dequeSize==0):
                raise "deque is Empty"
            else:
                return self.front.data
        except(Exception as e):
            print(str(e))
    def peekRear(self):
        try:
            if(self.dequeSize==0):
                raise "deque is Empty"
            else:
                curr = self.front
                while(curr.next!=None):
                    curr = curr.next
                return curr.data
        except(Exception as e):
                print(str(e))
            
            
