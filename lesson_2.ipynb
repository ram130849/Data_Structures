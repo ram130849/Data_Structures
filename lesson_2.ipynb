{
 "cells": [
  {
   "cell_type": "markdown",
   "metadata": {},
   "source": [
    "# Binary Search Trees"
   ]
  },
  {
   "cell_type": "code",
   "execution_count": 2,
   "metadata": {},
   "outputs": [],
   "source": [
    "class User:\n",
    "    def __init__(self,username,age,email):\n",
    "        self.username = username\n",
    "        self.age = age\n",
    "        self.email = email\n",
    "        print(\"User Created\")\n",
    "    def introduce_yourself(self,guest_name):\n",
    "        print(\"hi {} I'm {} my age is {} and my email id is {}.\".format(guest_name,self.username,self.age,self.email))"
   ]
  },
  {
   "cell_type": "code",
   "execution_count": 3,
   "metadata": {},
   "outputs": [
    {
     "name": "stdout",
     "output_type": "stream",
     "text": [
      "User Created\n"
     ]
    }
   ],
   "source": [
    "user = User(\"Ramki\",\"25\",\"ramki13084@gmail.com\")"
   ]
  },
  {
   "cell_type": "code",
   "execution_count": 4,
   "metadata": {},
   "outputs": [
    {
     "data": {
      "text/plain": [
       "<__main__.User at 0x27adfa83388>"
      ]
     },
     "execution_count": 4,
     "metadata": {},
     "output_type": "execute_result"
    }
   ],
   "source": [
    "user"
   ]
  },
  {
   "cell_type": "code",
   "execution_count": 5,
   "metadata": {},
   "outputs": [
    {
     "data": {
      "text/plain": [
       "('Ramki', '25', 'ramki13084@gmail.com')"
      ]
     },
     "execution_count": 5,
     "metadata": {},
     "output_type": "execute_result"
    }
   ],
   "source": [
    "user.username, user.age, user.email"
   ]
  },
  {
   "cell_type": "code",
   "execution_count": 6,
   "metadata": {},
   "outputs": [
    {
     "name": "stdout",
     "output_type": "stream",
     "text": [
      "User Created\n",
      "hi Ram I'm jane my age is 32 and my email id is jane.doe@example.com.\n"
     ]
    }
   ],
   "source": [
    "user1 = User(\"jane\",\"32\",\"jane.doe@example.com\")\n",
    "user1.introduce_yourself(\"Ram\")"
   ]
  },
  {
   "cell_type": "code",
   "execution_count": 7,
   "metadata": {},
   "outputs": [],
   "source": [
    "class User:\n",
    "    def __init__(self,username,age,email):\n",
    "            self.username = username\n",
    "            self.age = age\n",
    "            self.email = email\n",
    "    def __repr__(self):\n",
    "            return \"User(username = '{}', age = '{}', email = '{}').\".format(self.username,self.age,self.email)\n",
    "    def __str__(self):\n",
    "            return self.__repr__(self)"
   ]
  },
  {
   "cell_type": "code",
   "execution_count": 8,
   "metadata": {},
   "outputs": [
    {
     "data": {
      "text/plain": [
       "User(username = 'Jansi', age = '27', email = 'jansi2000@mani.com')."
      ]
     },
     "execution_count": 8,
     "metadata": {},
     "output_type": "execute_result"
    }
   ],
   "source": [
    "user2 = User(\"Jansi\",\"27\",\"jansi2000@mani.com\")\n",
    "user2"
   ]
  },
  {
   "cell_type": "code",
   "execution_count": 9,
   "metadata": {},
   "outputs": [],
   "source": [
    "class UserDatabase:\n",
    "        def __init__(self):\n",
    "            pass\n",
    "        def __insert__(self,user):\n",
    "            pass\n",
    "        def __find__(self,username):\n",
    "            pass\n",
    "        def __update__(self,user):\n",
    "            pass\n",
    "        def __list__(self):\n",
    "            pass"
   ]
  },
  {
   "cell_type": "code",
   "execution_count": 10,
   "metadata": {},
   "outputs": [],
   "source": [
    "aakash = User(\"Aakash\",\"33\",\"aakash@example.com\")\n",
    "biraj = User(\"Biraj kannan\",\"12\",\"biraj@example.com\")\n",
    "hemanth = User(\"Hemanth Bavari\",\"21\",\"hemant.199@example.com\")\n",
    "jadesh = User(\"Jadesh Lopez\",\"39\",\"jadesh@example.com\")\n",
    "siddarth = User(\"Siddarth Kotari\",\"28\",\"siddarthkot@example.com\")\n",
    "sonaksh = User(\"Sonaksh Sinha\",\"87\",\"sonaksh@example.com\")\n",
    "vishal = User(\"Vishal Potluri\",\"48\",\"vishal@example.com\")"
   ]
  },
  {
   "cell_type": "code",
   "execution_count": 11,
   "metadata": {},
   "outputs": [],
   "source": [
    "users = [aakash,biraj,hemanth,jadesh,siddarth,sonaksh,vishal]"
   ]
  },
  {
   "cell_type": "code",
   "execution_count": 12,
   "metadata": {},
   "outputs": [
    {
     "data": {
      "text/plain": [
       "User(username = 'Aakash', age = '33', email = 'aakash@example.com')."
      ]
     },
     "execution_count": 12,
     "metadata": {},
     "output_type": "execute_result"
    }
   ],
   "source": [
    "aakash"
   ]
  },
  {
   "cell_type": "code",
   "execution_count": 13,
   "metadata": {},
   "outputs": [],
   "source": [
    "class UserDatabase:\n",
    "        def __init__(self):\n",
    "            self.users = []\n",
    "        def __insert__(self,user):\n",
    "            i=0\n",
    "            if len(self.users)>0:\n",
    "                while i<len(self.users):\n",
    "                    if self.users[i].username > user.username:\n",
    "                                    break\n",
    "                    i +=1\n",
    "                self.users.insert(i,user)\n",
    "            else:\n",
    "                self.users.insert(i,user)\n",
    "            print(\"User Created with User Name {}.\".format(user.username))\n",
    "        def __find__(self,username):\n",
    "            for user in self.users:\n",
    "                if user.username == username:\n",
    "                    return user\n",
    "        def __update__(self,user):\n",
    "                target = self.__find__(user.username)\n",
    "                target.age,target.email = user.age,user.email\n",
    "        def __list__(self):\n",
    "                return self.users"
   ]
  },
  {
   "cell_type": "code",
   "execution_count": 14,
   "metadata": {},
   "outputs": [],
   "source": [
    "database = UserDatabase()"
   ]
  },
  {
   "cell_type": "code",
   "execution_count": 15,
   "metadata": {},
   "outputs": [
    {
     "name": "stdout",
     "output_type": "stream",
     "text": [
      "User Created with User Name Aakash.\n",
      "User Created with User Name Biraj kannan.\n",
      "User Created with User Name Hemanth Bavari.\n",
      "User Created with User Name Jadesh Lopez.\n",
      "User Created with User Name Siddarth Kotari.\n",
      "User Created with User Name Sonaksh Sinha.\n",
      "User Created with User Name Vishal Potluri.\n"
     ]
    }
   ],
   "source": [
    "database.__insert__(aakash)\n",
    "database.__insert__(biraj)\n",
    "database.__insert__(hemanth)\n",
    "database.__insert__(jadesh)\n",
    "database.__insert__(siddarth)\n",
    "database.__insert__(sonaksh)\n",
    "database.__insert__(vishal)"
   ]
  },
  {
   "cell_type": "code",
   "execution_count": 16,
   "metadata": {},
   "outputs": [
    {
     "data": {
      "text/plain": [
       "User(username = 'Siddarth Kotari', age = '28', email = 'siddarthkot@example.com')."
      ]
     },
     "execution_count": 16,
     "metadata": {},
     "output_type": "execute_result"
    }
   ],
   "source": [
    "user = database.__find__(\"Siddarth Kotari\")\n",
    "user"
   ]
  },
  {
   "cell_type": "code",
   "execution_count": 17,
   "metadata": {},
   "outputs": [
    {
     "data": {
      "text/plain": [
       "[User(username = 'Aakash', age = '33', email = 'aakash@example.com').,\n",
       " User(username = 'Biraj kannan', age = '12', email = 'biraj@example.com').,\n",
       " User(username = 'Hemanth Bavari', age = '21', email = 'hemant.199@example.com').,\n",
       " User(username = 'Jadesh Lopez', age = '39', email = 'jadesh@example.com').,\n",
       " User(username = 'Siddarth Kotari', age = '28', email = 'siddarthkot@example.com').,\n",
       " User(username = 'Sonaksh Sinha', age = '87', email = 'sonaksh@example.com').,\n",
       " User(username = 'Vishal Potluri', age = '48', email = 'vishal@example.com').]"
      ]
     },
     "execution_count": 17,
     "metadata": {},
     "output_type": "execute_result"
    }
   ],
   "source": [
    "database.__list__()"
   ]
  },
  {
   "cell_type": "code",
   "execution_count": 18,
   "metadata": {},
   "outputs": [
    {
     "name": "stdout",
     "output_type": "stream",
     "text": [
      "Wall time: 324 ms\n"
     ]
    }
   ],
   "source": [
    "%%time\n",
    "for i in range(1000000):\n",
    "        j = i*i"
   ]
  },
  {
   "cell_type": "markdown",
   "metadata": {},
   "source": [
    "#  For Database Operation Performance is considered hence we can try to implement the Balanced Tree Data Structure to improve the performance from\n",
    "# O(N) searching time  to O(logN) searching time"
   ]
  },
  {
   "cell_type": "code",
   "execution_count": 19,
   "metadata": {},
   "outputs": [],
   "source": [
    "class TreeNode:\n",
    "    def __init__(self,key):\n",
    "        self.key = key\n",
    "        self.left = None\n",
    "        self.right = None\n",
    "    def __str__(self):\n",
    "            return \"TreeNode(Left: {},Key: {}, Right: {}).\".format(self.left,self.key,self.right)"
   ]
  },
  {
   "cell_type": "code",
   "execution_count": 20,
   "metadata": {},
   "outputs": [],
   "source": [
    "node0 = TreeNode(3)\n",
    "node1 = TreeNode(5)\n",
    "node2 = TreeNode(7)"
   ]
  },
  {
   "cell_type": "code",
   "execution_count": 21,
   "metadata": {},
   "outputs": [],
   "source": [
    "node0.left = node1\n",
    "node0.right = node2"
   ]
  },
  {
   "cell_type": "code",
   "execution_count": 22,
   "metadata": {},
   "outputs": [
    {
     "name": "stdout",
     "output_type": "stream",
     "text": [
      "TreeNode(Left: TreeNode(Left: None,Key: 5, Right: None).,Key: 3, Right: TreeNode(Left: None,Key: 7, Right: None).).\n",
      "3\n",
      "TreeNode(Left: None,Key: 5, Right: None).\n",
      "5\n",
      "TreeNode(Left: None,Key: 7, Right: None).\n",
      "7\n"
     ]
    }
   ],
   "source": [
    "print(node0)\n",
    "print(node0.key)\n",
    "print(node0.left)\n",
    "print(node0.left.key)\n",
    "print(node0.right)\n",
    "print(node0.right.key)"
   ]
  },
  {
   "cell_type": "code",
   "execution_count": 23,
   "metadata": {},
   "outputs": [],
   "source": [
    "tree_tuple = ((((8,9,10),7,(12,11,13)),5,(((None,19,20),18,(22,21,23)),14,(16,15,17))),3,(((26,27,None),25,(28,29,30)),24,(32,31,33)))"
   ]
  },
  {
   "cell_type": "code",
   "execution_count": 24,
   "metadata": {},
   "outputs": [],
   "source": [
    "def parse_tuple(data):\n",
    "        if isinstance(data,tuple) and len(data) == 3:\n",
    "                node = TreeNode(data[1])\n",
    "                node.left = parse_tuple(data[0])\n",
    "                node.right = parse_tuple(data[2])\n",
    "        elif data is None:\n",
    "                node = None\n",
    "        else:\n",
    "                node = TreeNode(data)\n",
    "        return node"
   ]
  },
  {
   "cell_type": "code",
   "execution_count": 25,
   "metadata": {},
   "outputs": [
    {
     "data": {
      "text/plain": [
       "3"
      ]
     },
     "execution_count": 25,
     "metadata": {},
     "output_type": "execute_result"
    }
   ],
   "source": [
    "tree = parse_tuple(tree_tuple)\n",
    "tree.key"
   ]
  },
  {
   "cell_type": "code",
   "execution_count": 26,
   "metadata": {},
   "outputs": [
    {
     "data": {
      "text/plain": [
       "(5, 24)"
      ]
     },
     "execution_count": 26,
     "metadata": {},
     "output_type": "execute_result"
    }
   ],
   "source": [
    "tree.left.key,tree.right.key"
   ]
  },
  {
   "cell_type": "code",
   "execution_count": 27,
   "metadata": {},
   "outputs": [
    {
     "data": {
      "text/plain": [
       "(7, 14, 25, 31)"
      ]
     },
     "execution_count": 27,
     "metadata": {},
     "output_type": "execute_result"
    }
   ],
   "source": [
    "tree.left.left.key,tree.left.right.key,tree.right.left.key,tree.right.right.key"
   ]
  },
  {
   "cell_type": "code",
   "execution_count": 28,
   "metadata": {},
   "outputs": [
    {
     "data": {
      "text/plain": [
       "(9, 11, 18, 15, 27, 29, 32, 33)"
      ]
     },
     "execution_count": 28,
     "metadata": {},
     "output_type": "execute_result"
    }
   ],
   "source": [
    "tree.left.left.left.key,tree.left.left.right.key,tree.left.right.left.key,tree.left.right.right.key,tree.right.left.left.key,tree.right.left.right.key,tree.right.right.left.key,tree.right.right.right.key"
   ]
  },
  {
   "cell_type": "code",
   "execution_count": 29,
   "metadata": {},
   "outputs": [
    {
     "data": {
      "text/plain": [
       "(8, 10, 12, 13, 19, 21, 16, 17, 26, None, 28, 30, None, None, None, None)"
      ]
     },
     "execution_count": 29,
     "metadata": {},
     "output_type": "execute_result"
    }
   ],
   "source": [
    "tree.left.left.left.left.key,tree.left.left.left.right.key,tree.left.left.right.left.key,tree.left.left.right.right.key,tree.left.right.left.left.key,tree.left.right.left.right.key,tree.left.right.right.left.key,tree.left.right.right.right.key,tree.right.left.left.left.key,tree.right.left.left.right,tree.right.left.right.left.key,tree.right.left.right.right.key,tree.right.right.left.left,tree.right.right.left.right,tree.right.right.right.left,tree.right.right.right.right"
   ]
  },
  {
   "cell_type": "code",
   "execution_count": 30,
   "metadata": {},
   "outputs": [],
   "source": [
    "tree1 = ((3,2,4),1,(-2,-1,-3))\n",
    "tree1 = parse_tuple(tree1)"
   ]
  },
  {
   "cell_type": "code",
   "execution_count": 31,
   "metadata": {},
   "outputs": [],
   "source": [
    "def tree_to_tuple(node):\n",
    "    list = []\n",
    "    if isinstance(node,TreeNode):\n",
    "            if isinstance(node.left,TreeNode):\n",
    "                list.insert(0,tree_to_tuple(node.left))\n",
    "            elif node.left is None:\n",
    "                list.insert(0,node.key)\n",
    "                return list_to_integer(list)\n",
    "            if node.left is not None and node.right is not None:\n",
    "                list.insert(1,node.key)\n",
    "                \n",
    "            if isinstance(node.right,TreeNode):\n",
    "                list.insert(2,tree_to_tuple(node.right))\n",
    "            elif node.right is None:\n",
    "                list.insert(2,node.key) \n",
    "                return list_to_integer(list)\n",
    "    elif node is None:\n",
    "            list = None\n",
    "    return tuple(list)\n",
    "def list_to_integer(noList):\n",
    "                strings = [str(integer) for integer in noList]\n",
    "                an_integer = int(\"\".join(strings))\n",
    "                return an_integer"
   ]
  },
  {
   "cell_type": "code",
   "execution_count": 32,
   "metadata": {},
   "outputs": [
    {
     "data": {
      "text/plain": [
       "((((8, 9, 10), 7, (12, 11, 13)),\n",
       "  5,\n",
       "  ((19, 18, (22, 21, 23)), 14, (16, 15, 17))),\n",
       " 3,\n",
       " ((2627, 25, (28, 29, 30)), 24, (32, 31, 33)))"
      ]
     },
     "execution_count": 32,
     "metadata": {},
     "output_type": "execute_result"
    }
   ],
   "source": [
    "tree_to_tuple(tree)"
   ]
  },
  {
   "cell_type": "code",
   "execution_count": 33,
   "metadata": {},
   "outputs": [],
   "source": [
    "def display_keys(node,space=\"\\t\",level=0):\n",
    "        if node is None:\n",
    "            print(space*level + '@')\n",
    "            return\n",
    "        if node.left is None and node.right is None:\n",
    "            print(space*level + str(node.key))\n",
    "            return\n",
    "        display_keys(node.right,space,level+1)\n",
    "        print(space*level + str(node.key))\n",
    "        display_keys(node.left,space,level+1)        "
   ]
  },
  {
   "cell_type": "code",
   "execution_count": 34,
   "metadata": {},
   "outputs": [
    {
     "name": "stdout",
     "output_type": "stream",
     "text": [
      "\t\t\t33\n",
      "\t\t31\n",
      "\t\t\t32\n",
      "\t24\n",
      "\t\t\t\t30\n",
      "\t\t\t29\n",
      "\t\t\t\t28\n",
      "\t\t25\n",
      "\t\t\t\t@\n",
      "\t\t\t27\n",
      "\t\t\t\t26\n",
      "3\n",
      "\t\t\t\t17\n",
      "\t\t\t15\n",
      "\t\t\t\t16\n",
      "\t\t14\n",
      "\t\t\t\t\t23\n",
      "\t\t\t\t21\n",
      "\t\t\t\t\t22\n",
      "\t\t\t18\n",
      "\t\t\t\t\t20\n",
      "\t\t\t\t19\n",
      "\t\t\t\t\t@\n",
      "\t5\n",
      "\t\t\t\t13\n",
      "\t\t\t11\n",
      "\t\t\t\t12\n",
      "\t\t7\n",
      "\t\t\t\t10\n",
      "\t\t\t9\n",
      "\t\t\t\t8\n"
     ]
    }
   ],
   "source": [
    "display_keys(tree)"
   ]
  },
  {
   "cell_type": "code",
   "execution_count": 35,
   "metadata": {},
   "outputs": [],
   "source": [
    "def traverse_in_order(node):\n",
    "    if node is None:\n",
    "        return []\n",
    "    return (traverse_in_order(node.left) + [node.key] + traverse_in_order(node.right))"
   ]
  },
  {
   "cell_type": "code",
   "execution_count": 36,
   "metadata": {},
   "outputs": [
    {
     "data": {
      "text/plain": [
       "[8,\n",
       " 9,\n",
       " 10,\n",
       " 7,\n",
       " 12,\n",
       " 11,\n",
       " 13,\n",
       " 5,\n",
       " 19,\n",
       " 20,\n",
       " 18,\n",
       " 22,\n",
       " 21,\n",
       " 23,\n",
       " 14,\n",
       " 16,\n",
       " 15,\n",
       " 17,\n",
       " 3,\n",
       " 26,\n",
       " 27,\n",
       " 25,\n",
       " 28,\n",
       " 29,\n",
       " 30,\n",
       " 24,\n",
       " 32,\n",
       " 31,\n",
       " 33]"
      ]
     },
     "execution_count": 36,
     "metadata": {},
     "output_type": "execute_result"
    }
   ],
   "source": [
    "traverse_in_order(tree)"
   ]
  },
  {
   "cell_type": "code",
   "execution_count": 37,
   "metadata": {},
   "outputs": [],
   "source": [
    "def traverse_pre_order(node):\n",
    "    if node is None:\n",
    "        return []\n",
    "    return ([node.key] + traverse_in_order(node.left) + traverse_in_order(node.right))"
   ]
  },
  {
   "cell_type": "code",
   "execution_count": 38,
   "metadata": {},
   "outputs": [
    {
     "data": {
      "text/plain": [
       "[3,\n",
       " 8,\n",
       " 9,\n",
       " 10,\n",
       " 7,\n",
       " 12,\n",
       " 11,\n",
       " 13,\n",
       " 5,\n",
       " 19,\n",
       " 20,\n",
       " 18,\n",
       " 22,\n",
       " 21,\n",
       " 23,\n",
       " 14,\n",
       " 16,\n",
       " 15,\n",
       " 17,\n",
       " 26,\n",
       " 27,\n",
       " 25,\n",
       " 28,\n",
       " 29,\n",
       " 30,\n",
       " 24,\n",
       " 32,\n",
       " 31,\n",
       " 33]"
      ]
     },
     "execution_count": 38,
     "metadata": {},
     "output_type": "execute_result"
    }
   ],
   "source": [
    "traverse_pre_order(tree)"
   ]
  },
  {
   "cell_type": "code",
   "execution_count": 39,
   "metadata": {},
   "outputs": [],
   "source": [
    "def traverse_post_order(node):\n",
    "    if node is None:\n",
    "        return []\n",
    "    return (traverse_in_order(node.left) + traverse_in_order(node.right) + [node.key])"
   ]
  },
  {
   "cell_type": "code",
   "execution_count": 40,
   "metadata": {},
   "outputs": [
    {
     "data": {
      "text/plain": [
       "[8,\n",
       " 9,\n",
       " 10,\n",
       " 7,\n",
       " 12,\n",
       " 11,\n",
       " 13,\n",
       " 5,\n",
       " 19,\n",
       " 20,\n",
       " 18,\n",
       " 22,\n",
       " 21,\n",
       " 23,\n",
       " 14,\n",
       " 16,\n",
       " 15,\n",
       " 17,\n",
       " 26,\n",
       " 27,\n",
       " 25,\n",
       " 28,\n",
       " 29,\n",
       " 30,\n",
       " 24,\n",
       " 32,\n",
       " 31,\n",
       " 33,\n",
       " 3]"
      ]
     },
     "execution_count": 40,
     "metadata": {},
     "output_type": "execute_result"
    }
   ],
   "source": [
    "traverse_post_order(tree)"
   ]
  },
  {
   "cell_type": "code",
   "execution_count": 41,
   "metadata": {},
   "outputs": [],
   "source": [
    "def tree_height(node): # tree_height returns the height of the tree\n",
    "    if node is None:\n",
    "        return 0\n",
    "    if node.left:\n",
    "        print(\"left subTree: \" + str(tree_height(node.left)))\n",
    "    if node.right:\n",
    "        print(\"right subTree: \" + str(tree_height(node.right)))\n",
    "    return 1 + max(tree_height(node.left),tree_height(node.right))"
   ]
  },
  {
   "cell_type": "code",
   "execution_count": 42,
   "metadata": {},
   "outputs": [
    {
     "name": "stdout",
     "output_type": "stream",
     "text": [
      "\t\t-3\n",
      "\t-1\n",
      "\t\t-2\n",
      "1\n",
      "\t\t4\n",
      "\t2\n",
      "\t\t3\n"
     ]
    }
   ],
   "source": [
    "display_keys(tree1)"
   ]
  },
  {
   "cell_type": "code",
   "execution_count": 43,
   "metadata": {},
   "outputs": [
    {
     "name": "stdout",
     "output_type": "stream",
     "text": [
      "left subTree: 1\n",
      "right subTree: 1\n",
      "left subTree: 2\n",
      "left subTree: 1\n",
      "right subTree: 1\n",
      "right subTree: 2\n",
      "left subTree: 1\n",
      "right subTree: 1\n",
      "left subTree: 1\n",
      "right subTree: 1\n"
     ]
    },
    {
     "data": {
      "text/plain": [
       "3"
      ]
     },
     "execution_count": 43,
     "metadata": {},
     "output_type": "execute_result"
    }
   ],
   "source": [
    "tree_height(tree1)"
   ]
  },
  {
   "cell_type": "code",
   "execution_count": 44,
   "metadata": {},
   "outputs": [],
   "source": [
    "def tree_size(node): # tree_size returns the no of elements in the tree\n",
    "    if node is None:\n",
    "        return 0\n",
    "    return 1 + tree_size(node.left) + tree_size(node.right)"
   ]
  },
  {
   "cell_type": "code",
   "execution_count": 45,
   "metadata": {},
   "outputs": [
    {
     "data": {
      "text/plain": [
       "7"
      ]
     },
     "execution_count": 45,
     "metadata": {},
     "output_type": "execute_result"
    }
   ],
   "source": [
    "tree_size(tree1)"
   ]
  },
  {
   "cell_type": "markdown",
   "metadata": {},
   "source": [
    "# Binary Search Tree\n",
    "\n",
    "## Binary Search Tree is a node-based binary tree data structure which has the following properties:  \n",
    "\n",
    "### The left subtree of a node contains only nodes with keys lesser than the node’s key.\n",
    "###  The right subtree of a node contains only nodes with keys greater than the node’s key.\n",
    "### The left and right subtree each must also be a binary search tree. \n",
    "### There must be no duplicate nodes."
   ]
  },
  {
   "cell_type": "code",
   "execution_count": 46,
   "metadata": {},
   "outputs": [],
   "source": [
    "def search(node,key):\n",
    "    if node is None:\n",
    "            return None\n",
    "    elif node.key == key:\n",
    "            return node.key\n",
    "    if node.key < key:\n",
    "            return search(node.right,key)\n",
    "    return search(node.left,key)"
   ]
  },
  {
   "cell_type": "code",
   "execution_count": 47,
   "metadata": {},
   "outputs": [],
   "source": [
    "class TreeNode:\n",
    "    def __init__(self,key):\n",
    "        self.key = key\n",
    "        self.left = None\n",
    "        self.right = None\n",
    "    def insert(self,root,key):\n",
    "        if root is None:\n",
    "            return TreeNode(key)\n",
    "        else:\n",
    "            if root.key == key:\n",
    "                return root\n",
    "            elif root.key < key:\n",
    "                 root.right = self.insert(root.right,key)\n",
    "            else:\n",
    "                 root.left =  self.insert(root.left,key)\n",
    "        return root\n",
    "    def inorder(self,root):\n",
    "        if root:\n",
    "            self.inorder(root.left)\n",
    "            print(root.key)\n",
    "            self.inorder(root.right)"
   ]
  },
  {
   "cell_type": "code",
   "execution_count": 48,
   "metadata": {},
   "outputs": [
    {
     "name": "stdout",
     "output_type": "stream",
     "text": [
      "50\n",
      "20\n",
      "30\n",
      "40\n",
      "50\n",
      "60\n",
      "70\n",
      "80\n"
     ]
    }
   ],
   "source": [
    "# Driver program to test the above functions\n",
    "# Let us create the following BST\n",
    "#    50\n",
    "#  /     \\\n",
    "# 30     70\n",
    "#  / \\ / \\\n",
    "# 20 40 60 80\n",
    " \n",
    "r = TreeNode(50)\n",
    "print(r.insert(r, 30).key)\n",
    "r.insert(r, 20)\n",
    "r.insert(r, 40)\n",
    "r.insert(r, 70)\n",
    "r.insert(r, 60)\n",
    "r.insert(r, 80)\n",
    " \n",
    "# Print inoder traversal of the BST\n",
    "r.inorder(r)"
   ]
  },
  {
   "cell_type": "code",
   "execution_count": 49,
   "metadata": {},
   "outputs": [
    {
     "name": "stdout",
     "output_type": "stream",
     "text": [
      "50\n"
     ]
    }
   ],
   "source": [
    "print(search(r,50))"
   ]
  },
  {
   "cell_type": "code",
   "execution_count": 50,
   "metadata": {},
   "outputs": [],
   "source": [
    "def remove_none(nums):\n",
    "    return [x for x in nums if x is not None]\n",
    "def is_bst(node):\n",
    "    if node is None:\n",
    "        return True,None,None\n",
    "    is_bst_l,min_l,max_l = is_bst(node.left)\n",
    "    is_bst_r,min_r,max_r = is_bst(node.right)\n",
    "    is_bst_node = (is_bst_l and is_bst_r and \n",
    "                   (max_l is None or node.key > max_l) and \n",
    "                   (min_r is None or node.key < min_r))\n",
    "    min_key = min(remove_none([min_l,node.key,min_r]))\n",
    "    max_key = max(remove_none([max_l,node.key,max_r]))\n",
    "    return is_bst_node, min_key, max_key"
   ]
  },
  {
   "cell_type": "code",
   "execution_count": 51,
   "metadata": {},
   "outputs": [],
   "source": [
    "tree_tuple1 = (((1,3,None),2,((None,3,4),5,(6,7,8))))\n",
    "tree2 = parse_tuple(tree_tuple1)"
   ]
  },
  {
   "cell_type": "code",
   "execution_count": 52,
   "metadata": {},
   "outputs": [
    {
     "data": {
      "text/plain": [
       "(False, 1, 8)"
      ]
     },
     "execution_count": 52,
     "metadata": {},
     "output_type": "execute_result"
    }
   ],
   "source": [
    "is_bst(tree2)"
   ]
  },
  {
   "cell_type": "code",
   "execution_count": 53,
   "metadata": {},
   "outputs": [],
   "source": [
    "tree_tuple2 = ((('aakash','biraaj','hemanth'),'jadesh',('sonaksh','siddanth','vishal')))\n",
    "tree3 = parse_tuple(tree_tuple2)"
   ]
  },
  {
   "cell_type": "code",
   "execution_count": 54,
   "metadata": {},
   "outputs": [
    {
     "data": {
      "text/plain": [
       "(False, 'aakash', 'vishal')"
      ]
     },
     "execution_count": 54,
     "metadata": {},
     "output_type": "execute_result"
    }
   ],
   "source": [
    "is_bst(tree3)"
   ]
  },
  {
   "cell_type": "code",
   "execution_count": 55,
   "metadata": {},
   "outputs": [
    {
     "name": "stdout",
     "output_type": "stream",
     "text": [
      "\t\tvishal\n",
      "\tsiddanth\n",
      "\t\tsonaksh\n",
      "jadesh\n",
      "\t\themanth\n",
      "\tbiraaj\n",
      "\t\taakash\n"
     ]
    }
   ],
   "source": [
    "display_keys(tree3)"
   ]
  },
  {
   "cell_type": "code",
   "execution_count": null,
   "metadata": {},
   "outputs": [],
   "source": []
  },
  {
   "cell_type": "code",
   "execution_count": null,
   "metadata": {},
   "outputs": [],
   "source": []
  },
  {
   "cell_type": "code",
   "execution_count": null,
   "metadata": {},
   "outputs": [],
   "source": []
  },
  {
   "cell_type": "code",
   "execution_count": null,
   "metadata": {},
   "outputs": [],
   "source": []
  }
 ],
 "metadata": {
  "kernelspec": {
   "display_name": "Python 3",
   "language": "python",
   "name": "python3"
  },
  "language_info": {
   "codemirror_mode": {
    "name": "ipython",
    "version": 3
   },
   "file_extension": ".py",
   "mimetype": "text/x-python",
   "name": "python",
   "nbconvert_exporter": "python",
   "pygments_lexer": "ipython3",
   "version": "3.7.6"
  }
 },
 "nbformat": 4,
 "nbformat_minor": 4
}
