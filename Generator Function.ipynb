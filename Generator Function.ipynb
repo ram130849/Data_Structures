{
 "cells": [
  {
   "cell_type": "code",
   "execution_count": 1,
   "metadata": {},
   "outputs": [
    {
     "name": "stdout",
     "output_type": "stream",
     "text": [
      "0\n",
      "1\n",
      "4\n",
      "9\n",
      "16\n",
      "25\n"
     ]
    }
   ],
   "source": [
    "data = [0,1,2,3,4,5]\n",
    "generator = (data[i]*data[i] for i in range(len(data)))\n",
    "for element in generator:\n",
    "    print(element)"
   ]
  },
  {
   "cell_type": "code",
   "execution_count": 4,
   "metadata": {},
   "outputs": [
    {
     "name": "stdout",
     "output_type": "stream",
     "text": [
      "<class 'generator'>\n",
      "1\n",
      "4\n",
      "9\n",
      "16\n",
      "25\n",
      "36\n",
      "49\n",
      "64\n",
      "81\n"
     ]
    }
   ],
   "source": [
    "values = [1,2,3,4,5,6,7,8,9]\n",
    "squares  =  (no**2 for no in values)\n",
    "print(type(squares))\n",
    "print(next(squares))\n",
    "print(next(squares))\n",
    "print(next(squares))\n",
    "print(next(squares))\n",
    "print(next(squares))\n",
    "print(next(squares))\n",
    "print(next(squares))\n",
    "print(next(squares))\n",
    "print(next(squares))"
   ]
  },
  {
   "cell_type": "code",
   "execution_count": 5,
   "metadata": {},
   "outputs": [
    {
     "name": "stdout",
     "output_type": "stream",
     "text": [
      "<class 'generator'>\n",
      "[4, 16, 36, 64]\n"
     ]
    }
   ],
   "source": [
    "values = [1,2,3,4,5,6,7,8,9]\n",
    "squares  =  (no**2 for no in values if no%2==0)\n",
    "print(type(squares))\n",
    "print(list(squares))"
   ]
  },
  {
   "cell_type": "code",
   "execution_count": 7,
   "metadata": {},
   "outputs": [
    {
     "name": "stdout",
     "output_type": "stream",
     "text": [
      "<class 'generator'>\n",
      "1st string\n",
      "2nd string\n"
     ]
    }
   ],
   "source": [
    "def Yeild():\n",
    "    Str = \"1st string\"\n",
    "    yield Str\n",
    "    Str = \"2nd string\"\n",
    "    yield Str\n",
    "obj = Yeild()\n",
    "print(type(obj))\n",
    "print(next(obj))\n",
    "print(next(obj))"
   ]
  },
  {
   "cell_type": "code",
   "execution_count": 8,
   "metadata": {},
   "outputs": [
    {
     "name": "stdout",
     "output_type": "stream",
     "text": [
      "<generator object counter at 0x00000244BCF519C8>\n",
      "0\n",
      "1\n",
      "2\n",
      "3\n",
      "4\n",
      "5\n",
      "6\n",
      "7\n",
      "8\n",
      "9\n"
     ]
    }
   ],
   "source": [
    "def counter():\n",
    "    x = 0\n",
    "    while(x<10):\n",
    "        yield x\n",
    "        x+=1\n",
    "print(counter())\n",
    "for val in counter():\n",
    "    print(val)"
   ]
  },
  {
   "cell_type": "code",
   "execution_count": 9,
   "metadata": {},
   "outputs": [
    {
     "name": "stdout",
     "output_type": "stream",
     "text": [
      "The count of the word in the sentence is: 4\n"
     ]
    }
   ],
   "source": [
    "def count_words(sentence,word):\n",
    "    for string in sentence:\n",
    "        if(word==string):\n",
    "            yield 1\n",
    "sentence = \"There is a big hole in the middle of the big city that is big enough to let in a big helicopter.\"\n",
    "word = \"big\"\n",
    "count = 0\n",
    "for i in count_words(sentence.split(),word):\n",
    "    count +=i\n",
    "print(\"The count of the word in the sentence is:\",count)"
   ]
  },
  {
   "cell_type": "code",
   "execution_count": 13,
   "metadata": {},
   "outputs": [
    {
     "name": "stdout",
     "output_type": "stream",
     "text": [
      "<class 'enumerate'>\n",
      "(0, 'apple')\n",
      "(1, 'jackfruit')\n",
      "(2, 'mango')\n",
      "(3, 'strawberry')\n",
      "(4, 'pineapple')\n",
      "(5, 'muskmelon')\n"
     ]
    }
   ],
   "source": [
    "fruits = ('apple','jackfruit','mango','strawberry','pineapple','muskmelon','lemon','avacado')\n",
    "iterator = enumerate(fruits)\n",
    "print(type(iterator))\n",
    "print(next(iterator))\n",
    "print(next(iterator))\n",
    "print(next(iterator))\n",
    "print(next(iterator))\n",
    "print(next(iterator))\n",
    "print(next(iterator))"
   ]
  },
  {
   "cell_type": "code",
   "execution_count": 14,
   "metadata": {},
   "outputs": [
    {
     "name": "stdout",
     "output_type": "stream",
     "text": [
      "<class 'reversed'>\n",
      "avacado\n",
      "lemon\n",
      "muskmelon\n",
      "pineapple\n",
      "strawberry\n",
      "mango\n"
     ]
    }
   ],
   "source": [
    "iterator = reversed(fruits)\n",
    "print(type(iterator))\n",
    "print(next(iterator))\n",
    "print(next(iterator))\n",
    "print(next(iterator))\n",
    "print(next(iterator))\n",
    "print(next(iterator))\n",
    "print(next(iterator))"
   ]
  },
  {
   "cell_type": "markdown",
   "metadata": {},
   "source": [
    "# The Python’s zip, map and filer objects are also iterators. \n",
    "\n",
    "## Sequences: \n",
    "## Sequences are a very common type of iterable. Ex- for built-in sequence types are lists, strings, and tuples.\n",
    "\n",
    "## Other Iterables\n",
    "## Many things in Python are iterables, but not all of them are sequences. Dictionaries, file objects, sets, and generators all are iterables, but none of them is a sequence.\n",
    "\n",
    "### We can loop over an iterable without using a for loop. Some of us may think that we can use a while loop and generate indices to get this output.\n",
    "\n",
    "### It seems that this approach works very well for lists and other sequence objects as well. What about the non-sequence objects? They don’t support indexing, so this approach will not work for them, we will get an error."
   ]
  },
  {
   "cell_type": "markdown",
   "metadata": {},
   "source": [
    "## What is an Iterator? \n",
    "### Iterator is an object which can be looped through and maintains its state during the iteration which means it remembers where it is during an iteration. An iterator is an object that enables a programmer to traverse a container, particularly lists. Different types of iterators are often provided via a container's interface. \n",
    "\n",
    "### It has a __next__() method that returns the next value from the iteration and updates the state to point at the next value.Iterator is simplyan object that can be iterated upon. An object it will return data, one element at a time. \n",
    "### Python iterator object must implement two special methods, that is __iter__() and __next__() , \n",
    "### collectively called the iterator protocol.Thepurpose of an iterator is allow to process with every element of a container\n",
    "### while isolating the user from the internal structure of the container. The container provides the methods for \n",
    "### creating iterators."
   ]
  },
  {
   "cell_type": "code",
   "execution_count": null,
   "metadata": {},
   "outputs": [],
   "source": []
  },
  {
   "cell_type": "code",
   "execution_count": null,
   "metadata": {},
   "outputs": [],
   "source": []
  },
  {
   "cell_type": "code",
   "execution_count": null,
   "metadata": {},
   "outputs": [],
   "source": []
  },
  {
   "cell_type": "code",
   "execution_count": null,
   "metadata": {},
   "outputs": [],
   "source": []
  },
  {
   "cell_type": "code",
   "execution_count": null,
   "metadata": {},
   "outputs": [],
   "source": []
  },
  {
   "cell_type": "code",
   "execution_count": null,
   "metadata": {},
   "outputs": [],
   "source": []
  },
  {
   "cell_type": "code",
   "execution_count": null,
   "metadata": {},
   "outputs": [],
   "source": []
  },
  {
   "cell_type": "code",
   "execution_count": null,
   "metadata": {},
   "outputs": [],
   "source": []
  },
  {
   "cell_type": "code",
   "execution_count": null,
   "metadata": {},
   "outputs": [],
   "source": []
  },
  {
   "cell_type": "code",
   "execution_count": null,
   "metadata": {},
   "outputs": [],
   "source": []
  },
  {
   "cell_type": "code",
   "execution_count": null,
   "metadata": {},
   "outputs": [],
   "source": []
  },
  {
   "cell_type": "code",
   "execution_count": null,
   "metadata": {},
   "outputs": [],
   "source": []
  },
  {
   "cell_type": "code",
   "execution_count": null,
   "metadata": {},
   "outputs": [],
   "source": []
  },
  {
   "cell_type": "code",
   "execution_count": null,
   "metadata": {},
   "outputs": [],
   "source": []
  },
  {
   "cell_type": "code",
   "execution_count": null,
   "metadata": {},
   "outputs": [],
   "source": []
  },
  {
   "cell_type": "code",
   "execution_count": null,
   "metadata": {},
   "outputs": [],
   "source": []
  },
  {
   "cell_type": "code",
   "execution_count": null,
   "metadata": {},
   "outputs": [],
   "source": []
  },
  {
   "cell_type": "code",
   "execution_count": null,
   "metadata": {},
   "outputs": [],
   "source": []
  },
  {
   "cell_type": "code",
   "execution_count": null,
   "metadata": {},
   "outputs": [],
   "source": []
  },
  {
   "cell_type": "code",
   "execution_count": null,
   "metadata": {},
   "outputs": [],
   "source": []
  },
  {
   "cell_type": "code",
   "execution_count": null,
   "metadata": {},
   "outputs": [],
   "source": []
  },
  {
   "cell_type": "code",
   "execution_count": null,
   "metadata": {},
   "outputs": [],
   "source": []
  },
  {
   "cell_type": "code",
   "execution_count": null,
   "metadata": {},
   "outputs": [],
   "source": []
  },
  {
   "cell_type": "code",
   "execution_count": null,
   "metadata": {},
   "outputs": [],
   "source": []
  },
  {
   "cell_type": "code",
   "execution_count": null,
   "metadata": {},
   "outputs": [],
   "source": []
  },
  {
   "cell_type": "code",
   "execution_count": null,
   "metadata": {},
   "outputs": [],
   "source": []
  },
  {
   "cell_type": "code",
   "execution_count": null,
   "metadata": {},
   "outputs": [],
   "source": []
  },
  {
   "cell_type": "code",
   "execution_count": null,
   "metadata": {},
   "outputs": [],
   "source": []
  },
  {
   "cell_type": "code",
   "execution_count": null,
   "metadata": {},
   "outputs": [],
   "source": []
  },
  {
   "cell_type": "code",
   "execution_count": null,
   "metadata": {},
   "outputs": [],
   "source": []
  },
  {
   "cell_type": "code",
   "execution_count": null,
   "metadata": {},
   "outputs": [],
   "source": []
  },
  {
   "cell_type": "code",
   "execution_count": null,
   "metadata": {},
   "outputs": [],
   "source": []
  },
  {
   "cell_type": "code",
   "execution_count": null,
   "metadata": {},
   "outputs": [],
   "source": []
  },
  {
   "cell_type": "code",
   "execution_count": null,
   "metadata": {},
   "outputs": [],
   "source": []
  },
  {
   "cell_type": "code",
   "execution_count": null,
   "metadata": {},
   "outputs": [],
   "source": []
  },
  {
   "cell_type": "code",
   "execution_count": null,
   "metadata": {},
   "outputs": [],
   "source": []
  }
 ],
 "metadata": {
  "kernelspec": {
   "display_name": "Python 3",
   "language": "python",
   "name": "python3"
  },
  "language_info": {
   "codemirror_mode": {
    "name": "ipython",
    "version": 3
   },
   "file_extension": ".py",
   "mimetype": "text/x-python",
   "name": "python",
   "nbconvert_exporter": "python",
   "pygments_lexer": "ipython3",
   "version": "3.7.6"
  }
 },
 "nbformat": 4,
 "nbformat_minor": 4
}
