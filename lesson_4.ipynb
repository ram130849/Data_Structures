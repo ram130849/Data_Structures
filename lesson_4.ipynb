{
 "cells": [
  {
   "cell_type": "markdown",
   "metadata": {},
   "source": [
    "# Balanced Binary Search Trees"
   ]
  },
  {
   "cell_type": "code",
   "execution_count": 1,
   "metadata": {},
   "outputs": [],
   "source": [
    "def make_balanced_bst(data,lo=0,hi=None,parent=None):\n",
    "    if hi is None:\n",
    "        hi = len(arr)-1\n",
    "    elif lo>hi:\n",
    "        return None\n",
    "    mid =(lo+hi)//2\n",
    "    key,value = data[mid]\n",
    "    root = BSTNode(key,value)\n",
    "    root.left = make_balanced_bst(data,lo,mid-1,root)\n",
    "    root.right = make_balanced_bst(data,mid+1,hi,root)\n",
    "    return root"
   ]
  },
  {
   "cell_type": "markdown",
   "metadata": {},
   "source": [
    "## Hash Table Implementation in Python"
   ]
  },
  {
   "cell_type": "code",
   "execution_count": 1,
   "metadata": {},
   "outputs": [
    {
     "data": {
      "text/plain": [
       "{'Aakash': '9928928876',\n",
       " 'Hemant': '9637922873',\n",
       " 'Vinay': '9382178830',\n",
       " 'Siddant': '9783277850'}"
      ]
     },
     "execution_count": 1,
     "metadata": {},
     "output_type": "execute_result"
    }
   ],
   "source": [
    "phone_numbers = {\n",
    "    'Aakash':'9928928876',\n",
    "    'Hemant':'9637922873',\n",
    "    'Vinay':'9382178830',\n",
    "    'Siddant':'9783277850'\n",
    "}\n",
    "phone_numbers"
   ]
  },
  {
   "cell_type": "code",
   "execution_count": 2,
   "metadata": {},
   "outputs": [
    {
     "data": {
      "text/plain": [
       "'9928928876'"
      ]
     },
     "execution_count": 2,
     "metadata": {},
     "output_type": "execute_result"
    }
   ],
   "source": [
    "phone_numbers['Aakash']"
   ]
  },
  {
   "cell_type": "code",
   "execution_count": 3,
   "metadata": {},
   "outputs": [
    {
     "ename": "KeyError",
     "evalue": "'Vishal'",
     "output_type": "error",
     "traceback": [
      "\u001b[1;31m---------------------------------------------------------------------------\u001b[0m",
      "\u001b[1;31mKeyError\u001b[0m                                  Traceback (most recent call last)",
      "\u001b[1;32m<ipython-input-3-1809595be3da>\u001b[0m in \u001b[0;36m<module>\u001b[1;34m\u001b[0m\n\u001b[1;32m----> 1\u001b[1;33m \u001b[0mphone_numbers\u001b[0m\u001b[1;33m[\u001b[0m\u001b[1;34m'Vishal'\u001b[0m\u001b[1;33m]\u001b[0m\u001b[1;33m\u001b[0m\u001b[1;33m\u001b[0m\u001b[0m\n\u001b[0m",
      "\u001b[1;31mKeyError\u001b[0m: 'Vishal'"
     ]
    }
   ],
   "source": [
    "phone_numbers['Vishal']"
   ]
  },
  {
   "cell_type": "code",
   "execution_count": 5,
   "metadata": {},
   "outputs": [],
   "source": [
    "phone_numbers['Vishal']='8807850031'\n",
    "phone_numbers['Vinay']='8978502051'\n",
    "phone_numbers['Ramki']='7094640544'"
   ]
  },
  {
   "cell_type": "code",
   "execution_count": 6,
   "metadata": {},
   "outputs": [
    {
     "data": {
      "text/plain": [
       "{'Aakash': '9928928876',\n",
       " 'Hemant': '9637922873',\n",
       " 'Vinay': '8978502051',\n",
       " 'Siddant': '9783277850',\n",
       " 'Vishal': '8807850031',\n",
       " 'Ramki': '7094640544'}"
      ]
     },
     "execution_count": 6,
     "metadata": {},
     "output_type": "execute_result"
    }
   ],
   "source": [
    "phone_numbers"
   ]
  },
  {
   "cell_type": "code",
   "execution_count": 8,
   "metadata": {},
   "outputs": [
    {
     "name": "stdout",
     "output_type": "stream",
     "text": [
      "name: Aakash phone number: 9928928876\n",
      "name: Hemant phone number: 9637922873\n",
      "name: Vinay phone number: 8978502051\n",
      "name: Siddant phone number: 9783277850\n",
      "name: Vishal phone number: 8807850031\n",
      "name: Ramki phone number: 7094640544\n"
     ]
    }
   ],
   "source": [
    "for name in phone_numbers:\n",
    "    print('name:',name,'phone number:', phone_numbers[name])"
   ]
  },
  {
   "cell_type": "markdown",
   "metadata": {},
   "source": [
    "### We need to Implement a Hash Table Class for storing,update,searching and deletion operation performed by using a hashing function."
   ]
  },
  {
   "cell_type": "code",
   "execution_count": null,
   "metadata": {},
   "outputs": [],
   "source": [
    "class HashTable:\n",
    "    def insert(self,key,value):\n",
    "        \"\"\" --Insert a new key value pair-- \"\"\"\n",
    "            pass\n",
    "    def find(self,key):\n",
    "        \"\"\" --Find the value associated with the key-- \"\"\"\n",
    "            pass\n",
    "    def update(self,key,value):\n",
    "        \"\"\" -- Update the value associated with the key-- \"\"\"\n",
    "            pass\n",
    "    def list_all(self):\n",
    "        \"\"\" --List all the keys in the List-- \"\"\"\n",
    "            pass"
   ]
  },
  {
   "cell_type": "code",
   "execution_count": 10,
   "metadata": {},
   "outputs": [],
   "source": [
    "MAX_HASH_TABLE_SIZE=4096\n",
    "data_list=[None]*MAX_HASH_TABLE_SIZE"
   ]
  },
  {
   "cell_type": "code",
   "execution_count": 12,
   "metadata": {},
   "outputs": [
    {
     "data": {
      "text/plain": [
       "4096"
      ]
     },
     "execution_count": 12,
     "metadata": {},
     "output_type": "execute_result"
    }
   ],
   "source": [
    "len(data_list)"
   ]
  },
  {
   "cell_type": "code",
   "execution_count": 15,
   "metadata": {},
   "outputs": [],
   "source": [
    "for item in data_list:\n",
    "    assert item == None # if the condition does not satisfy then the assert statement will raise a assertion error."
   ]
  },
  {
   "cell_type": "code",
   "execution_count": 18,
   "metadata": {},
   "outputs": [],
   "source": [
    "def get_index(data_list,key):\n",
    "        result=0\n",
    "        for a_character in key:\n",
    "                a_number = ord(a_character)\n",
    "                result+=a_number\n",
    "        index = result % len(data_list)\n",
    "        return index"
   ]
  },
  {
   "cell_type": "code",
   "execution_count": 20,
   "metadata": {},
   "outputs": [
    {
     "data": {
      "text/plain": [
       "True"
      ]
     },
     "execution_count": 20,
     "metadata": {},
     "output_type": "execute_result"
    }
   ],
   "source": [
    "get_index(data_list,'')==0"
   ]
  },
  {
   "cell_type": "code",
   "execution_count": 25,
   "metadata": {},
   "outputs": [
    {
     "data": {
      "text/plain": [
       "True"
      ]
     },
     "execution_count": 25,
     "metadata": {},
     "output_type": "execute_result"
    }
   ],
   "source": [
    "get_index(data_list,'Aakash')==585"
   ]
  },
  {
   "cell_type": "code",
   "execution_count": 27,
   "metadata": {},
   "outputs": [],
   "source": [
    "key,value = 'Aakash','7878787878'"
   ]
  },
  {
   "cell_type": "code",
   "execution_count": 28,
   "metadata": {},
   "outputs": [
    {
     "data": {
      "text/plain": [
       "585"
      ]
     },
     "execution_count": 28,
     "metadata": {},
     "output_type": "execute_result"
    }
   ],
   "source": [
    "idx = get_index(data_list,key)\n",
    "idx"
   ]
  },
  {
   "cell_type": "code",
   "execution_count": 30,
   "metadata": {},
   "outputs": [],
   "source": [
    "data_list[idx]=(key,value)"
   ]
  },
  {
   "cell_type": "code",
   "execution_count": 31,
   "metadata": {},
   "outputs": [
    {
     "data": {
      "text/plain": [
       "('Aakash', '7878787878')"
      ]
     },
     "execution_count": 31,
     "metadata": {},
     "output_type": "execute_result"
    }
   ],
   "source": [
    "data_list[idx]"
   ]
  },
  {
   "cell_type": "code",
   "execution_count": 32,
   "metadata": {},
   "outputs": [],
   "source": [
    "data_list[get_index(data_list,'Hemanth')] = ('Hemanth','9871456898')"
   ]
  },
  {
   "cell_type": "code",
   "execution_count": 34,
   "metadata": {},
   "outputs": [
    {
     "data": {
      "text/plain": [
       "('Hemanth', '9871456898')"
      ]
     },
     "execution_count": 34,
     "metadata": {},
     "output_type": "execute_result"
    }
   ],
   "source": [
    "data_list[709]"
   ]
  },
  {
   "cell_type": "code",
   "execution_count": 35,
   "metadata": {},
   "outputs": [],
   "source": [
    "key,value = data_list[get_index(data_list,'Aakash')]"
   ]
  },
  {
   "cell_type": "code",
   "execution_count": 36,
   "metadata": {},
   "outputs": [
    {
     "data": {
      "text/plain": [
       "('Aakash', '7878787878')"
      ]
     },
     "execution_count": 36,
     "metadata": {},
     "output_type": "execute_result"
    }
   ],
   "source": [
    "key,value"
   ]
  },
  {
   "cell_type": "code",
   "execution_count": 37,
   "metadata": {},
   "outputs": [],
   "source": [
    "keys = [kv[0] for kv in data_list if kv is not None]"
   ]
  },
  {
   "cell_type": "code",
   "execution_count": 38,
   "metadata": {},
   "outputs": [
    {
     "data": {
      "text/plain": [
       "['Aakash', 'Hemanth']"
      ]
     },
     "execution_count": 38,
     "metadata": {},
     "output_type": "execute_result"
    }
   ],
   "source": [
    "keys"
   ]
  },
  {
   "cell_type": "code",
   "execution_count": 43,
   "metadata": {},
   "outputs": [],
   "source": [
    "class BasicHashTable:\n",
    "    def __init__(self,max_size=MAX_HASH_TABLE_SIZE):\n",
    "            self.data_list = [None]*max_size\n",
    "    def insert(self,key,value):\n",
    "            idx = get_index(self.data_list,key)\n",
    "            self.data_list[idx] = key,value\n",
    "    def find(self,key):\n",
    "            idx = get_index(self.data_list,key)\n",
    "            return self.data_list[idx][1] if not None else None\n",
    "    def update(self,key,value):\n",
    "            idx = get_index(self.data_list,key)\n",
    "            self.data_list[idx] = key,value\n",
    "    def list_all(self):\n",
    "            return [kv[0] for kv in self.data_list if kv is not None]"
   ]
  },
  {
   "cell_type": "code",
   "execution_count": 44,
   "metadata": {},
   "outputs": [
    {
     "data": {
      "text/plain": [
       "True"
      ]
     },
     "execution_count": 44,
     "metadata": {},
     "output_type": "execute_result"
    }
   ],
   "source": [
    "basicTable = BasicHashTable(max_size=1024)\n",
    "len(basicTable.data_list)==1024"
   ]
  },
  {
   "cell_type": "code",
   "execution_count": 45,
   "metadata": {},
   "outputs": [],
   "source": [
    "basicTable.insert('Aakash','7878787878')\n",
    "basicTable.insert('Hemanth','8989898989')"
   ]
  },
  {
   "cell_type": "code",
   "execution_count": 46,
   "metadata": {},
   "outputs": [
    {
     "data": {
      "text/plain": [
       "'6767676767'"
      ]
     },
     "execution_count": 46,
     "metadata": {},
     "output_type": "execute_result"
    }
   ],
   "source": [
    "basicTable.update('Hemanth','6767676767')\n",
    "basicTable.find('Hemanth')"
   ]
  },
  {
   "cell_type": "code",
   "execution_count": 47,
   "metadata": {},
   "outputs": [
    {
     "data": {
      "text/plain": [
       "['Aakash', 'Hemanth']"
      ]
     },
     "execution_count": 47,
     "metadata": {},
     "output_type": "execute_result"
    }
   ],
   "source": [
    "basicTable.list_all()"
   ]
  },
  {
   "cell_type": "code",
   "execution_count": 48,
   "metadata": {},
   "outputs": [
    {
     "data": {
      "text/plain": [
       "True"
      ]
     },
     "execution_count": 48,
     "metadata": {},
     "output_type": "execute_result"
    }
   ],
   "source": [
    "basicTable.find('Aakash') =='7878787878'"
   ]
  },
  {
   "cell_type": "markdown",
   "metadata": {},
   "source": [
    "### Hash Collisions Using Linear Probing\n",
    "\n",
    "### Hash Collisions occurs when same no of characters occur in a string but with different combinations then the \n",
    "### value associated with the key previously is overriden with the next key value."
   ]
  },
  {
   "cell_type": "code",
   "execution_count": 51,
   "metadata": {},
   "outputs": [
    {
     "name": "stdout",
     "output_type": "stream",
     "text": [
      "655\n"
     ]
    }
   ],
   "source": [
    "print(get_index(data_list,'listen'))\n",
    "basicTable.insert('listen',99)"
   ]
  },
  {
   "cell_type": "code",
   "execution_count": 52,
   "metadata": {},
   "outputs": [
    {
     "name": "stdout",
     "output_type": "stream",
     "text": [
      "655\n"
     ]
    }
   ],
   "source": [
    "print(get_index(data_list,'silent'))\n",
    "basicTable.insert('silent',200)"
   ]
  },
  {
   "cell_type": "code",
   "execution_count": 53,
   "metadata": {},
   "outputs": [
    {
     "data": {
      "text/plain": [
       "200"
      ]
     },
     "execution_count": 53,
     "metadata": {},
     "output_type": "execute_result"
    }
   ],
   "source": [
    "basicTable.find('listen')"
   ]
  },
  {
   "cell_type": "markdown",
   "metadata": {},
   "source": [
    "As you can see above the value for the key 'listen' is overriden with the value associated with the key 'silent'.\n",
    "\n",
    "To Handle Hash Collisions we use a technique called Linear Probing. Here how it works:\n",
    "\n",
    "Insert:\n",
    "\n",
    "    1. While inserting a new key value pair, if the target index for a key is occupied by another key, then we try the next index, followed by the next index, followed by the next and so on till we find the next empty location.\n",
    "    \n",
    "Find:\n",
    "\n",
    "    2. While finding the key value pair we apply for the same strategy, but instead of searching for an empty location, we look for a location with the key value pair containing matching key and return its value.\n",
    "    \n",
    "Update:\n",
    "\n",
    "    3. While updating a key value pair, we apply for the same strategy, but instead of searching for an empty location, we look for a location with the key value pair containing matching key and update its value.\n",
    "    \n",
    "We'll define a function called `get_valid_index()` which starts searching the data_list from the index determined by the hash function `get_index` and returns the first which is either empty or containing a key value pair matching the given key."
   ]
  },
  {
   "cell_type": "code",
   "execution_count": 54,
   "metadata": {},
   "outputs": [],
   "source": [
    "def get_valid_index(data_list,key):\n",
    "        idx = get_index(data_list,key)\n",
    "        while True:\n",
    "            kv = data_list[idx]\n",
    "            \n",
    "            if kv is None:\n",
    "                return idx\n",
    "            \n",
    "            k,v = kv\n",
    "            if (k==key):\n",
    "                return idx\n",
    "            \n",
    "            idx+=1\n",
    "            \n",
    "            if(idx == len(data_list)):\n",
    "                idx = 0"
   ]
  },
  {
   "cell_type": "code",
   "execution_count": 56,
   "metadata": {},
   "outputs": [
    {
     "name": "stdout",
     "output_type": "stream",
     "text": [
      "655\n",
      "655\n"
     ]
    }
   ],
   "source": [
    "data_list2=[None]*MAX_HASH_TABLE_SIZE\n",
    "print(get_valid_index(data_list2,'listen'))\n",
    "print(get_valid_index(data_list2,'silent'))"
   ]
  },
  {
   "cell_type": "code",
   "execution_count": 57,
   "metadata": {},
   "outputs": [
    {
     "name": "stdout",
     "output_type": "stream",
     "text": [
      "656\n"
     ]
    }
   ],
   "source": [
    "data_list2[get_valid_index(data_list2,'listen')]= 'listen',99\n",
    "print(get_valid_index(data_list2,'silent'))"
   ]
  },
  {
   "cell_type": "code",
   "execution_count": 58,
   "metadata": {},
   "outputs": [],
   "source": [
    "data_list2[get_valid_index(data_list2,'silent')] = 'silent',200"
   ]
  },
  {
   "cell_type": "code",
   "execution_count": 60,
   "metadata": {},
   "outputs": [
    {
     "data": {
      "text/plain": [
       "99"
      ]
     },
     "execution_count": 60,
     "metadata": {},
     "output_type": "execute_result"
    }
   ],
   "source": [
    "data_list2[get_valid_index(data_list2,'listen')][1]"
   ]
  },
  {
   "cell_type": "code",
   "execution_count": 61,
   "metadata": {},
   "outputs": [
    {
     "data": {
      "text/plain": [
       "200"
      ]
     },
     "execution_count": 61,
     "metadata": {},
     "output_type": "execute_result"
    }
   ],
   "source": [
    "data_list2[get_valid_index(data_list2,'silent')][1]"
   ]
  },
  {
   "cell_type": "code",
   "execution_count": 63,
   "metadata": {},
   "outputs": [],
   "source": [
    "class ProbingHashTable:\n",
    "    \n",
    "    def __init__(self,max_size=MAX_HASH_TABLE_SIZE):\n",
    "        self.data_list = [None]*max_size\n",
    "        \n",
    "    def insert(self,key,value):\n",
    "        idx = get_valid_index(self.data_list,key)\n",
    "        \n",
    "        self.data_list[idx] = key,value\n",
    "        \n",
    "    def find(self,key):\n",
    "        idx = get_valid_index(self.data_list,key)\n",
    "        \n",
    "        kv = self.data_list[idx]\n",
    "        \n",
    "        return kv[1] if kv is not None else None\n",
    "    \n",
    "    def update(self,key,value):\n",
    "        idx = get_valid_index(self.data_list,key)\n",
    "        \n",
    "        self.data_list[idx] = key,value\n",
    "        \n",
    "    def list_all(self):\n",
    "        return [kv[0] for kv in self.data_list if kv is not None]"
   ]
  },
  {
   "cell_type": "code",
   "execution_count": 64,
   "metadata": {},
   "outputs": [],
   "source": [
    "probingTable = ProbingHashTable()\n",
    "\n",
    "probingTable.insert('listen',99)\n",
    "probingTable.insert('silent',200)"
   ]
  },
  {
   "cell_type": "code",
   "execution_count": 65,
   "metadata": {},
   "outputs": [
    {
     "name": "stdout",
     "output_type": "stream",
     "text": [
      "99\n",
      "200\n"
     ]
    }
   ],
   "source": [
    "print(probingTable.find('listen'))\n",
    "print(probingTable.find('silent'))"
   ]
  },
  {
   "cell_type": "code",
   "execution_count": 66,
   "metadata": {},
   "outputs": [
    {
     "data": {
      "text/plain": [
       "101"
      ]
     },
     "execution_count": 66,
     "metadata": {},
     "output_type": "execute_result"
    }
   ],
   "source": [
    "probingTable.update('listen',101)\n",
    "probingTable.find('listen')"
   ]
  },
  {
   "cell_type": "code",
   "execution_count": 67,
   "metadata": {},
   "outputs": [
    {
     "data": {
      "text/plain": [
       "['listen', 'silent']"
      ]
     },
     "execution_count": 67,
     "metadata": {},
     "output_type": "execute_result"
    }
   ],
   "source": [
    "probingTable.list_all()"
   ]
  },
  {
   "cell_type": "code",
   "execution_count": null,
   "metadata": {},
   "outputs": [],
   "source": []
  },
  {
   "cell_type": "code",
   "execution_count": null,
   "metadata": {},
   "outputs": [],
   "source": []
  },
  {
   "cell_type": "code",
   "execution_count": null,
   "metadata": {},
   "outputs": [],
   "source": []
  },
  {
   "cell_type": "code",
   "execution_count": null,
   "metadata": {},
   "outputs": [],
   "source": []
  },
  {
   "cell_type": "code",
   "execution_count": null,
   "metadata": {},
   "outputs": [],
   "source": []
  },
  {
   "cell_type": "code",
   "execution_count": null,
   "metadata": {},
   "outputs": [],
   "source": []
  },
  {
   "cell_type": "code",
   "execution_count": null,
   "metadata": {},
   "outputs": [],
   "source": []
  },
  {
   "cell_type": "code",
   "execution_count": null,
   "metadata": {},
   "outputs": [],
   "source": []
  },
  {
   "cell_type": "code",
   "execution_count": null,
   "metadata": {},
   "outputs": [],
   "source": []
  },
  {
   "cell_type": "code",
   "execution_count": null,
   "metadata": {},
   "outputs": [],
   "source": []
  },
  {
   "cell_type": "code",
   "execution_count": null,
   "metadata": {},
   "outputs": [],
   "source": []
  },
  {
   "cell_type": "code",
   "execution_count": null,
   "metadata": {},
   "outputs": [],
   "source": []
  },
  {
   "cell_type": "code",
   "execution_count": null,
   "metadata": {},
   "outputs": [],
   "source": []
  },
  {
   "cell_type": "code",
   "execution_count": null,
   "metadata": {},
   "outputs": [],
   "source": []
  },
  {
   "cell_type": "code",
   "execution_count": null,
   "metadata": {},
   "outputs": [],
   "source": []
  },
  {
   "cell_type": "code",
   "execution_count": null,
   "metadata": {},
   "outputs": [],
   "source": []
  },
  {
   "cell_type": "code",
   "execution_count": null,
   "metadata": {},
   "outputs": [],
   "source": []
  },
  {
   "cell_type": "code",
   "execution_count": null,
   "metadata": {},
   "outputs": [],
   "source": []
  },
  {
   "cell_type": "code",
   "execution_count": null,
   "metadata": {},
   "outputs": [],
   "source": []
  },
  {
   "cell_type": "code",
   "execution_count": null,
   "metadata": {},
   "outputs": [],
   "source": []
  },
  {
   "cell_type": "code",
   "execution_count": null,
   "metadata": {},
   "outputs": [],
   "source": []
  },
  {
   "cell_type": "code",
   "execution_count": null,
   "metadata": {},
   "outputs": [],
   "source": []
  }
 ],
 "metadata": {
  "kernelspec": {
   "display_name": "Python 3",
   "language": "python",
   "name": "python3"
  },
  "language_info": {
   "codemirror_mode": {
    "name": "ipython",
    "version": 3
   },
   "file_extension": ".py",
   "mimetype": "text/x-python",
   "name": "python",
   "nbconvert_exporter": "python",
   "pygments_lexer": "ipython3",
   "version": "3.7.6"
  }
 },
 "nbformat": 4,
 "nbformat_minor": 4
}
