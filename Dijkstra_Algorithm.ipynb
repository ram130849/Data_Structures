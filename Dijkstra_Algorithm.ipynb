{
 "cells": [
  {
   "cell_type": "markdown",
   "metadata": {},
   "source": [
    "# We’ll implement the graph as a Python dictionary. The dictionary’s keys will correspond to the cities and its values will correspond to dictionaries that record the distances to other cities in the graph. "
   ]
  },
  {
   "cell_type": "markdown",
   "metadata": {},
   "source": [
    "# Dijkstra’s Algorithm is guaranteed to find a shortest path from the starting point to the goal, as long as none of the edges have a negative cost."
   ]
  },
  {
   "cell_type": "code",
   "execution_count": 5,
   "metadata": {},
   "outputs": [],
   "source": [
    "import sys"
   ]
  },
  {
   "cell_type": "code",
   "execution_count": 6,
   "metadata": {},
   "outputs": [],
   "source": [
    "class Graph(object):\n",
    "    # \"Init Function for nodes and graph dictionary object.\"\n",
    "    def __init__(self,nodes,init_graph):\n",
    "        self.nodes = nodes\n",
    "        self.graph = self.construct_graph(nodes,init_graph)\n",
    "    # \"Returns the constructed graph with nodes and edges.\"\n",
    "    def construct_graph(self,nodes,init_graph):\n",
    "        graph = {node:{} for node in nodes}\n",
    "        graph.update(init_graph)\n",
    "        \n",
    "        for node,edges in graph.items():\n",
    "            for adj_node,value in edges.items():\n",
    "                if(graph[adj_node].get(node,False)==False):\n",
    "                    graph[adj_node][node] = value\n",
    "        \n",
    "        return graph\n",
    "    # \"Returns the nodes of the graph.\"\n",
    "    def get_nodes(self):\n",
    "        return self.nodes\n",
    "    # \"Returns the value of an edge between two nodes.\"\n",
    "    def value(self,node1,node2):\n",
    "        return self.graph[node1][node2]\n",
    "    # \"Returns the neighbors of a node.\"\n",
    "    def get_outgoing_edges(self, node):\n",
    "        neighbours = []\n",
    "        for out_node in self.nodes:\n",
    "            if(self.graph[node].get(out_node,False)!=False):\n",
    "                neighbours.append(out_node)\n",
    "                \n",
    "        return neighbours    "
   ]
  },
  {
   "cell_type": "code",
   "execution_count": 2,
   "metadata": {},
   "outputs": [],
   "source": [
    "# Function Objective - Calculate shortest path from source node to all the other nodes in the graph. This algorithm fails for \n",
    "# graphs containing negative weight edges since it forms a infinite loop as shortest path is fixed for a node after its all \n",
    "# possible distances are calculated.\n",
    "# Function Input - Graph, Starting Node or Source Node.\n",
    "# Function Output - Shortest Distance, Parent Nodes.\n",
    "# PseudoCode:\n",
    "#function Dijkstra(Graph, source):\n",
    "#    for each vertex v in Graph:  // Initialization\n",
    "#        dist[v] := infinity  // initial distance from source to vertex v is set to infinite\n",
    "#        previous[v] := undefined // Previous node in optimal path from source\n",
    "#    dist[source] := 0     // Distance from source to source\n",
    "#    Q := the set of all nodes in Graph // all nodes in the graph are unoptimized - thus are in Q\n",
    "#    while Q is not empty:  // main loop\n",
    "#        u := node in Q with smallest dist[ ]\n",
    "#        remove u from Q\n",
    "#        for each neighbor v of u:  // where v has not yet been removed from Q.\n",
    "#            alt := dist[u] + dist_between(u, v)\n",
    "#            dist[v] = min(dist[v],alt)\n",
    "#            if alt == dist[v]: // Relax (u,v)\n",
    "#                dist[v] := alt\n",
    "#                previous[v] := u\n",
    "#    return previous[ ],dist"
   ]
  },
  {
   "cell_type": "code",
   "execution_count": 3,
   "metadata": {},
   "outputs": [],
   "source": [
    "# \"Dijkstra's Algorithm.\"\n",
    "def dijkstra_algorithm(graph, start_node):\n",
    "    unvisited_nodes = list(graph.get_nodes())  # Get the list of all unvisited Nodes.\n",
    "    \n",
    "    shortest_path = {} # We'll use this dict to save the cost of visiting each node and update it as we move.\n",
    "    previous_nodes = {} # We'll use this dict to save the shortest known path to a node found so far.\n",
    "    \n",
    "    # We'll use max_value to initialize the \"infinity\" value of the unvisited nodes\n",
    "    max_val = sys.maxsize\n",
    "    shortest_path = {node:max_val for node in unvisited_nodes} # set shortest path value to Infinity to all unvisited Nodes. \n",
    "    shortest_path[start_node]=0 # Initialize shortest path value of start node as 0 since distance to itself is 0.\n",
    "    \n",
    "    # The algorithm executes until we visit all nodes.\n",
    "    while unvisited_nodes:\n",
    "        # The code block below finds the node with the lowest distance or shortest path from start node.\n",
    "        current_min_node = None\n",
    "        for node in unvisited_nodes:\n",
    "            if(current_min_node==None):\n",
    "                current_min_node = node\n",
    "            elif(shortest_path[node]<shortest_path[current_min_node]):\n",
    "                current_min_node = node\n",
    "        # This block below retrieves the current node's neighbours and updates their shortest path.\n",
    "        neighbours = graph.get_outgoing_edges(current_min_node)\n",
    "        for neighbour in neighbours:\n",
    "            tentative_value = shortest_path[current_min_node]+graph.value(current_min_node,neighbour) # Calculate current min \n",
    "# distance + edge distance from current min node to its neighbour.\n",
    "            if(tentative_value<shortest_path[neighbour]):\n",
    "                # update the shortest path only if this current distance is less than the previous calculated distance obtained\n",
    "# for the neighbour.\n",
    "                shortest_path[neighbour] = tentative_value\n",
    "                # We also update the best path to the current node.\n",
    "                previous_nodes[neighbour] = current_min_node\n",
    "        # After visting its neighbours, we mark the current node as visited and remove from the \n",
    "        # unvisited_nodes.\n",
    "        unvisited_nodes.remove(current_min_node)\n",
    "        \n",
    "    return previous_nodes,shortest_path"
   ]
  },
  {
   "cell_type": "code",
   "execution_count": 4,
   "metadata": {},
   "outputs": [],
   "source": [
    "def print_result(previous_nodes,shortest_path,source_node,target_node):\n",
    "    path = []\n",
    "    node = target_node\n",
    "    \n",
    "    while(node!=source_node):\n",
    "        path.append(node)\n",
    "        node = previous_nodes[node]\n",
    "    \n",
    "    print(\"We found the following best path with a value of: {}\".format(shortest_path[target_node]))\n",
    "    print(\"->\".join(reversed(path)))"
   ]
  },
  {
   "cell_type": "code",
   "execution_count": 10,
   "metadata": {},
   "outputs": [],
   "source": [
    "nodes = [\"Reykjavik\", \"Oslo\", \"Moscow\", \"London\", \"Rome\", \"Berlin\", \"Belgrade\", \"Athens\"]\n",
    " \n",
    "init_graph = {}\n",
    "for node in nodes:\n",
    "    init_graph[node] = {}\n",
    "    \n",
    "init_graph[\"Reykjavik\"][\"Oslo\"] = 5\n",
    "init_graph[\"Reykjavik\"][\"London\"] = 4\n",
    "init_graph[\"Oslo\"][\"Berlin\"] = 1\n",
    "init_graph[\"Oslo\"][\"Moscow\"] = 3\n",
    "init_graph[\"Moscow\"][\"Belgrade\"] = 5\n",
    "init_graph[\"Moscow\"][\"Athens\"] = 4\n",
    "init_graph[\"Athens\"][\"Belgrade\"] = 1\n",
    "init_graph[\"Rome\"][\"Berlin\"] = 2\n",
    "init_graph[\"Rome\"][\"Athens\"] = 2"
   ]
  },
  {
   "cell_type": "code",
   "execution_count": 11,
   "metadata": {},
   "outputs": [
    {
     "name": "stdout",
     "output_type": "stream",
     "text": [
      "{'Reykjavik': {'Oslo': 5, 'London': 4}, 'Oslo': {'Berlin': 1, 'Moscow': 3}, 'Moscow': {'Belgrade': 5, 'Athens': 4}, 'London': {}, 'Rome': {'Berlin': 2, 'Athens': 2}, 'Berlin': {}, 'Belgrade': {}, 'Athens': {'Belgrade': 1}}\n"
     ]
    }
   ],
   "source": [
    "print(init_graph)"
   ]
  },
  {
   "cell_type": "code",
   "execution_count": 12,
   "metadata": {},
   "outputs": [],
   "source": [
    "graph = Graph(nodes, init_graph)"
   ]
  },
  {
   "cell_type": "code",
   "execution_count": 15,
   "metadata": {},
   "outputs": [
    {
     "name": "stdout",
     "output_type": "stream",
     "text": [
      "['Reykjavik', 'Oslo', 'Moscow', 'London', 'Rome', 'Berlin', 'Belgrade', 'Athens']\n",
      "['Oslo', 'London']\n",
      "['Reykjavik', 'Moscow', 'Berlin']\n",
      "['Oslo', 'Belgrade', 'Athens']\n",
      "['Reykjavik']\n",
      "['Berlin', 'Athens']\n",
      "['Oslo', 'Rome']\n",
      "['Moscow', 'Athens']\n",
      "['Moscow', 'Rome', 'Belgrade']\n"
     ]
    }
   ],
   "source": [
    "print(graph.get_nodes())\n",
    "print(graph.get_outgoing_edges('Reykjavik'))\n",
    "print(graph.get_outgoing_edges('Oslo'))\n",
    "print(graph.get_outgoing_edges('Moscow'))\n",
    "print(graph.get_outgoing_edges('London'))\n",
    "print(graph.get_outgoing_edges('Rome'))\n",
    "print(graph.get_outgoing_edges('Berlin'))\n",
    "print(graph.get_outgoing_edges('Belgrade'))\n",
    "print(graph.get_outgoing_edges('Athens'))"
   ]
  },
  {
   "cell_type": "code",
   "execution_count": 16,
   "metadata": {},
   "outputs": [],
   "source": [
    "previous_nodes, shortest_path = dijkstra_algorithm(graph=graph, start_node=\"Reykjavik\")"
   ]
  },
  {
   "cell_type": "code",
   "execution_count": 19,
   "metadata": {},
   "outputs": [
    {
     "name": "stdout",
     "output_type": "stream",
     "text": [
      "previous_nodes: {'Oslo': 'Reykjavik', 'London': 'Reykjavik', 'Moscow': 'Oslo', 'Berlin': 'Oslo', 'Rome': 'Berlin', 'Belgrade': 'Athens', 'Athens': 'Rome'}\n",
      "shortest_path: {'Reykjavik': 0, 'Oslo': 5, 'Moscow': 8, 'London': 4, 'Rome': 8, 'Berlin': 6, 'Belgrade': 11, 'Athens': 10}\n"
     ]
    }
   ],
   "source": [
    "print(\"previous_nodes:\",previous_nodes)\n",
    "print(\"shortest_path:\",shortest_path)"
   ]
  },
  {
   "cell_type": "code",
   "execution_count": 18,
   "metadata": {},
   "outputs": [
    {
     "name": "stdout",
     "output_type": "stream",
     "text": [
      "We found the following best path with a value of: 11\n",
      "Oslo->Berlin->Rome->Athens->Belgrade\n"
     ]
    }
   ],
   "source": [
    "print_result(previous_nodes, shortest_path, source_node=\"Reykjavik\", target_node=\"Belgrade\")"
   ]
  },
  {
   "cell_type": "markdown",
   "metadata": {},
   "source": [
    "# The Greedy Best-First-Search algorithm works in a similar way, except that it has some estimate (called a heuristic) of how far from the goal any vertex is. Instead of selecting the vertex closest to the starting point, it selects the vertex closest to the goal. Greedy Best-First-Search is not guaranteed to find a shortest path. However, it runs much quicker than Dijkstra’s Algorithm because it uses the heuristic function to guide its way towards the goal very quickly. For example, if the goal is to the south of the starting position, Greedy Best-First-Search will tend to focus on paths that lead southwards. In the following diagram, yellow represents those nodes with a high heuristic value (high cost to get to the goal) and black represents nodes with a low heuristic value (low cost to get to the goal). It shows that Greedy Best-First-Search can find paths very quickly compared to Dijkstra’s Algorithm:"
   ]
  },
  {
   "cell_type": "markdown",
   "metadata": {},
   "source": [
    "# However, both of these examples illustrate the simplest case—when the map has no obstacles, and the shortest path really is a straight line. Let’s consider the concave obstacle as described in the previous section. Dijkstra’s Algorithm works harder but is guaranteed to find a shortest path:"
   ]
  },
  {
   "cell_type": "markdown",
   "metadata": {},
   "source": [
    "# Greedy Best-First-Search on the other hand does less work but its path is clearly not as good:\n",
    "\n",
    "# The trouble is that Greedy Best-First-Search is “greedy” and tries to move towards the goal even if it’s not the right path. Since it only considers the cost to get to the goal and ignores the cost of the path so far, it keeps going even if the path it’s on has become really long.\n",
    "\n",
    "# Wouldn’t it be nice to combine the best of both? A* was developed in 1968 to combine heuristic approaches like Greedy Best-First-Search and formal approaches like Dijsktra’s Algorithm. It’s a little unusual in that heuristic approaches usually give you an approximate way to solve problems without guaranteeing that you get the best answer. However, A* is built on top of the heuristic, and although the heuristic itself does not give you a guarantee, A* can guarantee a shortest path."
   ]
  },
  {
   "cell_type": "markdown",
   "metadata": {},
   "source": [
    "# I will be focusing on the A* Algorithm. A* is the most popular choice for pathfinding, because it’s fairly flexible and can be used in a wide range of contexts.\n",
    "\n",
    "# A* is like Dijkstra’s Algorithm in that it can be used to find a shortest path.\n",
    "# A* is like Greedy Best-First-Search in that it can use a heuristic to guide itself. In the simple case, it is as fast as\n",
    "# Greedy Best-First-Search:\n",
    "\n",
    "# In the example with a concave obstacle, A* finds a path as good as what Dijkstra’s Algorithm found:"
   ]
  },
  {
   "cell_type": "markdown",
   "metadata": {},
   "source": [
    "# The secret to its success is that it combines the pieces of information that Dijkstra’s Algorithm uses (favoring vertices that are close to the starting point) and information that Greedy Best-First-Search uses (favoring vertices that are close to the goal). In the standard terminology used when talking about A*, g(n) represents the exact cost of the path from the starting point to any vertex n, and h(n) represents the heuristic estimated cost from vertex n to the goal. In the above diagrams, the yellow (h) represents vertices far from the goal and teal (g) represents vertices far from the starting point. A* balances the two as it moves from the starting point to the goal. Each time through the main loop, it examines the vertex n that has the lowest f(n) = g(n) + h(n).\n",
    "\n",
    "# There are other forms you can use. When f(n) = g(n) it is Dijkstra's Algorithm and when f(n) = h(n) it is Greedy Best First Search. At the halfway point f(n) = g(n) + h(n) it is A*. But you can think of this as a continuous slider f(n) = u * g(n) + (1-u) * h(n) instead of only these three algorithms. Then the parameter u=1.0 is Dijkstra's and u=0.0 is Greedy Best First and u=0.5 is A*. What about other values of u?\n",
    "\n",
    "# The higher u is, the better the path becomes. However, for u > 0.5 the path is as good as it can be, so there is not much advantage to setting u > 0.5.\n",
    "\n",
    "# The lower u is, the faster the path is calculated, but the worse the path becomes. So there is a tradeoff here, and many games do use values of 0.0 < u < 0.5 because they do not need the absolute best path.\n",
    "\n",
    "# The best choice depends on the needs of the project. The reason 0.5 (A*) is interesting is that it is the lowest value of u that guarantees the shortest path"
   ]
  },
  {
   "cell_type": "markdown",
   "metadata": {},
   "source": [
    "# A* algorithm has 3 parameters:\n",
    "\n",
    "# g : the cost of moving from the initial cell to the current cell. Basically, it is the sum of all the cells that have been visited since leaving the first cell.\n",
    "\n",
    "# h : also known as the heuristic value, it is the estimated cost of moving from the current cell to the final cell. The actual cost cannot be calculated until the final cell is reached. Hence, h is the estimated cost. We must make sure that there is never an over estimation of the cost.\n",
    "\n",
    "# f : it is the sum of g and h. So, f = g + h\n",
    "\n",
    "# The way that the algorithm makes its decisions is by taking the f-value into account. The algorithm selects the smallest f-valued cell and moves to that cell. This process continues until the algorithm reaches its goal cell."
   ]
  },
  {
   "cell_type": "markdown",
   "metadata": {},
   "source": [
    "### Dijkstra Algorithm For shortest path Algorithm:\n",
    "\n",
    "### Given a source node s find the shortest path from s to any node t such that t~V where V - any vertex in graph. \n",
    "\n",
    "### S = set(with start node)\n",
    "\n",
    "### d(u) - len of shortest path from s to u.\n",
    "### d'(u) - len of shortest path from s to u only using nodes in S.\n",
    "\n",
    "### d(s) = 0\n",
    "\n",
    "### while S not equals to V:\n",
    "### \tSelect a node not currently in the Set S with atleast one edge from S for which \n",
    "### \td'(u) = min(d(u) + w(u,v) - edge weight from u to v) is as small as possible.\n",
    "### \tAdd v to Set S\n",
    "### \td(v) = d'(v)"
   ]
  },
  {
   "cell_type": "code",
   "execution_count": null,
   "metadata": {},
   "outputs": [],
   "source": []
  },
  {
   "cell_type": "code",
   "execution_count": null,
   "metadata": {},
   "outputs": [],
   "source": []
  },
  {
   "cell_type": "code",
   "execution_count": null,
   "metadata": {},
   "outputs": [],
   "source": []
  },
  {
   "cell_type": "code",
   "execution_count": null,
   "metadata": {},
   "outputs": [],
   "source": []
  },
  {
   "cell_type": "code",
   "execution_count": null,
   "metadata": {},
   "outputs": [],
   "source": []
  },
  {
   "cell_type": "code",
   "execution_count": null,
   "metadata": {},
   "outputs": [],
   "source": []
  },
  {
   "cell_type": "code",
   "execution_count": null,
   "metadata": {},
   "outputs": [],
   "source": []
  },
  {
   "cell_type": "code",
   "execution_count": null,
   "metadata": {},
   "outputs": [],
   "source": []
  },
  {
   "cell_type": "code",
   "execution_count": null,
   "metadata": {},
   "outputs": [],
   "source": []
  },
  {
   "cell_type": "code",
   "execution_count": null,
   "metadata": {},
   "outputs": [],
   "source": []
  },
  {
   "cell_type": "code",
   "execution_count": null,
   "metadata": {},
   "outputs": [],
   "source": []
  },
  {
   "cell_type": "code",
   "execution_count": null,
   "metadata": {},
   "outputs": [],
   "source": []
  },
  {
   "cell_type": "code",
   "execution_count": null,
   "metadata": {},
   "outputs": [],
   "source": []
  },
  {
   "cell_type": "code",
   "execution_count": null,
   "metadata": {},
   "outputs": [],
   "source": []
  },
  {
   "cell_type": "code",
   "execution_count": null,
   "metadata": {},
   "outputs": [],
   "source": []
  },
  {
   "cell_type": "code",
   "execution_count": null,
   "metadata": {},
   "outputs": [],
   "source": []
  },
  {
   "cell_type": "code",
   "execution_count": null,
   "metadata": {},
   "outputs": [],
   "source": []
  },
  {
   "cell_type": "code",
   "execution_count": null,
   "metadata": {},
   "outputs": [],
   "source": []
  },
  {
   "cell_type": "code",
   "execution_count": null,
   "metadata": {},
   "outputs": [],
   "source": []
  },
  {
   "cell_type": "code",
   "execution_count": null,
   "metadata": {},
   "outputs": [],
   "source": []
  },
  {
   "cell_type": "code",
   "execution_count": null,
   "metadata": {},
   "outputs": [],
   "source": []
  },
  {
   "cell_type": "code",
   "execution_count": null,
   "metadata": {},
   "outputs": [],
   "source": []
  },
  {
   "cell_type": "code",
   "execution_count": null,
   "metadata": {},
   "outputs": [],
   "source": []
  },
  {
   "cell_type": "code",
   "execution_count": null,
   "metadata": {},
   "outputs": [],
   "source": []
  },
  {
   "cell_type": "code",
   "execution_count": null,
   "metadata": {},
   "outputs": [],
   "source": []
  },
  {
   "cell_type": "code",
   "execution_count": null,
   "metadata": {},
   "outputs": [],
   "source": []
  },
  {
   "cell_type": "code",
   "execution_count": null,
   "metadata": {},
   "outputs": [],
   "source": []
  },
  {
   "cell_type": "code",
   "execution_count": null,
   "metadata": {},
   "outputs": [],
   "source": []
  },
  {
   "cell_type": "code",
   "execution_count": null,
   "metadata": {},
   "outputs": [],
   "source": []
  },
  {
   "cell_type": "code",
   "execution_count": null,
   "metadata": {},
   "outputs": [],
   "source": []
  },
  {
   "cell_type": "code",
   "execution_count": null,
   "metadata": {},
   "outputs": [],
   "source": []
  }
 ],
 "metadata": {
  "kernelspec": {
   "display_name": "Python 3",
   "language": "python",
   "name": "python3"
  },
  "language_info": {
   "codemirror_mode": {
    "name": "ipython",
    "version": 3
   },
   "file_extension": ".py",
   "mimetype": "text/x-python",
   "name": "python",
   "nbconvert_exporter": "python",
   "pygments_lexer": "ipython3",
   "version": "3.7.6"
  }
 },
 "nbformat": 4,
 "nbformat_minor": 4
}
