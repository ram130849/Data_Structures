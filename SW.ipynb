{
 "cells": [
  {
   "cell_type": "markdown",
   "metadata": {},
   "source": [
    "## Sliding Window Approach:"
   ]
  },
  {
   "cell_type": "code",
   "execution_count": null,
   "metadata": {},
   "outputs": [],
   "source": [
    "-> Anything that can be iterated sequentially.\n",
    "    Like Strings,Arrays,Linked List etc;\n",
    "-> To find some approximation like:\n",
    "    minimum,maximum,longest,shortest,smallest,largest,contained or we need to compute like the average or sum greater than some number.\n"
   ]
  },
  {
   "cell_type": "markdown",
   "metadata": {},
   "source": [
    "1. Fixed Length:\n",
    "     max sum subarray of size k\n",
    "2. Dynamic Variant:\n",
    "     smallest sum subarray size which is >= to some number value k\n",
    "3. Dynamic Variant w/ Auxilliary Data Structure:\n",
    "     Longest substring w/ no more than k distinct characters.\n",
    "4. String Permutations.\n",
    "     2 strings were given - we need to check if the smaller string is contained within the longer string. "
   ]
  },
  {
   "cell_type": "code",
   "execution_count": 8,
   "metadata": {},
   "outputs": [],
   "source": [
    "import sys\n",
    "def MaxSumSubarray(nums,k):\n",
    "    currRunningSum = 0\n",
    "    max_sum = -sys.maxsize\n",
    "    for i in range(len(nums)):\n",
    "        currRunningSum += nums[i]\n",
    "        if(i>=k-1):\n",
    "            max_sum = max(max_sum,currRunningSum)\n",
    "            currRunningSum -= nums[i-(k-1)]\n",
    "    return max_sum"
   ]
  },
  {
   "cell_type": "code",
   "execution_count": 9,
   "metadata": {},
   "outputs": [
    {
     "data": {
      "text/plain": [
       "16"
      ]
     },
     "execution_count": 9,
     "metadata": {},
     "output_type": "execute_result"
    }
   ],
   "source": [
    "MaxSumSubarray([4,2,1,7,8,1,2,8,1,0],3)"
   ]
  },
  {
   "cell_type": "code",
   "execution_count": 20,
   "metadata": {},
   "outputs": [],
   "source": [
    "def smallSubarray(nums,targetSum):\n",
    "    start = 0\n",
    "    smallestSumSize = sys.maxsize\n",
    "    currSum = 0\n",
    "    for end in range(len(nums)):\n",
    "        currSum+=nums[end]\n",
    "        while(currSum>=targetSum):\n",
    "            smallestSumSize = min(smallestSumSize,(end-start+1))\n",
    "            currSum -= nums[start]\n",
    "            start+=1\n",
    "    return smallestSumSize"
   ]
  },
  {
   "cell_type": "code",
   "execution_count": 21,
   "metadata": {},
   "outputs": [
    {
     "data": {
      "text/plain": [
       "1"
      ]
     },
     "execution_count": 21,
     "metadata": {},
     "output_type": "execute_result"
    }
   ],
   "source": [
    "smallSubarray([4,2,2,7,8,1,2,8,10],8)"
   ]
  },
  {
   "cell_type": "code",
   "execution_count": 26,
   "metadata": {},
   "outputs": [],
   "source": [
    "def LongestSubstringKDistinct(string,k):\n",
    "    start = maxLength = 0\n",
    "    charFreqMap = {}\n",
    "    for end in range(len(string)):\n",
    "        rightChar = string[end]\n",
    "        if(rightChar not in charFreqMap):\n",
    "            charFreqMap[rightChar] = 1\n",
    "        else:\n",
    "            charFreqMap[rightChar]+=1\n",
    "        while(len(charFreqMap)>k):\n",
    "                leftChar = string[start]\n",
    "                charFreqMap[leftChar]-=1\n",
    "                if(charFreqMap[leftChar]==0):\n",
    "                    del charFreqMap[leftChar]\n",
    "                start+=1 \n",
    "        maxLength = max(maxLength,end-start+1)\n",
    "    return maxLength"
   ]
  },
  {
   "cell_type": "code",
   "execution_count": 28,
   "metadata": {},
   "outputs": [
    {
     "name": "stdout",
     "output_type": "stream",
     "text": [
      "{'A': 1} 0 0\n",
      "{'A': 2} 1 0\n",
      "{'A': 3} 2 0\n",
      "{'A': 3, 'H': 1} 3 0\n",
      "{'A': 3, 'H': 2} 4 0\n",
      "{'H': 2, 'K': 1} 5 3\n",
      "{'K': 1, 'Y': 1} 6 5\n",
      "{'Y': 1, 'A': 1} 7 6\n",
      "{'A': 1, 'B': 1} 8 7\n",
      "{'A': 2, 'B': 1} 9 7\n",
      "{'A': 1, 'D': 1} 10 9\n"
     ]
    },
    {
     "data": {
      "text/plain": [
       "5"
      ]
     },
     "execution_count": 28,
     "metadata": {},
     "output_type": "execute_result"
    }
   ],
   "source": [
    "LongestSubstringKDistinct(\"AAAHHKYABAD\",2)"
   ]
  },
  {
   "cell_type": "code",
   "execution_count": 1,
   "metadata": {},
   "outputs": [],
   "source": [
    "import torch"
   ]
  },
  {
   "cell_type": "code",
   "execution_count": 7,
   "metadata": {},
   "outputs": [
    {
     "name": "stdout",
     "output_type": "stream",
     "text": [
      "b: torch.Size([32])\n",
      "F: torch.Size([4, 32, 14, 14])\n",
      "B dimension after Unsqueezing: torch.Size([1, 32, 1, 1])\n"
     ]
    }
   ],
   "source": [
    "b = torch.rand(32)  #  bias\n",
    "print(\"b:\",b.shape)\n",
    "f = torch.rand(4, 32, 14, 14)  # 4 images 32 channels,\n",
    "print(\"F:\",f.shape)\n",
    "b = b.unsqueeze(0).unsqueeze(2).unsqueeze(3)  # need to match f's dimension\n",
    "print(\"B dimension after Unsqueezing:\",b.shape)"
   ]
  },
  {
   "cell_type": "code",
   "execution_count": 8,
   "metadata": {},
   "outputs": [
    {
     "name": "stdout",
     "output_type": "stream",
     "text": [
      "torch.Size([1, 32, 1])\n"
     ]
    }
   ],
   "source": [
    "# print(b.squeeze().shape)  # eliminate all dim=1\n",
    "# print(b.squeeze(0).shape) # eliminate at specific dimension\n",
    "print(b.squeeze(-1).shape)\n",
    "# print(b.squeeze(1).shape)\n",
    "# print(b.squeeze(-4).shape)"
   ]
  },
  {
   "cell_type": "code",
   "execution_count": 10,
   "metadata": {},
   "outputs": [
    {
     "name": "stdout",
     "output_type": "stream",
     "text": [
      "torch.Size([1, 32, 1])\n"
     ]
    }
   ],
   "source": [
    "print(b.squeeze(-1).shape)"
   ]
  },
  {
   "cell_type": "code",
   "execution_count": 11,
   "metadata": {},
   "outputs": [
    {
     "name": "stdout",
     "output_type": "stream",
     "text": [
      "torch.Size([1, 32, 1, 1])\n"
     ]
    }
   ],
   "source": [
    "print(b.squeeze(1).shape)"
   ]
  },
  {
   "cell_type": "code",
   "execution_count": 12,
   "metadata": {},
   "outputs": [
    {
     "name": "stdout",
     "output_type": "stream",
     "text": [
      "torch.Size([32])\n"
     ]
    }
   ],
   "source": [
    "print(b.squeeze().shape)"
   ]
  },
  {
   "cell_type": "code",
   "execution_count": 13,
   "metadata": {},
   "outputs": [
    {
     "name": "stdout",
     "output_type": "stream",
     "text": [
      "torch.Size([32, 1, 1])\n"
     ]
    }
   ],
   "source": [
    "print(b.squeeze(-4).shape)"
   ]
  },
  {
   "cell_type": "code",
   "execution_count": 20,
   "metadata": {},
   "outputs": [
    {
     "name": "stdout",
     "output_type": "stream",
     "text": [
      "torch.Size([1, 32, 1])\n"
     ]
    }
   ],
   "source": [
    "print(b.squeeze(2).shape)"
   ]
  },
  {
   "cell_type": "code",
   "execution_count": null,
   "metadata": {},
   "outputs": [],
   "source": []
  },
  {
   "cell_type": "code",
   "execution_count": null,
   "metadata": {},
   "outputs": [],
   "source": []
  },
  {
   "cell_type": "code",
   "execution_count": null,
   "metadata": {},
   "outputs": [],
   "source": []
  },
  {
   "cell_type": "code",
   "execution_count": null,
   "metadata": {},
   "outputs": [],
   "source": []
  },
  {
   "cell_type": "code",
   "execution_count": null,
   "metadata": {},
   "outputs": [],
   "source": []
  },
  {
   "cell_type": "code",
   "execution_count": null,
   "metadata": {},
   "outputs": [],
   "source": []
  },
  {
   "cell_type": "code",
   "execution_count": null,
   "metadata": {},
   "outputs": [],
   "source": []
  },
  {
   "cell_type": "code",
   "execution_count": null,
   "metadata": {},
   "outputs": [],
   "source": []
  },
  {
   "cell_type": "code",
   "execution_count": null,
   "metadata": {},
   "outputs": [],
   "source": []
  },
  {
   "cell_type": "code",
   "execution_count": null,
   "metadata": {},
   "outputs": [],
   "source": []
  },
  {
   "cell_type": "code",
   "execution_count": null,
   "metadata": {},
   "outputs": [],
   "source": []
  },
  {
   "cell_type": "code",
   "execution_count": null,
   "metadata": {},
   "outputs": [],
   "source": []
  },
  {
   "cell_type": "code",
   "execution_count": null,
   "metadata": {},
   "outputs": [],
   "source": []
  },
  {
   "cell_type": "code",
   "execution_count": null,
   "metadata": {},
   "outputs": [],
   "source": []
  },
  {
   "cell_type": "code",
   "execution_count": null,
   "metadata": {},
   "outputs": [],
   "source": []
  },
  {
   "cell_type": "code",
   "execution_count": null,
   "metadata": {},
   "outputs": [],
   "source": []
  },
  {
   "cell_type": "code",
   "execution_count": null,
   "metadata": {},
   "outputs": [],
   "source": []
  },
  {
   "cell_type": "code",
   "execution_count": null,
   "metadata": {},
   "outputs": [],
   "source": []
  },
  {
   "cell_type": "code",
   "execution_count": null,
   "metadata": {},
   "outputs": [],
   "source": []
  },
  {
   "cell_type": "code",
   "execution_count": null,
   "metadata": {},
   "outputs": [],
   "source": []
  },
  {
   "cell_type": "code",
   "execution_count": null,
   "metadata": {},
   "outputs": [],
   "source": []
  },
  {
   "cell_type": "code",
   "execution_count": null,
   "metadata": {},
   "outputs": [],
   "source": []
  },
  {
   "cell_type": "code",
   "execution_count": null,
   "metadata": {},
   "outputs": [],
   "source": []
  },
  {
   "cell_type": "code",
   "execution_count": null,
   "metadata": {},
   "outputs": [],
   "source": []
  },
  {
   "cell_type": "code",
   "execution_count": null,
   "metadata": {},
   "outputs": [],
   "source": []
  },
  {
   "cell_type": "code",
   "execution_count": null,
   "metadata": {},
   "outputs": [],
   "source": []
  },
  {
   "cell_type": "code",
   "execution_count": null,
   "metadata": {},
   "outputs": [],
   "source": []
  },
  {
   "cell_type": "code",
   "execution_count": null,
   "metadata": {},
   "outputs": [],
   "source": []
  },
  {
   "cell_type": "code",
   "execution_count": null,
   "metadata": {},
   "outputs": [],
   "source": []
  },
  {
   "cell_type": "code",
   "execution_count": null,
   "metadata": {},
   "outputs": [],
   "source": []
  },
  {
   "cell_type": "code",
   "execution_count": null,
   "metadata": {},
   "outputs": [],
   "source": []
  },
  {
   "cell_type": "code",
   "execution_count": null,
   "metadata": {},
   "outputs": [],
   "source": []
  },
  {
   "cell_type": "code",
   "execution_count": null,
   "metadata": {},
   "outputs": [],
   "source": []
  },
  {
   "cell_type": "code",
   "execution_count": null,
   "metadata": {},
   "outputs": [],
   "source": []
  },
  {
   "cell_type": "code",
   "execution_count": null,
   "metadata": {},
   "outputs": [],
   "source": []
  },
  {
   "cell_type": "code",
   "execution_count": null,
   "metadata": {},
   "outputs": [],
   "source": []
  },
  {
   "cell_type": "code",
   "execution_count": null,
   "metadata": {},
   "outputs": [],
   "source": []
  },
  {
   "cell_type": "code",
   "execution_count": null,
   "metadata": {},
   "outputs": [],
   "source": []
  },
  {
   "cell_type": "code",
   "execution_count": null,
   "metadata": {},
   "outputs": [],
   "source": []
  },
  {
   "cell_type": "code",
   "execution_count": null,
   "metadata": {},
   "outputs": [],
   "source": []
  }
 ],
 "metadata": {
  "kernelspec": {
   "display_name": "Python 3",
   "language": "python",
   "name": "python3"
  },
  "language_info": {
   "codemirror_mode": {
    "name": "ipython",
    "version": 3
   },
   "file_extension": ".py",
   "mimetype": "text/x-python",
   "name": "python",
   "nbconvert_exporter": "python",
   "pygments_lexer": "ipython3",
   "version": "3.7.6"
  }
 },
 "nbformat": 4,
 "nbformat_minor": 4
}
