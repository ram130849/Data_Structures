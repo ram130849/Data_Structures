{
 "cells": [
  {
   "cell_type": "code",
   "execution_count": 3,
   "metadata": {},
   "outputs": [],
   "source": [
    "import itertools\n",
    "from collections import deque"
   ]
  },
  {
   "cell_type": "code",
   "execution_count": 4,
   "metadata": {},
   "outputs": [],
   "source": [
    "class MonotonicStack:\n",
    "    def __init__(self,comp):\n",
    "        self.comp = comp\n",
    "        self.stack = deque()\n",
    "    def isEmpty(self):\n",
    "        return len(self.stack)==0\n",
    "    def peek(self):\n",
    "        if(self.isEmpty()):\n",
    "            return\n",
    "        return self.stack[-1]\n",
    "    def push(self,val):\n",
    "        rst = []\n",
    "        while(not self.isEmpty() and self.comp(self.peek(),val)<0):\n",
    "                rst.append(self.pop())\n",
    "        self.stack.append(val)\n",
    "        return rst\n",
    "    def pop(self):\n",
    "        if(self.isEmpty()):\n",
    "            return\n",
    "        return self.stack.pop()\n",
    "    def __str__(self):\n",
    "        if(self.isEmpty()):\n",
    "            return \"\"\n",
    "        s = \"Current Monotonic Stack[\"\n",
    "        for v in itertools.islice(self.stack,len(self.stack)-1):\n",
    "            s+= \"{0}\".format(v)\n",
    "        s+=\"{0}]\".format(self.stack[-1])\n",
    "        return s"
   ]
  },
  {
   "cell_type": "code",
   "execution_count": 5,
   "metadata": {},
   "outputs": [
    {
     "name": "stdout",
     "output_type": "stream",
     "text": [
      "\n",
      "Current Monotonic Stack[64321]\n",
      "Current Monotonic Stack[64321]\n",
      "Current Monotonic Stack[6432]\n",
      "Current Monotonic Stack[65]\n"
     ]
    }
   ],
   "source": [
    "m = MonotonicStack(lambda x,y: x-y)\n",
    "print(m)\n",
    "m.push(6)\n",
    "m.push(4)\n",
    "m.push(3)\n",
    "m.push(2)\n",
    "m.push(1)\n",
    "assert not m.isEmpty()\n",
    "print(m)\n",
    "assert m.peek() == 1\n",
    "print(m)\n",
    "assert m.pop() == 1\n",
    "print(m)\n",
    "assert m.push(5) == [2, 3, 4]\n",
    "print(m)"
   ]
  },
  {
   "cell_type": "code",
   "execution_count": 36,
   "metadata": {},
   "outputs": [],
   "source": [
    "def nextGreaterElement(nums):\n",
    "    ans = []\n",
    "    stack = []\n",
    "    for i in range(len(nums)-1,-1,-1):\n",
    "        print(i,\"stack\",stack)\n",
    "        while(len(stack)>0 and stack[-1]<=nums[i]):\n",
    "            stack.pop()\n",
    "        if(len(stack)==0):\n",
    "            ans.append(-1)\n",
    "        else:\n",
    "            ans.append(stack[-1])\n",
    "        stack.append(nums[i])\n",
    "    return ans[::-1]"
   ]
  },
  {
   "cell_type": "code",
   "execution_count": 37,
   "metadata": {},
   "outputs": [
    {
     "name": "stdout",
     "output_type": "stream",
     "text": [
      "6 stack []\n",
      "5 stack [5]\n",
      "4 stack [6]\n",
      "3 stack [6, 4]\n",
      "2 stack [6, 4, 3]\n",
      "1 stack [6, 4, 3, 2]\n",
      "0 stack [6]\n",
      "[6, -1, 3, 4, 6, -1, -1]\n"
     ]
    }
   ],
   "source": [
    "nums = [1,6,2,3,4,6,5]\n",
    "print(nextGreaterElement(nums))"
   ]
  },
  {
   "cell_type": "code",
   "execution_count": 52,
   "metadata": {},
   "outputs": [],
   "source": [
    "def nextGreaterElement(nums):\n",
    "    n = len(nums)\n",
    "    ans = [0]*(n)\n",
    "    print(ans,nums)\n",
    "    nums = nums + nums[:n-1]\n",
    "    print(nums)\n",
    "    stack = []\n",
    "    for i in range(len(nums)-1,-1,-1):\n",
    "        print(i,\"stack\",stack)\n",
    "        while(len(stack)>0 and stack[-1]<=nums[i]):\n",
    "            stack.pop()\n",
    "        if(len(stack)==0):\n",
    "            print(\"i%len(nums)\",i,len(nums),i%n)\n",
    "            ans[i%n] = -1\n",
    "        else:\n",
    "            ans[i%n] = stack[-1]\n",
    "        stack.append(nums[i])\n",
    "    return ans"
   ]
  },
  {
   "cell_type": "code",
   "execution_count": 53,
   "metadata": {},
   "outputs": [
    {
     "name": "stdout",
     "output_type": "stream",
     "text": [
      "[0, 0, 0, 0, 0, 0] [1, 6, 2, 3, 4, 5]\n",
      "[1, 6, 2, 3, 4, 5, 1, 6, 2, 3, 4]\n",
      "10 stack []\n",
      "i%len(nums) 10 11 4\n",
      "9 stack [4]\n",
      "8 stack [4, 3]\n",
      "7 stack [4, 3, 2]\n",
      "i%len(nums) 7 11 1\n",
      "6 stack [6]\n",
      "5 stack [6, 1]\n",
      "4 stack [6, 5]\n",
      "3 stack [6, 5, 4]\n",
      "2 stack [6, 5, 4, 3]\n",
      "1 stack [6, 5, 4, 3, 2]\n",
      "i%len(nums) 1 11 1\n",
      "0 stack [6]\n",
      "[6, -1, 3, 4, 5, 6]\n"
     ]
    }
   ],
   "source": [
    "nums = [1,6,2,3,4,5]\n",
    "print(nextGreaterElement(nums))"
   ]
  },
  {
   "cell_type": "code",
   "execution_count": null,
   "metadata": {},
   "outputs": [],
   "source": []
  },
  {
   "cell_type": "code",
   "execution_count": null,
   "metadata": {},
   "outputs": [],
   "source": [
    "\n",
    "def prev_next_lesser(arr:list):\n",
    "    stack = []                                monotonically increasing & decreasing  - \n",
    "    next_lesser = [-1]*len(arr)\n",
    "    prev_lesser = [-1]*len(arr)\n",
    "    for i in range(len(arr)):\n",
    "        # print(arr[i])\n",
    "        while(len(stack)>0 and arr[stack[-1]]<=arr[i]):\n",
    "            next_greater[stack.pop()] = arr[i]\n",
    "        if(len(stack)>0):\n",
    "            prev_greater[i] = arr[stack[-1]]\n",
    "        stack.append(i)                          stack    2 \n",
    "    print(\"prev lesser\",prev_lesser)             next_lesser 5,3,-1,9,-1\n",
    "    print(\"next lesser\",next_lesser)             prev_lesser -1,-1,-1,3,3\n",
    "    \n",
    " \n",
    "nums = [7,5,3,11,9]\n",
    "prev_next_lesser(nums)"
   ]
  },
  {
   "cell_type": "code",
   "execution_count": null,
   "metadata": {},
   "outputs": [],
   "source": []
  },
  {
   "cell_type": "code",
   "execution_count": null,
   "metadata": {},
   "outputs": [],
   "source": []
  },
  {
   "cell_type": "code",
   "execution_count": null,
   "metadata": {},
   "outputs": [],
   "source": []
  },
  {
   "cell_type": "code",
   "execution_count": null,
   "metadata": {},
   "outputs": [],
   "source": []
  },
  {
   "cell_type": "code",
   "execution_count": null,
   "metadata": {},
   "outputs": [],
   "source": []
  },
  {
   "cell_type": "code",
   "execution_count": null,
   "metadata": {},
   "outputs": [],
   "source": []
  },
  {
   "cell_type": "code",
   "execution_count": null,
   "metadata": {},
   "outputs": [],
   "source": []
  },
  {
   "cell_type": "code",
   "execution_count": null,
   "metadata": {},
   "outputs": [],
   "source": []
  },
  {
   "cell_type": "code",
   "execution_count": null,
   "metadata": {},
   "outputs": [],
   "source": []
  },
  {
   "cell_type": "code",
   "execution_count": null,
   "metadata": {},
   "outputs": [],
   "source": []
  },
  {
   "cell_type": "code",
   "execution_count": null,
   "metadata": {},
   "outputs": [],
   "source": []
  },
  {
   "cell_type": "code",
   "execution_count": null,
   "metadata": {},
   "outputs": [],
   "source": []
  },
  {
   "cell_type": "code",
   "execution_count": null,
   "metadata": {},
   "outputs": [],
   "source": []
  },
  {
   "cell_type": "code",
   "execution_count": null,
   "metadata": {},
   "outputs": [],
   "source": []
  }
 ],
 "metadata": {
  "kernelspec": {
   "display_name": "Python 3",
   "language": "python",
   "name": "python3"
  },
  "language_info": {
   "codemirror_mode": {
    "name": "ipython",
    "version": 3
   },
   "file_extension": ".py",
   "mimetype": "text/x-python",
   "name": "python",
   "nbconvert_exporter": "python",
   "pygments_lexer": "ipython3",
   "version": "3.7.6"
  }
 },
 "nbformat": 4,
 "nbformat_minor": 4
}
