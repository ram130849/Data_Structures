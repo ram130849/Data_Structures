{
 "cells": [
  {
   "cell_type": "code",
   "execution_count": 1,
   "metadata": {},
   "outputs": [],
   "source": [
    "# cards - input; query - number from input to be searched;\n",
    "def locate_card(cards,query):\n",
    "    pass"
   ]
  },
  {
   "cell_type": "code",
   "execution_count": 2,
   "metadata": {},
   "outputs": [],
   "source": [
    "cards = [13,12,11,7,5,4,3,2,1]\n",
    "query = 7\n",
    "output = 3"
   ]
  },
  {
   "cell_type": "code",
   "execution_count": 6,
   "metadata": {},
   "outputs": [
    {
     "data": {
      "text/plain": [
       "False"
      ]
     },
     "execution_count": 6,
     "metadata": {},
     "output_type": "execute_result"
    }
   ],
   "source": [
    "result = locate_card(cards,query)\n",
    "result == output"
   ]
  },
  {
   "cell_type": "code",
   "execution_count": 4,
   "metadata": {},
   "outputs": [],
   "source": [
    "test = {\n",
    "    'input':{\n",
    "            'cards':[13,12,11,7,5,4,3,2,1],\n",
    "            'query': 7,\n",
    "            },\n",
    "    'output': 3\n",
    "}"
   ]
  },
  {
   "cell_type": "code",
   "execution_count": 7,
   "metadata": {},
   "outputs": [
    {
     "data": {
      "text/plain": [
       "False"
      ]
     },
     "execution_count": 7,
     "metadata": {},
     "output_type": "execute_result"
    }
   ],
   "source": [
    "locate_card(**test['input'])==output"
   ]
  },
  {
   "cell_type": "code",
   "execution_count": 8,
   "metadata": {},
   "outputs": [],
   "source": [
    "tests = []"
   ]
  },
  {
   "cell_type": "code",
   "execution_count": 10,
   "metadata": {},
   "outputs": [],
   "source": [
    "tests.append(test)\n",
    "tests.append({\n",
    "    'input':{\n",
    "        'cards':[13,12,11,10,7,3,2,1],\n",
    "        'query':1\n",
    "    },\n",
    "    'output':7\n",
    "})\n",
    "tests.append({\n",
    "    'input':{\n",
    "        'cards':[19,2,-1,-127],\n",
    "        'query':-127\n",
    "    },\n",
    "    'output':3\n",
    "})\n",
    "tests.append({\n",
    "    'input':{\n",
    "        'cards':[6],\n",
    "        'query':6\n",
    "    },\n",
    "    'output':0\n",
    "})"
   ]
  },
  {
   "cell_type": "code",
   "execution_count": 11,
   "metadata": {},
   "outputs": [],
   "source": [
    "tests.append({\n",
    "    'input':{\n",
    "        'cards':[1,3,5],\n",
    "        'query':6\n",
    "    },\n",
    "    'output':-1\n",
    "})"
   ]
  },
  {
   "cell_type": "code",
   "execution_count": 47,
   "metadata": {},
   "outputs": [],
   "source": [
    "def locate_cards(cards,query):\n",
    "        position = 0\n",
    "        print('cards',cards)\n",
    "        print('query',query)\n",
    "        while position < len(cards):\n",
    "            print('position',position)\n",
    "            if cards[position] == query:\n",
    "                return position\n",
    "            position+=1   \n",
    "        return -1"
   ]
  },
  {
   "cell_type": "code",
   "execution_count": 48,
   "metadata": {},
   "outputs": [
    {
     "name": "stdout",
     "output_type": "stream",
     "text": [
      "cards [1, 3, 5]\n",
      "query 6\n",
      "position 0\n",
      "position 1\n",
      "position 2\n"
     ]
    },
    {
     "data": {
      "text/plain": [
       "-1"
      ]
     },
     "execution_count": 48,
     "metadata": {},
     "output_type": "execute_result"
    }
   ],
   "source": [
    "result = locate_cards(**test['input'])\n",
    "result"
   ]
  },
  {
   "cell_type": "code",
   "execution_count": 49,
   "metadata": {},
   "outputs": [
    {
     "data": {
      "text/plain": [
       "True"
      ]
     },
     "execution_count": 49,
     "metadata": {},
     "output_type": "execute_result"
    }
   ],
   "source": [
    "result == test['output']"
   ]
  },
  {
   "cell_type": "code",
   "execution_count": 50,
   "metadata": {},
   "outputs": [
    {
     "name": "stdout",
     "output_type": "stream",
     "text": [
      "3\n",
      "cards [13, 12, 11, 7, 5, 4, 3, 2, 1]\n",
      "query 7\n",
      "position 0\n",
      "position 1\n",
      "position 2\n",
      "position 3\n",
      "True\n",
      "7\n",
      "cards [13, 12, 11, 10, 7, 3, 2, 1]\n",
      "query 1\n",
      "position 0\n",
      "position 1\n",
      "position 2\n",
      "position 3\n",
      "position 4\n",
      "position 5\n",
      "position 6\n",
      "position 7\n",
      "True\n",
      "3\n",
      "cards [19, 2, -1, -127]\n",
      "query -127\n",
      "position 0\n",
      "position 1\n",
      "position 2\n",
      "position 3\n",
      "True\n",
      "0\n",
      "cards [6]\n",
      "query 6\n",
      "position 0\n",
      "True\n",
      "-1\n",
      "cards [1, 3, 5]\n",
      "query 6\n",
      "position 0\n",
      "position 1\n",
      "position 2\n",
      "True\n"
     ]
    }
   ],
   "source": [
    "for test in tests:\n",
    "    print(test['output'])\n",
    "    print(locate_cards(**test['input']) == test['output'])"
   ]
  },
  {
   "cell_type": "markdown",
   "metadata": {},
   "source": [
    "There is inefficiency in the code as we have to iterate through all the elements and find the correct number.But, we can deliver a better solution by slightly modifying the solution through analyizing the worst case solution.ie. Space-Time Complexity. The time required to search all the elements in the list takes time N since N is the length of the array and the space required to find the elements is constant(c) because only one variable position is required and it takes only constant value.\n",
    "\n",
    "Binary Search Implementation:\n",
    "            1. find the middle element of the list.\n",
    "            2. if it matches the queried number then return the position as the answer.\n",
    "            3. if the element is less than queried number then search the first half of the list based on step 1.\n",
    "            4. if the element is larger than queried number then search the second half of the list based on step 1.\n",
    "            5. if no element remains return -1."
   ]
  },
  {
   "cell_type": "code",
   "execution_count": 54,
   "metadata": {},
   "outputs": [],
   "source": [
    "def binary_search(cards,query):\n",
    "    lo,hi = 0, len(cards)-1\n",
    "    while lo <= hi:\n",
    "        mid = (lo + hi) // 2 # / returns floating point value while // returns integer value.\n",
    "        mid_value = cards[mid]\n",
    "        print( 'lo:', lo,\n",
    "               'hi:', hi,\n",
    "               'mid:', mid,\n",
    "               'mid_value:', mid_value)\n",
    "        if mid_value == query:\n",
    "             return mid\n",
    "        elif mid_value < query:\n",
    "             hi = mid-1\n",
    "        elif mid_value > query:\n",
    "             lo = mid+1\n",
    "    return -1"
   ]
  },
  {
   "cell_type": "code",
   "execution_count": 55,
   "metadata": {},
   "outputs": [
    {
     "name": "stdout",
     "output_type": "stream",
     "text": [
      "lo: 0 hi: 8 mid: 4 mid_value: 5\n",
      "lo: 0 hi: 3 mid: 1 mid_value: 12\n",
      "lo: 2 hi: 3 mid: 2 mid_value: 11\n",
      "lo: 3 hi: 3 mid: 3 mid_value: 7\n",
      "True\n",
      "lo: 0 hi: 7 mid: 3 mid_value: 10\n",
      "lo: 4 hi: 7 mid: 5 mid_value: 3\n",
      "lo: 6 hi: 7 mid: 6 mid_value: 2\n",
      "lo: 7 hi: 7 mid: 7 mid_value: 1\n",
      "True\n",
      "lo: 0 hi: 3 mid: 1 mid_value: 2\n",
      "lo: 2 hi: 3 mid: 2 mid_value: -1\n",
      "lo: 3 hi: 3 mid: 3 mid_value: -127\n",
      "True\n",
      "lo: 0 hi: 0 mid: 0 mid_value: 6\n",
      "True\n",
      "lo: 0 hi: 2 mid: 1 mid_value: 3\n",
      "lo: 0 hi: 0 mid: 0 mid_value: 1\n",
      "True\n"
     ]
    }
   ],
   "source": [
    "for test in tests:\n",
    "    print(binary_search(**test['input']) == test['output'])"
   ]
  },
  {
   "cell_type": "code",
   "execution_count": 57,
   "metadata": {},
   "outputs": [],
   "source": [
    "def test_function(cards,query,mid):\n",
    "        if cards[mid] == query:\n",
    "            if mid-1>=0 and cards[mid-1] == query:\n",
    "                return -1\n",
    "            else:\n",
    "                return 0\n",
    "        elif cards[mid]<query:\n",
    "            return -1\n",
    "        else:\n",
    "            return 1\n",
    "def locate_card(cards,query):\n",
    "    lo,hi = 0, len(cards)-1\n",
    "    while lo <= hi:\n",
    "        mid = (lo+hi)//2\n",
    "        result = test_function(cards,query,mid)\n",
    "        print('lo:',lo,\n",
    "              'hi:',hi,\n",
    "              'mid:', mid,\n",
    "              'result:', result,\n",
    "              'mid_value:', cards[mid])\n",
    "        if result == 0:\n",
    "            return mid\n",
    "        elif result == -1:\n",
    "            hi = mid-1\n",
    "        elif result == 1:\n",
    "            lo = mid+1\n",
    "    return -1 "
   ]
  },
  {
   "cell_type": "code",
   "execution_count": 1,
   "metadata": {},
   "outputs": [],
   "source": [
    "edge_case = {\n",
    "    'input':{\n",
    "        'cards':[8,8,6,6,6,6,6,3,2,2,2,0,0,1],\n",
    "        'query':6\n",
    "    },\n",
    "    'output':2\n",
    "}"
   ]
  },
  {
   "cell_type": "code",
   "execution_count": 60,
   "metadata": {},
   "outputs": [
    {
     "name": "stdout",
     "output_type": "stream",
     "text": [
      "lo: 0 hi: 13 mid: 6 result: -1 mid_value: 6\n",
      "lo: 0 hi: 5 mid: 2 result: 0 mid_value: 6\n",
      "2\n"
     ]
    }
   ],
   "source": [
    "print(locate_card(**edge_case['input']))"
   ]
  },
  {
   "cell_type": "code",
   "execution_count": 3,
   "metadata": {},
   "outputs": [],
   "source": [
    "def binary_search(lo,hi,condition):\n",
    "    while lo<=hi:\n",
    "        mid = (lo+hi)//2\n",
    "        result = condition(mid)\n",
    "        if result == 'found':\n",
    "            return mid\n",
    "        elif result == 'left':\n",
    "             hi = mid -1\n",
    "        else:\n",
    "            lo = mid + 1\n",
    "    return -1\n",
    "    \n",
    "def locate_cards(cards,query):\n",
    "    \n",
    "    def condition(mid):\n",
    "        if cards[mid] == query:\n",
    "            if mid>0 and cards[mid-1] == query:\n",
    "                   return 'left'\n",
    "            else:\n",
    "                   return 'found'\n",
    "        elif cards[mid]<query:\n",
    "            return 'left'\n",
    "        else:\n",
    "            return 'right'\n",
    "    return binary_search(0,len(cards)-1,condition)\n",
    "\n"
   ]
  },
  {
   "cell_type": "code",
   "execution_count": 4,
   "metadata": {},
   "outputs": [
    {
     "name": "stdout",
     "output_type": "stream",
     "text": [
      "2\n"
     ]
    }
   ],
   "source": [
    "print(locate_cards(**edge_case['input']))"
   ]
  },
  {
   "cell_type": "code",
   "execution_count": 5,
   "metadata": {},
   "outputs": [
    {
     "name": "stdout",
     "output_type": "stream",
     "text": [
      "In first position: [8, 8, 6, 6, 6, 6, 3, 2, 2, 2, 0, 0, 1] 6\n",
      "condition mid value: 6\n",
      "Result: left\n",
      "condition mid value: 2\n",
      "Result: found\n",
      "In last position: [8, 8, 6, 6, 6, 6, 3, 2, 2, 2, 0, 0, 1] 6\n",
      "condition mid value: 6\n",
      "Result: left\n",
      "condition mid value: 2\n",
      "Result: right\n",
      "condition mid value: 4\n",
      "Result: right\n",
      "condition mid value: 5\n",
      "Result: found\n",
      "(2, 5)\n"
     ]
    }
   ],
   "source": [
    "def binary_search(lo,hi,condition):\n",
    "    while lo<=hi:\n",
    "        mid = (lo+hi)//2\n",
    "        result = condition(mid)\n",
    "        print(\"Result:\",result)\n",
    "        if result == 'found':\n",
    "            return mid\n",
    "        elif result == 'left':\n",
    "            hi = mid-1\n",
    "        else:\n",
    "            lo = mid+1\n",
    "    return -1\n",
    "\n",
    "\n",
    "def first_position(nums,target):\n",
    "    print(\"In first position:\",nums,target)\n",
    "    def condition(mid):\n",
    "            print(\"condition mid value:\", mid)\n",
    "            if nums[mid]==target:\n",
    "                if mid>0 and nums[mid-1] == target:\n",
    "                    return 'left'\n",
    "                else:\n",
    "                    return 'found'\n",
    "            elif nums[mid] < target:\n",
    "                return 'left'\n",
    "            else:\n",
    "                return 'right'\n",
    "    return binary_search(0, len(nums)-1, condition)\n",
    "\n",
    "def last_position(nums,target):\n",
    "    print(\"In last position:\",nums,target)\n",
    "    def condition(mid):\n",
    "            print(\"condition mid value:\", mid)\n",
    "            if nums[mid]==target:\n",
    "                if mid<len(nums)-1 and nums[mid+1] == target:\n",
    "                    return 'right'\n",
    "                else:\n",
    "                    return 'found'\n",
    "            elif nums[mid] < target:\n",
    "                return 'left'\n",
    "            else:\n",
    "                return 'right'\n",
    "    return binary_search(0, len(nums)-1, condition)\n",
    "def first_and_last_position(nums,target):\n",
    "    return (first_position(nums,target),last_position(nums,target))\n",
    "\n",
    "edge_case = {\n",
    "    'input':{\n",
    "        'nums':[8,8,6,6,6,6,3,2,2,2,0,0,1],\n",
    "        'target':6\n",
    "    },\n",
    "    'first':2,\n",
    "    'last':5\n",
    "}\n",
    "\n",
    "\n",
    "print(first_and_last_position(**edge_case['input']))"
   ]
  },
  {
   "cell_type": "code",
   "execution_count": 6,
   "metadata": {},
   "outputs": [
    {
     "name": "stdout",
     "output_type": "stream",
     "text": [
      "3\n"
     ]
    }
   ],
   "source": [
    "def get_no_of_rotations(nums):\n",
    "        index = 0\n",
    "        i = 1\n",
    "        n = nums[0]\n",
    "        while(i<=len(nums)-1):\n",
    "            if nums[i] < n:\n",
    "                n = nums[i] \n",
    "                index = i \n",
    "            i+=1\n",
    "        return index\n",
    "test = {\n",
    "    'input': {\n",
    "        'nums': [19, 25, 29, 3, 5, 6, 7, 9, 11, 14]\n",
    "    },\n",
    "    'output': 3\n",
    "}\n",
    "print(get_no_of_rotations(**test['input']))\n",
    "\n",
    "    "
   ]
  },
  {
   "cell_type": "code",
   "execution_count": 7,
   "metadata": {},
   "outputs": [
    {
     "name": "stdout",
     "output_type": "stream",
     "text": [
      "6\n"
     ]
    }
   ],
   "source": [
    "def binary_search(lo,hi,condition):\n",
    "    while lo<=hi:\n",
    "        mid = (lo+hi)//2\n",
    "        result = condition(mid)\n",
    "        if result == 'found':\n",
    "            return mid\n",
    "        elif result == 'left':\n",
    "            hi = mid-1\n",
    "        else:\n",
    "            lo = mid+1\n",
    "    return -1\n",
    "\n",
    "def get_no_of_rotations(nums):\n",
    "        def condition(mid):\n",
    "            if nums[mid] < nums[mid-1]:\n",
    "                    return 'found'\n",
    "            elif nums[mid]< nums[len(nums)-1]:\n",
    "                    return 'left'\n",
    "            else:\n",
    "                    return 'right'\n",
    "        return binary_search(0,len(nums)-1,condition)\n",
    "        \n",
    "      \n",
    "test = {\n",
    "    'input': {\n",
    "        'nums': [1, 2, 3, 4, 5, 6, 0],\n",
    "    },\n",
    "    'output': 6\n",
    "}\n",
    "print(get_no_of_rotations(**test['input']))\n",
    "\n",
    "    "
   ]
  },
  {
   "cell_type": "code",
   "execution_count": 85,
   "metadata": {},
   "outputs": [],
   "source": [
    "def binary_search(lo,hi,condition):    \n",
    "    while lo<=hi:\n",
    "        mid = (lo+hi)//2\n",
    "        result = condition(mid)\n",
    "        if result == 'found':\n",
    "            return mid\n",
    "        elif result == 'left':\n",
    "            hi = mid - 1\n",
    "        else:\n",
    "            lo = mid + 1 \n",
    "    return -1\n",
    "\n",
    "def get_pivot(lo,hi,nums):\n",
    "        mid = (lo+hi)//2\n",
    "        if hi < lo:\n",
    "            return -1\n",
    "        if hi == lo:\n",
    "            return lo\n",
    "            mid = (lo+hi)//2\n",
    "        if mid < hi and nums[mid] > nums[mid+1]:\n",
    "            return mid\n",
    "        if mid > lo and nums[mid] < nums[mid-1]:\n",
    "            return mid-1\n",
    "        elif nums[mid] > nums[hi] or nums[hi] > nums[lo]:\n",
    "            return get_pivot(mid+1,hi,nums)\n",
    "        return get_pivot(lo,mid-1,nums)\n",
    "\n",
    "def get_pivoted_binary_search(nums,target):\n",
    "    lo = 0\n",
    "    hi = len(nums)-1\n",
    "    mid = (lo+hi)//2\n",
    "    result = get_pivot(lo,hi,nums)\n",
    "    def condition(mid):\n",
    "        if nums[mid] == target:\n",
    "            return 'found'\n",
    "        elif nums[mid] < target:\n",
    "            return 'right'\n",
    "        else:\n",
    "            return 'left'\n",
    "    if nums[result] == target:\n",
    "        return result\n",
    "    elif nums[result]<=target:\n",
    "        return binary_search(lo,result-1,condition)\n",
    "    else:\n",
    "        return binary_search(result+1,hi,condition) "
   ]
  },
  {
   "cell_type": "code",
   "execution_count": 91,
   "metadata": {},
   "outputs": [],
   "source": [
    "test = {\n",
    "    'input':{\n",
    "    'nums':[2,3,4,5,6,0,1],\n",
    "    'target':2\n",
    "    },\n",
    "    'output':4\n",
    "}\n",
    "test1 = {\n",
    "    'input':{\n",
    "        'nums':[30, 40, 50, 10, 20],\n",
    "        'target':10\n",
    "    },\n",
    "    'output':3\n",
    "    \n",
    "}"
   ]
  },
  {
   "cell_type": "code",
   "execution_count": 92,
   "metadata": {},
   "outputs": [
    {
     "data": {
      "text/plain": [
       "3"
      ]
     },
     "execution_count": 92,
     "metadata": {},
     "output_type": "execute_result"
    }
   ],
   "source": [
    "get_pivoted_binary_search(**test1['input'])"
   ]
  },
  {
   "cell_type": "code",
   "execution_count": null,
   "metadata": {},
   "outputs": [],
   "source": [
    "Input  : arr[] = {5, 6, 7, 8, 9, 10, 1, 2, 3};\n",
    "         key = 3\n",
    "Output : Found at index 8\n",
    "\n",
    "Input  : arr[] = {5, 6, 7, 8, 9, 10, 1, 2, 3};\n",
    "         key = 30\n",
    "Output : Not found\n",
    "\n",
    "Input : arr[] = {30, 40, 50, 10, 20}\n",
    "        key = 10   \n",
    "Output : Found at index 3"
   ]
  },
  {
   "cell_type": "code",
   "execution_count": null,
   "metadata": {},
   "outputs": [],
   "source": []
  }
 ],
 "metadata": {
  "kernelspec": {
   "display_name": "Python 3",
   "language": "python",
   "name": "python3"
  },
  "language_info": {
   "codemirror_mode": {
    "name": "ipython",
    "version": 3
   },
   "file_extension": ".py",
   "mimetype": "text/x-python",
   "name": "python",
   "nbconvert_exporter": "python",
   "pygments_lexer": "ipython3",
   "version": "3.7.6"
  }
 },
 "nbformat": 4,
 "nbformat_minor": 4
}
