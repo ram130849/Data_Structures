{
 "cells": [
  {
   "cell_type": "code",
   "execution_count": null,
   "metadata": {},
   "outputs": [],
   "source": [
    "# This is a DFS based recursive Algorithm.\n",
    "\n",
    "# Topological SOrting - Linear ordering of vertices such that if there is an edge between u and v then u appears before v in that\n",
    "# ordering.\n",
    "\n",
    "  /---> 0<---4--->1\n",
    " /               /\n",
    "5--->2--->3---->/               \n",
    "\n",
    "# u appears before v always in that ordering. Topological sorting can only be done in DAG's. Consider the graph with edges:\n",
    "# 5-->0\n",
    "# 4-->0\n",
    "# 5-->2\n",
    "# 2-->3\n",
    "# 3-->1\n",
    "# 4-->1\n",
    "\n",
    "# It can be only done in a directed graph since topological ordering only exists in the directed graphs whereas not in the \n",
    "# undirected graph. Consider the edge betwee 2 to 1\n",
    "# for directed graph it is 2-->1\n",
    "# for undirected graph it is both 2--1 and 1--2.\n",
    "\n",
    "# It can be only done in acyclic graphs. Consider a graph having a cycle:\n",
    "\n",
    "    1--->2--->3\n",
    "    |<--------|\n",
    "    \n",
    "# Consider the ordering for this graph: 1 is before 2 and 2 is before 3 whereas 3 is also should be before 1 but that should \n",
    "# not be happening because there is a cyclic dependency happening. Thereby if there is a cycle you cannot have a topological\n",
    "# order.\n",
    "\n"
   ]
  },
  {
   "cell_type": "code",
   "execution_count": null,
   "metadata": {},
   "outputs": [],
   "source": [
    "# Function Input: DAG,corresponding adjacency list of all nodes in the graph.\n",
    "# Steps:\n",
    "# Topological_Sort_Util(node,graph,visited,stack):\n",
    "#      visited[node]=True\n",
    "#      for i in graph.neighbours(node):\n",
    "#            if visited[i]==False:\n",
    "#                self.Topological_Sort_Util(i,graph,visited,stack)\n",
    "#\n",
    "#      stack.append(v)\n",
    "# Topological_Sort(graph,adj_list):\n",
    "#      Initialize the Visited boolean Array of length V as False and empty stack S.\n",
    "#      for each i in vertices v:\n",
    "#          if i is not in visited:\n",
    "#                call topologicalSortUtil(i,graph,visited,stack)\n",
    "#      print(S[::-1])"
   ]
  },
  {
   "cell_type": "code",
   "execution_count": 5,
   "metadata": {},
   "outputs": [],
   "source": [
    "# Python program to print topological sorting of a DAG\n",
    "from collections import defaultdict\n",
    "\n",
    "# Class to represent a graph\n",
    "class Graph:\n",
    "    def __init__(self, vertices):\n",
    "        self.graph = defaultdict(list)  # dictionary containing adjacency List\n",
    "        self.V = vertices  # No. of vertices\n",
    " \n",
    "    # function to add an edge to graph\n",
    "    def addEdge(self, u, v):\n",
    "        self.graph[u].append(v)\n",
    " \n",
    "    # A recursive function used by topologicalSort\n",
    "    def topologicalSortUtil(self, v, visited, stack):\n",
    " \n",
    "        # Mark the current node as visited.\n",
    "        visited[v] = True\n",
    " \n",
    "        # Recur for all the vertices adjacent to this vertex\n",
    "        for i in self.graph[v]:\n",
    "            if visited[i] == False:\n",
    "                self.topologicalSortUtil(i, visited, stack)\n",
    " \n",
    "        # Push current vertex to stack which stores result\n",
    "        stack.append(v)\n",
    " \n",
    "    # The function to do Topological Sort. It uses recursive\n",
    "    # topologicalSortUtil()\n",
    "    def topologicalSort(self):\n",
    "        # Mark all the vertices as not visited\n",
    "        visited = [False]*self.V\n",
    "        stack = []\n",
    " \n",
    "        # Call the recursive helper function to store Topological\n",
    "        # Sort starting from all vertices one by one\n",
    "        for i in range(self.V):\n",
    "            if visited[i] == False:\n",
    "                self.topologicalSortUtil(i, visited, stack)\n",
    " \n",
    "        # Print contents of the stack\n",
    "        print(stack[::-1])  # return list in reverse order"
   ]
  },
  {
   "cell_type": "code",
   "execution_count": 6,
   "metadata": {},
   "outputs": [
    {
     "name": "stdout",
     "output_type": "stream",
     "text": [
      "Following is a Topological Sort of the given graph\n",
      "[5, 4, 2, 3, 1, 0]\n"
     ]
    }
   ],
   "source": [
    "g = Graph(6)\n",
    "g.addEdge(5, 2)\n",
    "g.addEdge(5, 0)\n",
    "g.addEdge(4, 0)\n",
    "g.addEdge(4, 1)\n",
    "g.addEdge(2, 3)\n",
    "g.addEdge(3, 1)\n",
    " \n",
    "print(\"Following is a Topological Sort of the given graph\")\n",
    " \n",
    "# Function Call\n",
    "g.topologicalSort()\n"
   ]
  },
  {
   "cell_type": "code",
   "execution_count": 2,
   "metadata": {},
   "outputs": [],
   "source": [
    "# Topological Sorting using Kahn's Algorithm: This is done in BFS Algorithm method\n",
    "\n",
    "# Steps:\n",
    "# 1.Compute in-degree (number of incoming edges) for each of the vertex present in the DAG and initialize the count of visited nodes as 0.\n",
    "#\n",
    "# 2.Pick all the vertices with in-degree as 0 and add them into a queue (Enqueue operation)\n",
    "#\n",
    "# 3.Remove a vertex from the queue (Dequeue operation) and then. \n",
    "#     a. Increment the count of visited nodes by 1.\n",
    "#     b. Decrease in-degree by 1 for all its neighbouring nodes.\n",
    "#     c. If the in-degree of neighbouring nodes is reduced to zero, then add it to the queue.\n",
    "# 4. Repeat Step 3 until the queue is empty.\n",
    "#\n",
    "# 5. If the count of visited nodes is not equal to the number of nodes in the graph then the topological sort\n",
    "#  is not possible for the given graph.\n",
    "#"
   ]
  },
  {
   "cell_type": "code",
   "execution_count": 3,
   "metadata": {},
   "outputs": [],
   "source": [
    "# A Python program to print topological sorting of a graph\n",
    "# using indegrees\n",
    "from collections import defaultdict\n",
    " \n",
    "# Class to represent a graph\n",
    "class Graph:\n",
    "    def __init__(self, vertices):\n",
    "        self.graph = defaultdict(list) # dictionary containing adjacency List\n",
    "        self.V = vertices # No. of vertices\n",
    " \n",
    "    # function to add an edge to graph\n",
    "    def addEdge(self, u, v):\n",
    "        self.graph[u].append(v)\n",
    " \n",
    " \n",
    "    # The function to do Topological Sort.\n",
    "    def topologicalSort(self):\n",
    "         \n",
    "        # Create a vector to store indegrees of all\n",
    "        # vertices. Initialize all indegrees as 0.\n",
    "        in_degree = [0]*(self.V)\n",
    "         \n",
    "        # Traverse adjacency lists to fill indegrees of\n",
    "           # vertices.  This step takes O(V + E) time\n",
    "        for i in self.graph:\n",
    "            for j in self.graph[i]:\n",
    "                in_degree[j] += 1\n",
    " \n",
    "        # Create an queue and enqueue all vertices with\n",
    "        # indegree 0\n",
    "        queue = []\n",
    "        for i in range(self.V):\n",
    "            if in_degree[i] == 0:\n",
    "                queue.append(i)\n",
    " \n",
    "        # Initialize count of visited vertices\n",
    "        cnt = 0\n",
    " \n",
    "        # Create a vector to store result (A topological\n",
    "        # ordering of the vertices)\n",
    "        top_order = []\n",
    " \n",
    "        # One by one dequeue vertices from queue and enqueue\n",
    "        # adjacents if indegree of adjacent becomes 0\n",
    "        while queue:\n",
    " \n",
    "            # Extract front of queue (or perform dequeue)\n",
    "            # and add it to topological order\n",
    "            u = queue.pop(0)\n",
    "            top_order.append(u)\n",
    " \n",
    "            # Iterate through all neighbouring nodes\n",
    "            # of dequeued node u and decrease their in-degree\n",
    "            # by 1\n",
    "            for i in self.graph[u]:\n",
    "                in_degree[i] -= 1\n",
    "                # If in-degree becomes zero, add it to queue\n",
    "                if in_degree[i] == 0:\n",
    "                    queue.append(i)\n",
    " \n",
    "            cnt += 1\n",
    " \n",
    "        # Check if there was a cycle\n",
    "        if cnt != self.V:\n",
    "            print (\"There exists a cycle in the graph\")\n",
    "        else :\n",
    "            # Print topological order\n",
    "            print (top_order)"
   ]
  },
  {
   "cell_type": "code",
   "execution_count": 4,
   "metadata": {},
   "outputs": [
    {
     "name": "stdout",
     "output_type": "stream",
     "text": [
      "Following is a Topological Sort of the given graph\n",
      "[4, 5, 2, 0, 3, 1]\n"
     ]
    }
   ],
   "source": [
    "g = Graph(6)\n",
    "g.addEdge(5, 2);\n",
    "g.addEdge(5, 0);\n",
    "g.addEdge(4, 0);\n",
    "g.addEdge(4, 1);\n",
    "g.addEdge(2, 3);\n",
    "g.addEdge(3, 1);\n",
    " \n",
    "print (\"Following is a Topological Sort of the given graph\")\n",
    "g.topologicalSort()\n"
   ]
  },
  {
   "cell_type": "code",
   "execution_count": null,
   "metadata": {},
   "outputs": [],
   "source": []
  },
  {
   "cell_type": "code",
   "execution_count": null,
   "metadata": {},
   "outputs": [],
   "source": []
  },
  {
   "cell_type": "code",
   "execution_count": null,
   "metadata": {},
   "outputs": [],
   "source": []
  },
  {
   "cell_type": "code",
   "execution_count": null,
   "metadata": {},
   "outputs": [],
   "source": []
  },
  {
   "cell_type": "code",
   "execution_count": null,
   "metadata": {},
   "outputs": [],
   "source": []
  },
  {
   "cell_type": "code",
   "execution_count": null,
   "metadata": {},
   "outputs": [],
   "source": []
  },
  {
   "cell_type": "code",
   "execution_count": null,
   "metadata": {},
   "outputs": [],
   "source": []
  },
  {
   "cell_type": "code",
   "execution_count": null,
   "metadata": {},
   "outputs": [],
   "source": []
  }
 ],
 "metadata": {
  "kernelspec": {
   "display_name": "Python 3",
   "language": "python",
   "name": "python3"
  },
  "language_info": {
   "codemirror_mode": {
    "name": "ipython",
    "version": 3
   },
   "file_extension": ".py",
   "mimetype": "text/x-python",
   "name": "python",
   "nbconvert_exporter": "python",
   "pygments_lexer": "ipython3",
   "version": "3.7.6"
  }
 },
 "nbformat": 4,
 "nbformat_minor": 4
}
