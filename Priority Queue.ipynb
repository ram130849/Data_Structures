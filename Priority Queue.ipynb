{
 "cells": [
  {
   "cell_type": "code",
   "execution_count": 1,
   "metadata": {},
   "outputs": [],
   "source": [
    "import heapq"
   ]
  },
  {
   "cell_type": "code",
   "execution_count": 17,
   "metadata": {},
   "outputs": [],
   "source": [
    "hq = []\n",
    "heapq.heappush(hq,(3,\"Jerome\"))\n",
    "heapq.heappush(hq,(1,\"Sathish\"))\n",
    "heapq.heappush(hq,(2,\"Ramki\"))\n",
    "heapq.heappush(hq,(7,\"Pavethran\"))\n",
    "heapq.heappush(hq,(5,\"Kannan\"))\n",
    "heapq.heappush(hq,(9,\"Arphan\"))"
   ]
  },
  {
   "cell_type": "code",
   "execution_count": 16,
   "metadata": {},
   "outputs": [
    {
     "data": {
      "text/plain": [
       "(1, 'Sathish')"
      ]
     },
     "execution_count": 16,
     "metadata": {},
     "output_type": "execute_result"
    }
   ],
   "source": [
    "heapq.heappop(hq)"
   ]
  },
  {
   "cell_type": "code",
   "execution_count": 6,
   "metadata": {},
   "outputs": [
    {
     "data": {
      "text/plain": [
       "(2, 'Ramki')"
      ]
     },
     "execution_count": 6,
     "metadata": {},
     "output_type": "execute_result"
    }
   ],
   "source": [
    "heapq.heappop(hq)"
   ]
  },
  {
   "cell_type": "code",
   "execution_count": 7,
   "metadata": {},
   "outputs": [
    {
     "data": {
      "text/plain": [
       "(3, 'Jerome')"
      ]
     },
     "execution_count": 7,
     "metadata": {},
     "output_type": "execute_result"
    }
   ],
   "source": [
    "heapq.heappop(hq)"
   ]
  },
  {
   "cell_type": "code",
   "execution_count": 8,
   "metadata": {},
   "outputs": [
    {
     "data": {
      "text/plain": [
       "(5, 'Kannan')"
      ]
     },
     "execution_count": 8,
     "metadata": {},
     "output_type": "execute_result"
    }
   ],
   "source": [
    "heapq.heappop(hq)"
   ]
  },
  {
   "cell_type": "code",
   "execution_count": 9,
   "metadata": {},
   "outputs": [
    {
     "data": {
      "text/plain": [
       "(7, 'Pavethran')"
      ]
     },
     "execution_count": 9,
     "metadata": {},
     "output_type": "execute_result"
    }
   ],
   "source": [
    "heapq.heappop(hq)"
   ]
  },
  {
   "cell_type": "code",
   "execution_count": 10,
   "metadata": {},
   "outputs": [
    {
     "data": {
      "text/plain": [
       "(9, 'Arphan')"
      ]
     },
     "execution_count": 10,
     "metadata": {},
     "output_type": "execute_result"
    }
   ],
   "source": [
    "heapq.heappop(hq)"
   ]
  },
  {
   "cell_type": "markdown",
   "metadata": {},
   "source": [
    "#### To Update Priority in Priority Queue, get the index of the element you want to update the priority of and assign a new key to the element.\n",
    "\n",
    "\n",
    "#### You can change the value of the element as well."
   ]
  },
  {
   "cell_type": "code",
   "execution_count": 18,
   "metadata": {},
   "outputs": [
    {
     "name": "stdout",
     "output_type": "stream",
     "text": [
      "[(1, 'Sathish'), (3, 'Jerome'), (2, 'Ramki'), (7, 'Pavethran'), (5, 'Kannan'), (9, 'Arphan')]\n"
     ]
    }
   ],
   "source": [
    "print(hq)"
   ]
  },
  {
   "cell_type": "code",
   "execution_count": 19,
   "metadata": {},
   "outputs": [
    {
     "name": "stdout",
     "output_type": "stream",
     "text": [
      "[(1, 'Sathish'), (3, 'Jerome'), (12, 'Ramki'), (7, 'Pavethran'), (5, 'Kannan'), (9, 'Arphan')]\n"
     ]
    }
   ],
   "source": [
    "hq[2] = (12,'Ramki')\n",
    "print(hq)"
   ]
  },
  {
   "cell_type": "code",
   "execution_count": 22,
   "metadata": {},
   "outputs": [],
   "source": [
    "heapq.heapify(hq)"
   ]
  },
  {
   "cell_type": "code",
   "execution_count": 23,
   "metadata": {},
   "outputs": [
    {
     "name": "stdout",
     "output_type": "stream",
     "text": [
      "[(1, 'Sathish'), (3, 'Jerome'), (9, 'Arphan'), (7, 'Pavethran'), (5, 'Kannan'), (12, 'Ramki')]\n"
     ]
    }
   ],
   "source": [
    "print(hq) ### After updating the element we need to heapify to maintain the heap data structure."
   ]
  },
  {
   "cell_type": "code",
   "execution_count": 25,
   "metadata": {},
   "outputs": [
    {
     "name": "stdout",
     "output_type": "stream",
     "text": [
      "[(3, 'Jerome'), (5, 'Kannan'), (9, 'Arphan'), (7, 'Pavethran'), (8, 'Rohan'), (12, 'Ramki')]\n"
     ]
    }
   ],
   "source": [
    "### HeapReplace - function to remove the most priority element from the queue and replace the elment with the new element passed.\n",
    "\n",
    "heapq.heapreplace(hq,(8,\"Rohan\"))\n",
    "print(hq)  ### the heapreplace function dequeues the element with the highest priority and adds new element in the queue.\n",
    "### we can also use heappushpop function to replace the element in the priority queue."
   ]
  },
  {
   "cell_type": "markdown",
   "metadata": {},
   "source": [
    "### nlargest  - To find the top N elements in the queue whithout dequing them from the PQ. \n",
    "### nsmallest -  To find the bottom N elements in the queue without dequing them from the PQ."
   ]
  },
  {
   "cell_type": "code",
   "execution_count": 26,
   "metadata": {},
   "outputs": [
    {
     "data": {
      "text/plain": [
       "[(12, 'Ramki'), (9, 'Arphan'), (8, 'Rohan')]"
      ]
     },
     "execution_count": 26,
     "metadata": {},
     "output_type": "execute_result"
    }
   ],
   "source": [
    "heapq.nlargest(3,hq)"
   ]
  },
  {
   "cell_type": "code",
   "execution_count": 27,
   "metadata": {},
   "outputs": [
    {
     "data": {
      "text/plain": [
       "[(3, 'Jerome'), (5, 'Kannan'), (7, 'Pavethran')]"
      ]
     },
     "execution_count": 27,
     "metadata": {},
     "output_type": "execute_result"
    }
   ],
   "source": [
    "heapq.nsmallest(3,hq)"
   ]
  },
  {
   "cell_type": "markdown",
   "metadata": {},
   "source": [
    "### Sort PQ based on the custom Comparator."
   ]
  },
  {
   "cell_type": "code",
   "execution_count": 29,
   "metadata": {},
   "outputs": [
    {
     "name": "stdout",
     "output_type": "stream",
     "text": [
      "Before Sorting Result: <module 'heapq' from 'C:\\\\Users\\\\91709\\\\Anaconda3\\\\lib\\\\heapq.py'>\n",
      "After Sorting Result: [(1, 'sleep'), (2, 'eat'), (3, 'study'), (4, 'run'), (5, 'sex'), (6, 'fun')]\n"
     ]
    }
   ],
   "source": [
    "heap = []\n",
    "heapq.heappush(heap,(2,\"eat\"))\n",
    "heapq.heappush(heap,(1,\"sleep\"))\n",
    "heapq.heappush(heap,(4,\"run\"))\n",
    "heapq.heappush(heap,(3,\"study\"))\n",
    "heapq.heappush(heap,(6,\"fun\"))\n",
    "heapq.heappush(heap,(5,\"sex\"))\n",
    "print(\"Before Sorting Result:\",heapq)\n",
    "print(\"After Sorting Result:\",sorted(heap))"
   ]
  },
  {
   "cell_type": "code",
   "execution_count": 31,
   "metadata": {},
   "outputs": [
    {
     "name": "stdout",
     "output_type": "stream",
     "text": [
      "[(2, 'eat'), (6, 'fun'), (4, 'run'), (5, 'sex'), (1, 'sleep'), (3, 'study')]\n"
     ]
    }
   ],
   "source": [
    "### Sort based on the custom comparator by using the Lambda Function.\n",
    "print(sorted(heap,key = lambda x: x[1]))"
   ]
  },
  {
   "cell_type": "code",
   "execution_count": 32,
   "metadata": {},
   "outputs": [
    {
     "name": "stdout",
     "output_type": "stream",
     "text": [
      "[(3, 'study'), (1, 'sleep'), (5, 'sex'), (4, 'run'), (6, 'fun'), (2, 'eat')]\n"
     ]
    }
   ],
   "source": [
    "print(sorted(heap,key=lambda x: x[1],reverse=True))"
   ]
  },
  {
   "cell_type": "markdown",
   "metadata": {},
   "source": [
    "Like a Regular Queue Priority Queue supports adding and removing elements but it based on the\n",
    "priority of the elements not in the first in first Out Order.\n",
    "\n",
    "But what if in the middle of the program, the priority of an object changes? \n",
    "Indexed Priority Queue gives us the ability to change the priority of an element without having to go through all the elements"
   ]
  },
  {
   "cell_type": "markdown",
   "metadata": {},
   "source": [
    "Priority queues are usually implemented with heaps. \n",
    "A heap is a tree-based data structure where for node C, C’s key is greater than the key of C’s parent (for MinPQ).\n",
    "To have efficient access to the node’s children or the node’s parent, \n",
    "an array is usually used to represent the tree where if the key of node i is pq[i],\n",
    "the children are pq[2*i] and pq[2*i+1]."
   ]
  },
  {
   "cell_type": "markdown",
   "metadata": {},
   "source": [
    "Heaps use the swim and sink methods to ensure that the node with the highest priority is always stays at the top.\n",
    "\n",
    "Swim - the swim method ensures that the children nodes does not have higher priority than its parent.\n",
    "\n",
    "Sink - the sink method ensures that the children nodes have lower priority than its parent."
   ]
  },
  {
   "cell_type": "code",
   "execution_count": null,
   "metadata": {},
   "outputs": [],
   "source": [
    "class PriorityQueue:\n",
    "    def __init__(self,N):\n",
    "        self.arr = [None]\n",
    "        assert type(N) is int\n",
    "        self.N = N\n",
    "    def __swim(self,idx): # check based on parent to children (argument is last index of the array.)\n",
    "        assert type(idx) is int\n",
    "        assert idx >0 and idx < N+1\n",
    "        while((idx//2)>0):\n",
    "            p = idx//2\n",
    "            if(self.arr[idx]>self.arr[p]):\n",
    "                    self.arr[idx],self.arr[p] = self.arr[p],self.arr[idx]\n",
    "                    idx = p\n",
    "            else:\n",
    "                    break\n",
    "    def __sink(self,idx): # check based on children to parent.\n",
    "        assert type(idx) is int\n",
    "        assert idx>0 and idx<N+1\n",
    "        while((2*idx)<self.N):\n",
    "                child = 2*idx\n",
    "                if(child+1<self.N):\n",
    "                        if(self.arr[child+1]>self.arr[child]):\n",
    "                                child = child+1\n",
    "                        else: \n",
    "                                break\n",
    "                if(self.arr[child]>self.arr[idx]):\n",
    "                        self.arr[child],self.arr[idx] = self.arr[idx],self.arr[child]\n",
    "                        idx = child\n",
    "                else:\n",
    "                        break\n",
    "        \n",
    "    def isEmpty(self):\n",
    "        return len(self.arr)== 1\n",
    "        \n",
    "    def insert(self,key):\n",
    "        self.arr.append(key)\n",
    "        self.__swim(len(arr)-1)\n",
    "        \n",
    "    def remove(self):\n",
    "        if(not self.isEmpty()):\n",
    "                out = self.arr[1]\n",
    "                self.arr[1] = self.arr.pop()\n",
    "                self.__sink(1)\n",
    "                return out\n",
    "        raise Exception(\"Priority Queue is Empty.\")"
   ]
  },
  {
   "cell_type": "markdown",
   "metadata": {},
   "source": [
    "### In an Indexed Priority Queue, we store the information in the three arrays. \n",
    "\n",
    "### 1. keys(Values) - Priority of the elements in the priority queue.\n",
    "### 2. PM(Positional Map) - The heap representation of the priority queue.\n",
    "### 3. IM (Inverse Map) -  Array containing the index of each key in the priority queue"
   ]
  },
  {
   "cell_type": "code",
   "execution_count": null,
   "metadata": {},
   "outputs": [],
   "source": [
    "class IndexedMinPQ:\n",
    "    def __init__(self,N):\n",
    "            self.N = N\n",
    "            self.value = [None for _ in range(self.N)]\n",
    "            self.pm = [None for _ in range(self.N+1)]\n",
    "            self.im = [None for _ in range(self.N)]\n",
    "            self.total = 0\n",
    "    def insert(self,i,val):\n",
    "            assert type(i) is int\n",
    "            if(i>=self.N): \n",
    "                raise IndexError(\"index is out of the range of the indexedmin priority queue.\")\n",
    "            if(self.value[i] is not None):\n",
    "                raise IndexError(\"index is already in the Indexed Min Priority Queue\")\n",
    "            self.total+=1\n",
    "            self.value[i] = val\n",
    "            self.pm[self.total] = i\n",
    "            self.im[i] = self.total\n",
    "            self.__swim(self.total)\n",
    "    def __swim(self,i):   # check based on parent to children (argument is last index of the array).\n",
    "            parent_i = i//2\n",
    "            while(parent_i>0):\n",
    "                    val = self.value[self.pm[i]]\n",
    "                    parent_val = self.value[self.pm[parent_i]]\n",
    "                    if(parent_val<val):\n",
    "                            break\n",
    "                    self.pm[i],self.pm[parent_i] = self.pm[parent_i],self.pm[i]\n",
    "                    self.im[self.pm[i]],self.im[self.pm[parent_i]] = self.im[self.pm[parent_i]],self.im[self.pm[i]]\n",
    "                    i = parent_i\n",
    "                    parent_i = i//2\n",
    "    def __sink(self,i):  # check based on children to parent(argument is the first position of the array.)\n",
    "            child_i = i*2\n",
    "            if(child_i<=self.total):\n",
    "                    val = self.value[self.pm[i]]\n",
    "                    child_val = self.value[self.pm[child_i]]\n",
    "                    other_child_i = child_i+1\n",
    "                    if(other_child_i<self.total):\n",
    "                            other_child_val = self.value[self.pm[other_child_i]]\n",
    "                            if(other_child_val<child_val):\n",
    "                                    child_i = other_child_i\n",
    "                                    child_val = other_child_val\n",
    "                    if(child_val<val):\n",
    "                            self.pm[i],self.pm[child_i] = self.pm[child_i],self.pm[i]\n",
    "                            self.im[self.pm[i]],self.im[self.pm[child_i]] = self.im[self.pm[child_i]],self.im[self.pm[i]]\n",
    "                            self.__sink(child_i)\n",
    "    def isEmpty(self):\n",
    "            return self.total == 0\n",
    "    def decreaseValue(self,i,val):\n",
    "            assert type(i) is int\n",
    "            assert val < self.value[i]\n",
    "            if(i<0 or i>self.N):\n",
    "                    raise IndexError('index i out of the range of IndexedMinPQ')\n",
    "            if(self.value[i] is None):\n",
    "                    raise IndexError('index i is not present in the IndexedMinPQ')\n",
    "            self.value = val\n",
    "            self.__swim(self.im[i])\n",
    "            \n",
    "    def increaseValue(self,i,val):\n",
    "            assert type(i) is int\n",
    "            assert val > self.value[i]\n",
    "            if(i<0 or i>self.N):\n",
    "                    raise IndexError('index i out of the range of IndexedMinPQ')\n",
    "            if(self.value[i] is None):\n",
    "                    raise IndexError('index i is not present in the IndexedMinPQ')\n",
    "            self.value[i] = val\n",
    "            self.__sink(self.im[i])\n",
    "            \n",
    "    def deleteMin(self):\n",
    "            if not self.isEmpty():\n",
    "                    out = self.value[self.pm[1]]\n",
    "                    self.value[self.pm[1]] = None\n",
    "                    self.im[self.pm[1]] = None\n",
    "                    self.pm[1] = self.pm[self.total]\n",
    "                    self.im[self.pm[1]] = 1\n",
    "                    self.pm[self.total] = None\n",
    "                    self.total-=1\n",
    "                    self.__sink(1)\n",
    "                    return out\n",
    "            raise IndexError(\"IndexMinPQ is Empty\")"
   ]
  },
  {
   "cell_type": "code",
   "execution_count": null,
   "metadata": {},
   "outputs": [],
   "source": []
  },
  {
   "cell_type": "code",
   "execution_count": null,
   "metadata": {},
   "outputs": [],
   "source": [
    "class IndexedMaxPQ:\n",
    "    def __init__(self,N):\n",
    "            self.N = N\n",
    "            self.value = [None for _ in range(N)]\n",
    "            self.pm = [None for _ in range(N)]\n",
    "            self.im = [None for _ in range(N)]\n",
    "            self.total = 0\n",
    "    def insert(self,i,val):\n",
    "            assert type(i) is int\n",
    "            if(i>=N):\n",
    "                raise IndexError(\"Index is out of range in the IndexedMaxPQ\")\n",
    "            if(self.value[i] is not None):\n",
    "                raise IndexError(\"Index is already in the IndexedMaxPQ\")\n",
    "            self.total+=1\n",
    "            self.value[i]=val\n",
    "            self.pm[self.total] = i\n",
    "            self.im[i] = self.total\n",
    "            self.__swim(self.total)\n",
    "            \n",
    "    def __swim(self,idx): # check based on parent to children (argument is last index of the array.)\n",
    "            parent_i = idx//2\n",
    "            while(parent_i>0):\n",
    "                    val = self.value[self.pm[idx]]\n",
    "                    parent_val = self.value[self.pm[parent_i]]\n",
    "                    if(val<parent_val):\n",
    "                            break\n",
    "                    self.pm[i],self.pm[parent_i] = self.pm[parent_i],self.pm[i]\n",
    "                    self.im[self.pm[idx]],self.im[self.pm[parent_i]] = self.im[self.pm[parent_i]],self.im[self.pm[i]]\n",
    "                    idx = parent_i\n",
    "                    parent_i = idx//2\n",
    "                    \n",
    "    def __sink(self,idx): # check based on children to parent.(argument is the first index of the array)\n",
    "            child_i = 2*idx\n",
    "            if(child_i<=self.total):\n",
    "                    val = self.value[self.pm[idx]]\n",
    "                    child_val = self.value[self.pm[child_i]]\n",
    "                    other_child_i = child_i+1\n",
    "                    if(other_child_i<=self.total):\n",
    "                            other_child_val = self.value[self.pm[other_child_i]]\n",
    "                            if(other_child_val>child_val):\n",
    "                                    child_i = other_child_i\n",
    "                                    child_val = other_child_val\n",
    "                    if(child_val>val):\n",
    "                            self.pm[i],self.pm[child_i] = self.pm[child_i],self.pm[i]\n",
    "                            self.im[self.pm[i]],self.im[self.pm[child_i]] = self.im[self.pm[child_i]],self.im[self.pm[i]]\n",
    "                            self.__sink(child_i)\n",
    "    def isEmpty(self):\n",
    "            return self.total ==0\n",
    "    def decreaseValue(self,i,val):\n",
    "            assert type(i) is int\n",
    "            assert val<self.value[i]\n",
    "            if(i<0 or i>=self.N):\n",
    "                raise IndexError(\"index is out of range for the IndexedMaxPQ\")\n",
    "            if(self.value[i] is None):\n",
    "                raise IndexError(\"Value is not present for the specified Index in the IndexedMaxPQ\")\n",
    "            self.value[i] = val\n",
    "            self.__swim(self.im[i])\n",
    "    def increaseValue(self,i,val):\n",
    "            assert type(i) is int\n",
    "            assert val>self.value[i]\n",
    "            if(i<0 or i>=self.N):\n",
    "                raise IndexError(\"Index is out of range for the IndexMaxPQ\")\n",
    "            if(self.value[i] is None):\n",
    "                raise IndexError(\"Value is not present for the specified index in the IndexedMaxPQ\")\n",
    "            self.value[i] = val\n",
    "            self.__sink(self.im[i])\n",
    "    def deleteMax(self):\n",
    "            if not self.isEmpty():\n",
    "                    out = self.value[self.pm[1]]\n",
    "                    self.value[self.pm[1]] = None\n",
    "                    self.im[self.pm[1]] = None\n",
    "                    self.pm[1] = self.pm[self.total]\n",
    "                    self.im[self.pm[1]] = 1\n",
    "                    self.pm[self.total] = None\n",
    "                    self.total-=1\n",
    "                    self.sink(1)\n",
    "            raise IndexError(\"IndexedMaxPQ is Empty\")"
   ]
  },
  {
   "cell_type": "code",
   "execution_count": null,
   "metadata": {},
   "outputs": [],
   "source": []
  },
  {
   "cell_type": "code",
   "execution_count": null,
   "metadata": {},
   "outputs": [],
   "source": []
  },
  {
   "cell_type": "code",
   "execution_count": null,
   "metadata": {},
   "outputs": [],
   "source": []
  },
  {
   "cell_type": "code",
   "execution_count": null,
   "metadata": {},
   "outputs": [],
   "source": []
  },
  {
   "cell_type": "code",
   "execution_count": null,
   "metadata": {},
   "outputs": [],
   "source": []
  },
  {
   "cell_type": "code",
   "execution_count": null,
   "metadata": {},
   "outputs": [],
   "source": []
  },
  {
   "cell_type": "code",
   "execution_count": null,
   "metadata": {},
   "outputs": [],
   "source": []
  },
  {
   "cell_type": "code",
   "execution_count": null,
   "metadata": {},
   "outputs": [],
   "source": []
  },
  {
   "cell_type": "code",
   "execution_count": null,
   "metadata": {},
   "outputs": [],
   "source": []
  },
  {
   "cell_type": "code",
   "execution_count": null,
   "metadata": {},
   "outputs": [],
   "source": []
  },
  {
   "cell_type": "code",
   "execution_count": null,
   "metadata": {},
   "outputs": [],
   "source": []
  },
  {
   "cell_type": "code",
   "execution_count": null,
   "metadata": {},
   "outputs": [],
   "source": []
  },
  {
   "cell_type": "code",
   "execution_count": null,
   "metadata": {},
   "outputs": [],
   "source": []
  },
  {
   "cell_type": "code",
   "execution_count": null,
   "metadata": {},
   "outputs": [],
   "source": []
  },
  {
   "cell_type": "code",
   "execution_count": null,
   "metadata": {},
   "outputs": [],
   "source": []
  },
  {
   "cell_type": "code",
   "execution_count": null,
   "metadata": {},
   "outputs": [],
   "source": []
  }
 ],
 "metadata": {
  "kernelspec": {
   "display_name": "Python 3",
   "language": "python",
   "name": "python3"
  },
  "language_info": {
   "codemirror_mode": {
    "name": "ipython",
    "version": 3
   },
   "file_extension": ".py",
   "mimetype": "text/x-python",
   "name": "python",
   "nbconvert_exporter": "python",
   "pygments_lexer": "ipython3",
   "version": "3.7.6"
  }
 },
 "nbformat": 4,
 "nbformat_minor": 4
}
